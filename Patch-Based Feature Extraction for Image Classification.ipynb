{
 "metadata": {
  "name": "07 - Patch-Based Feature Extraction for Image Classification"
 },
 "nbformat": 3,
 "nbformat_minor": 0,
 "worksheets": [
  {
   "cells": [
    {
     "cell_type": "code",
     "collapsed": false,
     "input": [
      "%pylab inline\n",
      "import pylab as pl\n",
      "from sklearn.datasets import fetch_olivetti_faces\n",
      "from sklearn.cross_validation import train_test_split\n",
      "pl.gray()"
     ],
     "language": "python",
     "metadata": {},
     "outputs": []
    },
    {
     "cell_type": "code",
     "collapsed": false,
     "input": [
      "olivetti = fetch_olivetti_faces()\n",
      "faces = olivetti.images\n",
      "faces_train, faces_test, target_train, target_test = train_test_split(\n",
      "    olivetti.images, olivetti.target)"
     ],
     "language": "python",
     "metadata": {},
     "outputs": []
    },
    {
     "cell_type": "code",
     "collapsed": false,
     "input": [
      "pl.imshow(faces_train[0])"
     ],
     "language": "python",
     "metadata": {},
     "outputs": []
    },
    {
     "cell_type": "code",
     "collapsed": false,
     "input": [
      "from sklearn.feature_extraction.image import PatchExtractor"
     ],
     "language": "python",
     "metadata": {},
     "outputs": []
    },
    {
     "cell_type": "code",
     "collapsed": false,
     "input": [
      "pe = PatchExtractor((8, 8), random_state=42)\n",
      "patches = pe.transform(faces_train)"
     ],
     "language": "python",
     "metadata": {},
     "outputs": []
    },
    {
     "cell_type": "code",
     "collapsed": false,
     "input": [
      "patches.shape"
     ],
     "language": "python",
     "metadata": {},
     "outputs": []
    },
    {
     "cell_type": "code",
     "collapsed": false,
     "input": [
      "patches = patches[:100000]"
     ],
     "language": "python",
     "metadata": {},
     "outputs": []
    },
    {
     "cell_type": "code",
     "collapsed": false,
     "input": [
      "n_rows, n_cols = 5, 10\n",
      "\n",
      "for i in range(n_rows):\n",
      "    for j in range(n_cols):\n",
      "        pl.subplot(n_rows, n_cols, i * n_cols + j)\n",
      "        pl.imshow(patches[i * n_cols + j].reshape(8, 8), interpolation='nearest')\n",
      "        pl.axis('off')"
     ],
     "language": "python",
     "metadata": {},
     "outputs": []
    },
    {
     "cell_type": "code",
     "collapsed": false,
     "input": [
      "from sklearn.cluster import MiniBatchKMeans"
     ],
     "language": "python",
     "metadata": {},
     "outputs": []
    },
    {
     "cell_type": "code",
     "collapsed": false,
     "input": [
      "km = MiniBatchKMeans(n_clusters=1000, batch_size=500, verbose=0, n_init=1, random_state=42)\n",
      "% time km.fit(patches.reshape(-1, 64))"
     ],
     "language": "python",
     "metadata": {},
     "outputs": []
    },
    {
     "cell_type": "code",
     "collapsed": false,
     "input": [
      "centroids = km.cluster_centers_\n",
      "centroids.shape"
     ],
     "language": "python",
     "metadata": {},
     "outputs": []
    },
    {
     "cell_type": "code",
     "collapsed": false,
     "input": [
      "for i in range(n_rows):\n",
      "    for j in range(n_cols):\n",
      "        pl.subplot(n_rows, n_cols, i * n_cols + j)\n",
      "        pl.imshow(centroids[i * n_cols + j].reshape(8, 8), interpolation='nearest')\n",
      "        pl.axis('off')"
     ],
     "language": "python",
     "metadata": {},
     "outputs": []
    },
    {
     "cell_type": "code",
     "collapsed": false,
     "input": [
      "projected_patches = np.dot(patches.reshape(-1, 8 * 8), centroids.T)\n",
      "projected_patches.shape"
     ],
     "language": "python",
     "metadata": {},
     "outputs": []
    },
    {
     "cell_type": "code",
     "collapsed": false,
     "input": [
      "thresholds = np.median(projected_patches, axis=0)\n",
      "thresholds.shape"
     ],
     "language": "python",
     "metadata": {},
     "outputs": []
    },
    {
     "cell_type": "code",
     "collapsed": false,
     "input": [
      "thresholded_patches = projected_patches - thresholds\n",
      "thresholded_patches[thresholded_patches < 0] = 0.0"
     ],
     "language": "python",
     "metadata": {},
     "outputs": []
    },
    {
     "cell_type": "code",
     "collapsed": false,
     "input": [
      "np.mean(thresholded_patches > 0)"
     ],
     "language": "python",
     "metadata": {},
     "outputs": []
    },
    {
     "cell_type": "code",
     "collapsed": false,
     "input": [],
     "language": "python",
     "metadata": {},
     "outputs": []
    }
   ],
   "metadata": {}
  }
 ]
}