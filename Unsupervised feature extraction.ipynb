{
 "metadata": {
  "name": ""
 },
 "nbformat": 3,
 "nbformat_minor": 0,
 "worksheets": [
  {
   "cells": [
    {
     "cell_type": "code",
     "collapsed": false,
     "input": [
      "%matplotlib inline\n",
      "import matplotlib.pyplot as plt\n",
      "\n",
      "import numpy as np\n",
      "from sklearn.datasets import load_digits\n",
      "from sklearn.preprocessing import scale\n",
      "from sklearn.cross_validation import train_test_split\n",
      "from sklearn.cross_validation import cross_val_score\n",
      "from sklearn.neural_network import MultilayerPerceptronClassifier\n",
      "from sklearn.linear_model import LogisticRegression"
     ],
     "language": "python",
     "metadata": {},
     "outputs": [],
     "prompt_number": 1
    },
    {
     "cell_type": "code",
     "collapsed": false,
     "input": [
      "digits = load_digits()\n",
      "X_dev, X_eval, y_dev, y_eval = train_test_split(digits.data, digits.target, test_size=0.2)"
     ],
     "language": "python",
     "metadata": {},
     "outputs": [],
     "prompt_number": 2
    },
    {
     "cell_type": "code",
     "collapsed": false,
     "input": [
      "from sklearn.preprocessing import StandardScaler\n",
      "from sklearn.pipeline import Pipeline\n",
      "\n",
      "\n",
      "def make_scaling_lr(**params):\n",
      "    return Pipeline([\n",
      "        ('scaler', StandardScaler()),\n",
      "        ('classifier', LogisticRegression(**params))          \n",
      "    ])\n",
      "\n",
      "\n",
      "def make_scaling_mlp(**params):\n",
      "    return Pipeline([\n",
      "        ('scaler', StandardScaler()),\n",
      "        ('classifier', MultilayerPerceptronClassifier(**params))          \n",
      "    ])"
     ],
     "language": "python",
     "metadata": {},
     "outputs": [],
     "prompt_number": 3
    },
    {
     "cell_type": "code",
     "collapsed": false,
     "input": [
      "lr = make_scaling_lr(C=0.1).fit(X_dev, y_dev)\n",
      "lr.score(X_eval, y_eval)"
     ],
     "language": "python",
     "metadata": {},
     "outputs": [
      {
       "metadata": {},
       "output_type": "pyout",
       "prompt_number": 4,
       "text": [
        "0.94722222222222219"
       ]
      }
     ],
     "prompt_number": 4
    },
    {
     "cell_type": "code",
     "collapsed": false,
     "input": [
      "nn = make_scaling_mlp(n_hidden=100, alpha=1).fit(X_dev, y_dev)\n",
      "nn.score(X_eval, y_eval)"
     ],
     "language": "python",
     "metadata": {},
     "outputs": [
      {
       "metadata": {},
       "output_type": "pyout",
       "prompt_number": 5,
       "text": [
        "0.97222222222222221"
       ]
      }
     ],
     "prompt_number": 5
    },
    {
     "cell_type": "code",
     "collapsed": false,
     "input": [
      "scores = cross_val_score(nn, X_dev, y_dev, cv=5, n_jobs=-1)\n",
      "print(np.mean(scores), np.std(scores))"
     ],
     "language": "python",
     "metadata": {},
     "outputs": [
      {
       "output_type": "stream",
       "stream": "stdout",
       "text": [
        "(0.9735312620983354, 0.015531315639458929)\n"
       ]
      }
     ],
     "prompt_number": 6
    },
    {
     "cell_type": "code",
     "collapsed": false,
     "input": [
      "def shuffle_columns(X, copy=True, seed=None):\n",
      "    rng = np.random.RandomState(seed)\n",
      "    if copy:\n",
      "        X = X.copy()\n",
      "    for i in range(X.shape[1]):\n",
      "        rng.shuffle(X[:, i])\n",
      "    return X\n",
      "\n",
      "\n",
      "def make_membership_pbm(X, seed=0):\n",
      "    rng = np.random.RandomState(seed)\n",
      "    n_samples, n_features = X.shape\n",
      "    shuffle_idx = rng.permutation(2 * n_samples)\n",
      "    \n",
      "    X = np.vstack([X, shuffle_columns(X, seed=seed)])\n",
      "    y = np.concatenate([np.ones(n_samples), -np.ones(n_samples)])\n",
      "    return X[shuffle_idx], y[shuffle_idx]"
     ],
     "language": "python",
     "metadata": {},
     "outputs": [],
     "prompt_number": 7
    },
    {
     "cell_type": "code",
     "collapsed": false,
     "input": [
      "X_mem_dev, y_mem_dev = make_membership_pbm(X_dev)\n",
      "\n",
      "X_mem_dev.shape"
     ],
     "language": "python",
     "metadata": {},
     "outputs": [
      {
       "metadata": {},
       "output_type": "pyout",
       "prompt_number": 8,
       "text": [
        "(2874, 64)"
       ]
      }
     ],
     "prompt_number": 8
    },
    {
     "cell_type": "code",
     "collapsed": false,
     "input": [
      "%%time\n",
      "nn = make_scaling_mlp(n_hidden=100, alpha=1)\n",
      "scores = cross_val_score(nn, X_mem_dev, y_mem_dev, cv=5, n_jobs=-1)\n",
      "print(np.mean(scores), np.std(scores))"
     ],
     "language": "python",
     "metadata": {},
     "outputs": [
      {
       "output_type": "stream",
       "stream": "stdout",
       "text": [
        "(0.9822542039084986, 0.0053224754148663827)\n",
        "CPU times: user 32.5 ms, sys: 31.2 ms, total: 63.7 ms\n",
        "Wall time: 10.7 s\n"
       ]
      }
     ],
     "prompt_number": 9
    },
    {
     "cell_type": "code",
     "collapsed": false,
     "input": [
      "%time _ = nn.fit(X_mem_dev, y_mem_dev)"
     ],
     "language": "python",
     "metadata": {},
     "outputs": [
      {
       "output_type": "stream",
       "stream": "stdout",
       "text": [
        "CPU times: user 8.9 s, sys: 3.97 s, total: 12.9 s\n",
        "Wall time: 4.64 s\n"
       ]
      }
     ],
     "prompt_number": 10
    },
    {
     "cell_type": "code",
     "collapsed": false,
     "input": [
      "from sklearn.utils.extmath import safe_sparse_dot\n",
      "\n",
      "def hidden_activate(nn, X):\n",
      "    a = safe_sparse_dot(X, nn.coef_hidden_) + nn.intercept_hidden_\n",
      "    return nn.activation_func(a)\n",
      "\n",
      "X_dev_1 = hidden_activate(nn.named_steps['classifier'], X_dev)"
     ],
     "language": "python",
     "metadata": {},
     "outputs": [],
     "prompt_number": 11
    },
    {
     "cell_type": "code",
     "collapsed": false,
     "input": [
      "X_mem_dev_2, y_mem_dev_2 = make_membership_pbm(X_dev_1)"
     ],
     "language": "python",
     "metadata": {},
     "outputs": [],
     "prompt_number": 12
    },
    {
     "cell_type": "code",
     "collapsed": false,
     "input": [
      "%%time\n",
      "nn = make_scaling_mlp(n_hidden=100, alpha=1)\n",
      "scores = cross_val_score(nn, X_mem_dev_2, y_mem_dev_2, cv=5, n_jobs=-1)\n",
      "print(np.mean(scores), np.std(scores))"
     ],
     "language": "python",
     "metadata": {},
     "outputs": [
      {
       "output_type": "stream",
       "stream": "stdout",
       "text": [
        "(0.99791243750946834, 0.0013012846498862841)\n",
        "CPU times: user 42 ms, sys: 44 ms, total: 86 ms\n",
        "Wall time: 13.1 s\n"
       ]
      }
     ],
     "prompt_number": 13
    },
    {
     "cell_type": "code",
     "collapsed": false,
     "input": [
      "%%time\n",
      "X_dev_2 = hidden_activate(nn.fit(X_mem_dev_2, y_mem_dev_2).named_steps['classifier'], X_dev_1)"
     ],
     "language": "python",
     "metadata": {},
     "outputs": [
      {
       "output_type": "stream",
       "stream": "stdout",
       "text": [
        "CPU times: user 10.4 s, sys: 3.99 s, total: 14.4 s\n",
        "Wall time: 4.98 s\n"
       ]
      }
     ],
     "prompt_number": 14
    },
    {
     "cell_type": "markdown",
     "metadata": {},
     "source": [
      "Evaluate the benefit of adding the new features:"
     ]
    },
    {
     "cell_type": "code",
     "collapsed": false,
     "input": [
      "cross_val_score(make_scaling_lr(C=1), X_dev, y_dev, cv=5, n_jobs=-1).mean()"
     ],
     "language": "python",
     "metadata": {},
     "outputs": [
      {
       "metadata": {},
       "output_type": "pyout",
       "prompt_number": 15,
       "text": [
        "0.962410472319009"
       ]
      }
     ],
     "prompt_number": 15
    },
    {
     "cell_type": "code",
     "collapsed": false,
     "input": [
      "cross_val_score(make_scaling_lr(C=1), np.hstack([X_dev, X_dev_1]), y_dev, cv=5, n_jobs=-1).mean()"
     ],
     "language": "python",
     "metadata": {},
     "outputs": [
      {
       "metadata": {},
       "output_type": "pyout",
       "prompt_number": 16,
       "text": [
        "0.96310007742934578"
       ]
      }
     ],
     "prompt_number": 16
    },
    {
     "cell_type": "code",
     "collapsed": false,
     "input": [
      "cross_val_score(LogisticRegression(C=1), np.hstack([X_dev, X_dev_1, X_dev_2]), y_dev, cv=5, n_jobs=-1).mean()"
     ],
     "language": "python",
     "metadata": {},
     "outputs": [
      {
       "metadata": {},
       "output_type": "pyout",
       "prompt_number": 17,
       "text": [
        "0.96727884243128126"
       ]
      }
     ],
     "prompt_number": 17
    },
    {
     "cell_type": "code",
     "collapsed": false,
     "input": [
      "cross_val_score(make_scaling_mlp(n_hidden=100, alpha=1.), np.hstack([X_dev, X_dev_1, X_dev_2]), y_dev, cv=5, n_jobs=-1).mean()"
     ],
     "language": "python",
     "metadata": {},
     "outputs": [
      {
       "metadata": {},
       "output_type": "pyout",
       "prompt_number": 18,
       "text": [
        "0.96935733643050725"
       ]
      }
     ],
     "prompt_number": 18
    },
    {
     "cell_type": "markdown",
     "metadata": {},
     "source": [
      "A significant fraction of the signal is preserve by the successive embeddings:"
     ]
    },
    {
     "cell_type": "code",
     "collapsed": false,
     "input": [
      "cross_val_score(make_scaling_lr(C=1), X_dev_1, y_dev, cv=5, n_jobs=-1).mean()"
     ],
     "language": "python",
     "metadata": {},
     "outputs": [
      {
       "metadata": {},
       "output_type": "pyout",
       "prompt_number": 19,
       "text": [
        "0.95544425087108009"
       ]
      }
     ],
     "prompt_number": 19
    },
    {
     "cell_type": "code",
     "collapsed": false,
     "input": [
      "cross_val_score(make_scaling_lr(C=1), X_dev_2, y_dev, cv=5, n_jobs=-1).mean()"
     ],
     "language": "python",
     "metadata": {},
     "outputs": [
      {
       "metadata": {},
       "output_type": "pyout",
       "prompt_number": 20,
       "text": [
        "0.91857094463801781"
       ]
      }
     ],
     "prompt_number": 20
    },
    {
     "cell_type": "code",
     "collapsed": false,
     "input": [
      "cross_val_score(make_scaling_lr(C=1), np.hstack([X_dev_1, X_dev_2]), y_dev, cv=5, n_jobs=-1).mean()"
     ],
     "language": "python",
     "metadata": {},
     "outputs": [
      {
       "metadata": {},
       "output_type": "pyout",
       "prompt_number": 21,
       "text": [
        "0.95683797909407675"
       ]
      }
     ],
     "prompt_number": 21
    },
    {
     "cell_type": "markdown",
     "metadata": {},
     "source": [
      "Compare with random non-linear embedding features:"
     ]
    },
    {
     "cell_type": "code",
     "collapsed": false,
     "input": [
      "rnd = np.random.normal(scale=1., size=(X_dev.shape[1], 200))"
     ],
     "language": "python",
     "metadata": {},
     "outputs": [],
     "prompt_number": 22
    },
    {
     "cell_type": "code",
     "collapsed": false,
     "input": [
      "from sklearn.utils.extmath import logistic_sigmoid\n",
      "\n",
      "X_dev_proj = logistic_sigmoid(np.dot(scale(X_dev), rnd))"
     ],
     "language": "python",
     "metadata": {},
     "outputs": [],
     "prompt_number": 23
    },
    {
     "cell_type": "code",
     "collapsed": false,
     "input": [
      "cross_val_score(make_scaling_lr(C=1), np.hstack([X_dev, X_dev_proj]), y_dev, cv=5, n_jobs=-1).mean()"
     ],
     "language": "python",
     "metadata": {},
     "outputs": [
      {
       "metadata": {},
       "output_type": "pyout",
       "prompt_number": 24,
       "text": [
        "0.96658439798683704"
       ]
      }
     ],
     "prompt_number": 24
    },
    {
     "cell_type": "markdown",
     "metadata": {},
     "source": [
      "Try to use extended features for supervised learning"
     ]
    },
    {
     "cell_type": "code",
     "collapsed": false,
     "input": [
      "len(X_dev)"
     ],
     "language": "python",
     "metadata": {},
     "outputs": [
      {
       "metadata": {},
       "output_type": "pyout",
       "prompt_number": 25,
       "text": [
        "1437"
       ]
      }
     ],
     "prompt_number": 25
    },
    {
     "cell_type": "code",
     "collapsed": false,
     "input": [
      "cross_val_score(make_scaling_lr(C=1), X_dev[:200], y_dev[:200], cv=5, n_jobs=-1).mean()"
     ],
     "language": "python",
     "metadata": {},
     "outputs": [
      {
       "metadata": {},
       "output_type": "pyout",
       "prompt_number": 26,
       "text": [
        "0.84999999999999998"
       ]
      }
     ],
     "prompt_number": 26
    },
    {
     "cell_type": "code",
     "collapsed": false,
     "input": [
      "cross_val_score(make_scaling_lr(C=1), np.hstack([X_dev, X_dev_proj])[:200], y_dev[:200], cv=5, n_jobs=-1).mean()"
     ],
     "language": "python",
     "metadata": {},
     "outputs": [
      {
       "metadata": {},
       "output_type": "pyout",
       "prompt_number": 27,
       "text": [
        "0.85500000000000009"
       ]
      }
     ],
     "prompt_number": 27
    },
    {
     "cell_type": "code",
     "collapsed": false,
     "input": [
      "cross_val_score(make_scaling_lr(C=1), np.hstack([X_dev, X_dev_1, X_dev_2])[:200], y_dev[:200], cv=5, n_jobs=-1).mean()"
     ],
     "language": "python",
     "metadata": {},
     "outputs": [
      {
       "metadata": {},
       "output_type": "pyout",
       "prompt_number": 28,
       "text": [
        "0.85999999999999999"
       ]
      }
     ],
     "prompt_number": 28
    },
    {
     "cell_type": "code",
     "collapsed": false,
     "input": [
      "cross_val_score(make_scaling_mlp(alpha=1), X_dev[:200], y_dev[:200], cv=5, n_jobs=-1).mean()"
     ],
     "language": "python",
     "metadata": {},
     "outputs": [
      {
       "metadata": {},
       "output_type": "pyout",
       "prompt_number": 29,
       "text": [
        "0.89499999999999991"
       ]
      }
     ],
     "prompt_number": 29
    },
    {
     "cell_type": "code",
     "collapsed": false,
     "input": [
      "cross_val_score(make_scaling_mlp(alpha=1), np.hstack([X_dev, X_dev_1, X_dev_2])[:200], y_dev[:200], cv=5, n_jobs=-1).mean()"
     ],
     "language": "python",
     "metadata": {},
     "outputs": [
      {
       "metadata": {},
       "output_type": "pyout",
       "prompt_number": 30,
       "text": [
        "0.87000000000000011"
       ]
      }
     ],
     "prompt_number": 30
    },
    {
     "cell_type": "markdown",
     "metadata": {},
     "source": [
      "Simulating high dim problems with noisy variables"
     ]
    },
    {
     "cell_type": "code",
     "collapsed": false,
     "input": [
      "n_samples_dev, n_features = X_dev.shape\n",
      "n_features_highdim = 1000\n",
      "highdim_proj = np.random.normal(scale=1., size=(n_features, n_features_highdim))\n",
      "noise = np.random.normal(scale=1, size=(n_samples_dev, n_features_highdim))\n",
      "X_highdim_dev = logistic_sigmoid(np.dot(X_dev, highdim_proj)) + noise"
     ],
     "language": "python",
     "metadata": {},
     "outputs": [],
     "prompt_number": 31
    },
    {
     "cell_type": "code",
     "collapsed": false,
     "input": [
      "cross_val_score(make_scaling_lr(C=1), X_highdim_dev, y_dev, cv=5, n_jobs=-1).mean()"
     ],
     "language": "python",
     "metadata": {},
     "outputs": [
      {
       "metadata": {},
       "output_type": "pyout",
       "prompt_number": 32,
       "text": [
        "0.73486498257839716"
       ]
      }
     ],
     "prompt_number": 32
    },
    {
     "cell_type": "code",
     "collapsed": false,
     "input": [
      "from sklearn.decomposition import RandomizedPCA\n",
      "X_highdim_pca_dev = RandomizedPCA(n_components=30).fit_transform(X_highdim_dev)"
     ],
     "language": "python",
     "metadata": {},
     "outputs": [],
     "prompt_number": 49
    },
    {
     "cell_type": "code",
     "collapsed": false,
     "input": [
      "cross_val_score(make_scaling_lr(C=1), X_highdim_pca_dev, y_dev, cv=5, n_jobs=-1).mean()"
     ],
     "language": "python",
     "metadata": {},
     "outputs": [
      {
       "metadata": {},
       "output_type": "pyout",
       "prompt_number": 50,
       "text": [
        "0.84828687572590022"
       ]
      }
     ],
     "prompt_number": 50
    },
    {
     "cell_type": "code",
     "collapsed": false,
     "input": [
      "def nn_transform(X, n_hidden=100):\n",
      "    X_mem_1, y_mem_1 = make_membership_pbm(X)\n",
      "    model_1 = make_scaling_mlp(n_hidden=n_hidden, alpha=1)\n",
      "    model_1.fit(X_mem_1, y_mem_1)\n",
      "    X_1 = hidden_activate(model_1.named_steps['classifier'], X)\n",
      "    \n",
      "    X_mem_2, y_mem_2 = make_membership_pbm(X_1)\n",
      "    model_2 = make_scaling_mlp(n_hidden=n_hidden, alpha=1)\n",
      "    model_2.fit(X_mem_2, y_mem_2)\n",
      "    X_2 = hidden_activate(model_2.named_steps['classifier'], X_1)\n",
      "    return X_1, X_2"
     ],
     "language": "python",
     "metadata": {},
     "outputs": [],
     "prompt_number": 33
    },
    {
     "cell_type": "code",
     "collapsed": false,
     "input": [
      "X_embed_1_dev, X_embed_2_dev = nn_transform(X_highdim_dev)"
     ],
     "language": "python",
     "metadata": {},
     "outputs": [],
     "prompt_number": 34
    },
    {
     "cell_type": "code",
     "collapsed": false,
     "input": [
      "cross_val_score(make_scaling_lr(C=1), X_embed_1_dev, y_dev, cv=5, n_jobs=-1).mean()"
     ],
     "language": "python",
     "metadata": {},
     "outputs": [
      {
       "metadata": {},
       "output_type": "pyout",
       "prompt_number": 35,
       "text": [
        "0.8051829268292684"
       ]
      }
     ],
     "prompt_number": 35
    },
    {
     "cell_type": "code",
     "collapsed": false,
     "input": [
      "cross_val_score(make_scaling_lr(C=1), np.hstack([X_embed_1_dev, X_embed_2_dev]), y_dev, cv=5, n_jobs=-1).mean()"
     ],
     "language": "python",
     "metadata": {},
     "outputs": [
      {
       "metadata": {},
       "output_type": "pyout",
       "prompt_number": 37,
       "text": [
        "0.81213221060782037"
       ]
      }
     ],
     "prompt_number": 37
    },
    {
     "cell_type": "code",
     "collapsed": false,
     "input": [
      "cross_val_score(make_scaling_lr(C=1), np.hstack([X_highdim_dev, X_embed_1_dev, X_embed_2_dev]), y_dev, cv=5, n_jobs=-1).mean()"
     ],
     "language": "python",
     "metadata": {},
     "outputs": [
      {
       "metadata": {},
       "output_type": "pyout",
       "prompt_number": 38,
       "text": [
        "0.79053668215253592"
       ]
      }
     ],
     "prompt_number": 38
    },
    {
     "cell_type": "markdown",
     "metadata": {},
     "source": [
      "Semi supervised predictions"
     ]
    },
    {
     "cell_type": "code",
     "collapsed": false,
     "input": [
      "cross_val_score(make_scaling_lr(C=1), X_highdim_dev[:200], y_dev[:200], cv=5, n_jobs=-1).mean()"
     ],
     "language": "python",
     "metadata": {},
     "outputs": [
      {
       "metadata": {},
       "output_type": "pyout",
       "prompt_number": 39,
       "text": [
        "0.61499999999999999"
       ]
      }
     ],
     "prompt_number": 39
    },
    {
     "cell_type": "code",
     "collapsed": false,
     "input": [
      "cross_val_score(make_scaling_lr(C=1), X_highdim_pca_dev[:200], y_dev[:200], cv=5, n_jobs=-1).mean()"
     ],
     "language": "python",
     "metadata": {},
     "outputs": [
      {
       "metadata": {},
       "output_type": "pyout",
       "prompt_number": 53,
       "text": [
        "0.73999999999999999"
       ]
      }
     ],
     "prompt_number": 53
    },
    {
     "cell_type": "code",
     "collapsed": false,
     "input": [
      "cross_val_score(make_scaling_lr(C=1), np.hstack([X_embed_1_dev, X_embed_2_dev])[:200], y_dev[:200], cv=5, n_jobs=-1).mean()"
     ],
     "language": "python",
     "metadata": {},
     "outputs": [
      {
       "metadata": {},
       "output_type": "pyout",
       "prompt_number": 40,
       "text": [
        "0.72999999999999998"
       ]
      }
     ],
     "prompt_number": 40
    },
    {
     "cell_type": "code",
     "collapsed": false,
     "input": [],
     "language": "python",
     "metadata": {},
     "outputs": []
    }
   ],
   "metadata": {}
  }
 ]
}