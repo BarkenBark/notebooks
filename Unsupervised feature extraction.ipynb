{
 "metadata": {
  "name": ""
 },
 "nbformat": 3,
 "nbformat_minor": 0,
 "worksheets": [
  {
   "cells": [
    {
     "cell_type": "code",
     "collapsed": false,
     "input": [
      "%matplotlib inline\n",
      "import matplotlib.pyplot as plt\n",
      "\n",
      "import numpy as np\n",
      "from sklearn.datasets import load_digits\n",
      "from sklearn.preprocessing import scale\n",
      "from sklearn.cross_validation import train_test_split\n",
      "from sklearn.cross_validation import cross_val_score\n",
      "from sklearn.neural_network import MultilayerPerceptronClassifier\n",
      "from sklearn.linear_model import LogisticRegression"
     ],
     "language": "python",
     "metadata": {},
     "outputs": []
    },
    {
     "cell_type": "code",
     "collapsed": false,
     "input": [
      "digits = load_digits()\n",
      "X_dev, X_eval, y_dev, y_eval = train_test_split(digits.data, digits.target, test_size=0.2)"
     ],
     "language": "python",
     "metadata": {},
     "outputs": []
    },
    {
     "cell_type": "code",
     "collapsed": false,
     "input": [
      "from sklearn.preprocessing import StandardScaler\n",
      "from sklearn.pipeline import Pipeline\n",
      "\n",
      "\n",
      "def make_scaling_lr(**params):\n",
      "    return Pipeline([\n",
      "        ('scaler', StandardScaler()),\n",
      "        ('classifier', LogisticRegression(**params))          \n",
      "    ])\n",
      "\n",
      "\n",
      "def make_scaling_mlp(**params):\n",
      "    return Pipeline([\n",
      "        ('scaler', StandardScaler()),\n",
      "        ('classifier', MultilayerPerceptronClassifier(**params))          \n",
      "    ])"
     ],
     "language": "python",
     "metadata": {},
     "outputs": []
    },
    {
     "cell_type": "code",
     "collapsed": false,
     "input": [
      "def plot_images(images, n_rows=5, n_cols=12):\n",
      "    plt.figure(figsize=(1.2 * n_cols, 1.2 * n_rows))\n",
      "    plt.gray()\n",
      "    for i in range(n_rows):\n",
      "        for j in range(n_cols):\n",
      "            idx = i * n_cols + j\n",
      "            if idx < len(images):\n",
      "                plt.subplot(n_rows, n_cols, i * n_cols + j)\n",
      "                plt.imshow(images[idx].reshape(8, 8), interpolation='nearest')\n",
      "                plt.axis('off')\n",
      "                \n",
      "plot_images(X_dev)"
     ],
     "language": "python",
     "metadata": {},
     "outputs": []
    },
    {
     "cell_type": "code",
     "collapsed": false,
     "input": [
      "lr = make_scaling_lr(C=0.1).fit(X_dev, y_dev)\n",
      "lr.score(X_eval, y_eval)"
     ],
     "language": "python",
     "metadata": {},
     "outputs": []
    },
    {
     "cell_type": "code",
     "collapsed": false,
     "input": [
      "nn = make_scaling_mlp(n_hidden=100, alpha=1).fit(X_dev, y_dev)\n",
      "nn.score(X_eval, y_eval)"
     ],
     "language": "python",
     "metadata": {},
     "outputs": []
    },
    {
     "cell_type": "code",
     "collapsed": false,
     "input": [
      "scores = cross_val_score(nn, X_dev, y_dev, cv=5, n_jobs=-1)\n",
      "print(np.mean(scores), np.std(scores))"
     ],
     "language": "python",
     "metadata": {},
     "outputs": []
    },
    {
     "cell_type": "code",
     "collapsed": false,
     "input": [
      "net = nn.named_steps['classifier']"
     ],
     "language": "python",
     "metadata": {},
     "outputs": []
    },
    {
     "cell_type": "code",
     "collapsed": false,
     "input": [
      "plot_images(nn.named_steps['classifier'].coef_hidden_.T)"
     ],
     "language": "python",
     "metadata": {},
     "outputs": []
    },
    {
     "cell_type": "code",
     "collapsed": false,
     "input": [
      "def shuffle_columns(X, copy=True, seed=None):\n",
      "    rng = np.random.RandomState(seed)\n",
      "    if copy:\n",
      "        X = X.copy()\n",
      "    for i in range(X.shape[1]):\n",
      "        rng.shuffle(X[:, i])\n",
      "    return X\n",
      "\n",
      "\n",
      "def make_membership_pbm(X, seed=None):\n",
      "    rng = np.random.RandomState(seed)\n",
      "    n_samples, n_features = X.shape\n",
      "    shuffle_idx = rng.permutation(2 * n_samples)\n",
      "    \n",
      "    X = np.vstack([X, shuffle_columns(X, seed=seed)])\n",
      "    y = np.concatenate([np.ones(n_samples), -np.ones(n_samples)])\n",
      "    return X[shuffle_idx], y[shuffle_idx]"
     ],
     "language": "python",
     "metadata": {},
     "outputs": []
    },
    {
     "cell_type": "code",
     "collapsed": false,
     "input": [
      "plot_images(shuffle_columns(X_dev))"
     ],
     "language": "python",
     "metadata": {},
     "outputs": []
    },
    {
     "cell_type": "code",
     "collapsed": false,
     "input": [
      "X_mem_dev, y_mem_dev = make_membership_pbm(X_dev)\n",
      "\n",
      "X_mem_dev.shape"
     ],
     "language": "python",
     "metadata": {},
     "outputs": []
    },
    {
     "cell_type": "code",
     "collapsed": false,
     "input": [
      "scores = cross_val_score(make_scaling_lr(C=1), X_mem_dev, y_mem_dev, cv=5)\n",
      "scores.mean(), scores.std()"
     ],
     "language": "python",
     "metadata": {},
     "outputs": []
    },
    {
     "cell_type": "code",
     "collapsed": false,
     "input": [
      "%%time\n",
      "nn_1 = make_scaling_mlp(n_hidden=100, alpha=1)\n",
      "scores = cross_val_score(nn, X_mem_dev, y_mem_dev, cv=5, n_jobs=-1)\n",
      "print(np.mean(scores), np.std(scores))"
     ],
     "language": "python",
     "metadata": {},
     "outputs": []
    },
    {
     "cell_type": "code",
     "collapsed": false,
     "input": [
      "%time _ = nn_1.fit(X_mem_dev, y_mem_dev)"
     ],
     "language": "python",
     "metadata": {},
     "outputs": []
    },
    {
     "cell_type": "code",
     "collapsed": false,
     "input": [
      "from sklearn.utils.extmath import safe_sparse_dot\n",
      "\n",
      "def hidden_activate(nn, X):\n",
      "    a = safe_sparse_dot(X, nn.coef_hidden_) + nn.intercept_hidden_\n",
      "    return nn.activation_func(a)\n",
      "\n",
      "net_1 = nn_1.named_steps['classifier']\n",
      "X_dev_1 = hidden_activate(net_1, X_dev)"
     ],
     "language": "python",
     "metadata": {},
     "outputs": []
    },
    {
     "cell_type": "code",
     "collapsed": false,
     "input": [
      "plot_images(nn.named_steps['classifier'].coef_hidden_.T)"
     ],
     "language": "python",
     "metadata": {},
     "outputs": []
    },
    {
     "cell_type": "code",
     "collapsed": false,
     "input": [
      "X_mem_dev_2, y_mem_dev_2 = make_membership_pbm(X_dev_1)"
     ],
     "language": "python",
     "metadata": {},
     "outputs": []
    },
    {
     "cell_type": "code",
     "collapsed": false,
     "input": [
      "%%time\n",
      "nn_2 = make_scaling_mlp(n_hidden=100, alpha=1)\n",
      "scores = cross_val_score(nn_2, X_mem_dev_2, y_mem_dev_2, cv=5, n_jobs=-1)\n",
      "print(np.mean(scores), np.std(scores))"
     ],
     "language": "python",
     "metadata": {},
     "outputs": []
    },
    {
     "cell_type": "code",
     "collapsed": false,
     "input": [
      "%%time\n",
      "net_2 = nnn_2.fit(X_mem_dev_2, y_mem_dev_2).named_steps['classifier']\n",
      "X_dev_2 = hidden_activate(net_2, X_dev_1)"
     ],
     "language": "python",
     "metadata": {},
     "outputs": []
    },
    {
     "cell_type": "markdown",
     "metadata": {},
     "source": [
      "Evaluate the benefit of adding the new features:"
     ]
    },
    {
     "cell_type": "code",
     "collapsed": false,
     "input": [
      "cross_val_score(make_scaling_lr(C=1),\n",
      "                X_dev, y_dev,\n",
      "                cv=5, n_jobs=-1).mean()"
     ],
     "language": "python",
     "metadata": {},
     "outputs": []
    },
    {
     "cell_type": "code",
     "collapsed": false,
     "input": [
      "cross_val_score(make_scaling_lr(C=1),\n",
      "                np.hstack([X_dev, X_dev_1]), y_dev,\n",
      "                cv=5, n_jobs=-1).mean()"
     ],
     "language": "python",
     "metadata": {},
     "outputs": []
    },
    {
     "cell_type": "code",
     "collapsed": false,
     "input": [
      "cross_val_score(LogisticRegression(C=1),\n",
      "                np.hstack([X_dev, X_dev_1, X_dev_2]), y_dev,\n",
      "                cv=5, n_jobs=-1).mean()"
     ],
     "language": "python",
     "metadata": {},
     "outputs": []
    },
    {
     "cell_type": "code",
     "collapsed": false,
     "input": [
      "cross_val_score(make_scaling_mlp(n_hidden=100, alpha=1.),\n",
      "                np.hstack([X_dev, X_dev_1, X_dev_2]), y_dev,\n",
      "                cv=5, n_jobs=-1).mean()"
     ],
     "language": "python",
     "metadata": {},
     "outputs": []
    },
    {
     "cell_type": "markdown",
     "metadata": {},
     "source": [
      "A significant fraction of the signal is preserve by the successive embeddings:"
     ]
    },
    {
     "cell_type": "code",
     "collapsed": false,
     "input": [
      "cross_val_score(make_scaling_lr(C=1), X_dev_1, y_dev, cv=5, n_jobs=-1).mean()"
     ],
     "language": "python",
     "metadata": {},
     "outputs": []
    },
    {
     "cell_type": "code",
     "collapsed": false,
     "input": [
      "cross_val_score(make_scaling_lr(C=1), X_dev_2, y_dev, cv=5, n_jobs=-1).mean()"
     ],
     "language": "python",
     "metadata": {},
     "outputs": []
    },
    {
     "cell_type": "code",
     "collapsed": false,
     "input": [
      "cross_val_score(make_scaling_lr(C=1), np.hstack([X_dev_1, X_dev_2]), y_dev, cv=5, n_jobs=-1).mean()"
     ],
     "language": "python",
     "metadata": {},
     "outputs": []
    },
    {
     "cell_type": "markdown",
     "metadata": {},
     "source": [
      "Compare with random non-linear embedding features:"
     ]
    },
    {
     "cell_type": "code",
     "collapsed": false,
     "input": [
      "rnd = np.random.normal(scale=1., size=(X_dev.shape[1], 200))"
     ],
     "language": "python",
     "metadata": {},
     "outputs": []
    },
    {
     "cell_type": "code",
     "collapsed": false,
     "input": [
      "from sklearn.utils.extmath import logistic_sigmoid\n",
      "\n",
      "X_dev_proj = logistic_sigmoid(np.dot(scale(X_dev), rnd))"
     ],
     "language": "python",
     "metadata": {},
     "outputs": []
    },
    {
     "cell_type": "code",
     "collapsed": false,
     "input": [
      "cross_val_score(make_scaling_lr(C=1), np.hstack([X_dev, X_dev_proj]), y_dev, cv=5, n_jobs=-1).mean()"
     ],
     "language": "python",
     "metadata": {},
     "outputs": []
    }
   ],
   "metadata": {}
  }
 ]
}