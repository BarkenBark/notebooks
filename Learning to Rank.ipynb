{
 "metadata": {
  "name": ""
 },
 "nbformat": 3,
 "nbformat_minor": 0,
 "worksheets": [
  {
   "cells": [
    {
     "cell_type": "code",
     "collapsed": false,
     "input": [
      "from os.path import expanduser, join\n",
      "import numpy as np\n",
      "\n",
      "from sklearn.externals import joblib\n",
      "from sklearn.datasets import load_svmlight_file\n",
      "\n",
      "from sklearn.ensemble import ExtraTreesRegressor"
     ],
     "language": "python",
     "metadata": {},
     "outputs": [],
     "prompt_number": 17
    },
    {
     "cell_type": "code",
     "collapsed": false,
     "input": [
      "#!rm -rf joblib"
     ],
     "language": "python",
     "metadata": {},
     "outputs": [],
     "prompt_number": 19
    },
    {
     "cell_type": "code",
     "collapsed": false,
     "input": [
      "DATA_FOLDER = expanduser('~/data/MQ2007')\n",
      "\n",
      "memory = joblib.Memory(cachedir='.', mmap_mode='r')"
     ],
     "language": "python",
     "metadata": {},
     "outputs": [],
     "prompt_number": 20
    },
    {
     "cell_type": "code",
     "collapsed": false,
     "input": [
      "@memory.cache\n",
      "def load_fold(subset, fold_idx=1, dtype=np.float32):\n",
      "    filepath = join(DATA_FOLDER, 'Fold%d' % fold_idx, subset + '.txt')\n",
      "    X, y, qid = load_svmlight_file(filepath, dtype=dtype, query_id=True)\n",
      "    return X.toarray(), y, qid"
     ],
     "language": "python",
     "metadata": {},
     "outputs": [],
     "prompt_number": 22
    },
    {
     "cell_type": "code",
     "collapsed": false,
     "input": [
      "X_train_1, y_train_1, qid_train_1 = load_fold('train', fold_idx=1)\n",
      "X_vali_1, y_vali_1, qid_vali_1 = load_fold('vali', fold_idx=1)\n",
      "X_train_2, y_train_2, qid_train_2 = load_fold('train', fold_idx=2)\n",
      "X_vali_2, y_vali_2, qid_vali_2 = load_fold('vali', fold_idx=2)"
     ],
     "language": "python",
     "metadata": {},
     "outputs": [
      {
       "output_type": "stream",
       "stream": "stdout",
       "text": [
        "________________________________________________________________________________\n",
        "[Memory] Calling __main__--volatile-ogrisel-code-notebooks-__ipython-input__.load_fold-alias...\n",
        "load_fold-alias('train', fold_idx=1)\n",
        "__________________________________________________load_fold-alias - 7.8s, 0.1min"
       ]
      },
      {
       "output_type": "stream",
       "stream": "stdout",
       "text": [
        "\n",
        "________________________________________________________________________________\n",
        "[Memory] Calling __main__--volatile-ogrisel-code-notebooks-__ipython-input__.load_fold-alias...\n",
        "load_fold-alias('vali', fold_idx=1)\n",
        "__________________________________________________load_fold-alias - 2.8s, 0.0min"
       ]
      },
      {
       "output_type": "stream",
       "stream": "stdout",
       "text": [
        "\n",
        "________________________________________________________________________________\n",
        "[Memory] Calling __main__--volatile-ogrisel-code-notebooks-__ipython-input__.load_fold-alias...\n",
        "load_fold-alias('train', fold_idx=2)\n",
        "__________________________________________________load_fold-alias - 7.6s, 0.1min"
       ]
      },
      {
       "output_type": "stream",
       "stream": "stdout",
       "text": [
        "\n",
        "________________________________________________________________________________\n",
        "[Memory] Calling __main__--volatile-ogrisel-code-notebooks-__ipython-input__.load_fold-alias...\n",
        "load_fold-alias('vali', fold_idx=2)\n",
        "__________________________________________________load_fold-alias - 3.0s, 0.0min"
       ]
      },
      {
       "output_type": "stream",
       "stream": "stdout",
       "text": [
        "\n"
       ]
      }
     ],
     "prompt_number": 23
    },
    {
     "cell_type": "code",
     "collapsed": false,
     "input": [
      "X_train_1.shape"
     ],
     "language": "python",
     "metadata": {},
     "outputs": [
      {
       "metadata": {},
       "output_type": "pyout",
       "prompt_number": 26,
       "text": [
        "(42158, 46)"
       ]
      }
     ],
     "prompt_number": 26
    },
    {
     "cell_type": "code",
     "collapsed": false,
     "input": [
      "etreg_1 = ExtraTreesRegressor(n_estimators=1000, n_jobs=10).fit(X_train_1, y_train_1)\n",
      "etreg_1.score(X_vali_1, y_vali_1)"
     ],
     "language": "python",
     "metadata": {},
     "outputs": [],
     "prompt_number": "*"
    },
    {
     "cell_type": "code",
     "collapsed": false,
     "input": [],
     "language": "python",
     "metadata": {},
     "outputs": [],
     "prompt_number": "*"
    },
    {
     "cell_type": "code",
     "collapsed": false,
     "input": [],
     "language": "python",
     "metadata": {},
     "outputs": []
    }
   ],
   "metadata": {}
  }
 ]
}