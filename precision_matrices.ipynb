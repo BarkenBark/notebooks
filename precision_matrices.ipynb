{
 "cells": [
  {
   "cell_type": "code",
   "execution_count": 1,
   "metadata": {},
   "outputs": [
    {
     "name": "stderr",
     "output_type": "stream",
     "text": [
      "/home/ogrisel/.virtualenvs/py36/lib/python3.6/site-packages/h5py/__init__.py:36: FutureWarning: Conversion of the second argument of issubdtype from `float` to `np.floating` is deprecated. In future, it will be treated as `np.float64 == np.dtype(float).type`.\n",
      "  from ._conv import register_converters as _register_converters\n"
     ]
    }
   ],
   "source": [
    "%matplotlib inline\n",
    "import numpy as np\n",
    "import matplotlib.pyplot as plt\n",
    "import tensorflow as tf\n",
    "import tensorflow.contrib.eager as tfe"
   ]
  },
  {
   "cell_type": "code",
   "execution_count": 2,
   "metadata": {},
   "outputs": [],
   "source": [
    "try:\n",
    "    tfe.enable_eager_execution()\n",
    "except ValueError:\n",
    "    # Hide the annoying lack of idem-potency.\n",
    "    pass"
   ]
  },
  {
   "cell_type": "code",
   "execution_count": 3,
   "metadata": {},
   "outputs": [],
   "source": [
    "psd_args = dict(\n",
    "    is_non_singular=True,\n",
    "    is_self_adjoint=True,\n",
    "    is_positive_definite=True,\n",
    ")\n",
    "diagonal = tf.pad(tf.ones(3) * tfe.Variable(1.), [[0, 5]])\n",
    "diagonal += tf.pad(tf.ones(5) * tfe.Variable(2.), [[3, 0]])\n",
    "K = tf.linalg.LinearOperatorDiag(diagonal, **psd_args)\n",
    "\n",
    "v1 = tfe.Variable(1.)\n",
    "u1 = tf.pad(v1 * tf.ones([3, 1]), [[0, 5], [0, 0]])\n",
    "K = tf.linalg.LinearOperatorLowRankUpdate(K, u=u1, v=u1, **psd_args)\n",
    "\n",
    "v2 = tfe.Variable(1.)\n",
    "u2 = tf.pad(v2 * tf.ones([5, 1]), [[3, 0], [0, 0]])\n",
    "K = tf.linalg.LinearOperatorLowRankUpdate(K, u=u2, v=u2, **psd_args)"
   ]
  },
  {
   "cell_type": "code",
   "execution_count": 4,
   "metadata": {},
   "outputs": [
    {
     "data": {
      "text/plain": [
       "<tf.Tensor: id=97, shape=(), dtype=float32, numpy=6.1047935>"
      ]
     },
     "execution_count": 4,
     "metadata": {},
     "output_type": "execute_result"
    }
   ],
   "source": [
    "K.log_abs_determinant()"
   ]
  },
  {
   "cell_type": "code",
   "execution_count": 5,
   "metadata": {},
   "outputs": [
    {
     "data": {
      "text/plain": [
       "<tf.Tensor: id=109, shape=(8, 8), dtype=float32, numpy=\n",
       "array([[2., 1., 1., 0., 0., 0., 0., 0.],\n",
       "       [1., 2., 1., 0., 0., 0., 0., 0.],\n",
       "       [1., 1., 2., 0., 0., 0., 0., 0.],\n",
       "       [0., 0., 0., 3., 1., 1., 1., 1.],\n",
       "       [0., 0., 0., 1., 3., 1., 1., 1.],\n",
       "       [0., 0., 0., 1., 1., 3., 1., 1.],\n",
       "       [0., 0., 0., 1., 1., 1., 3., 1.],\n",
       "       [0., 0., 0., 1., 1., 1., 1., 3.]], dtype=float32)>"
      ]
     },
     "execution_count": 5,
     "metadata": {},
     "output_type": "execute_result"
    }
   ],
   "source": [
    "K.matmul(tf.eye(8))"
   ]
  },
  {
   "cell_type": "code",
   "execution_count": 6,
   "metadata": {},
   "outputs": [
    {
     "data": {
      "text/plain": [
       "<matplotlib.image.AxesImage at 0x7f3a5c4b06a0>"
      ]
     },
     "execution_count": 6,
     "metadata": {},
     "output_type": "execute_result"
    },
    {
     "data": {
      "image/png": "[encoded data removed]",
      "text/plain": [
       "<matplotlib.figure.Figure at 0x7f3a5dd31160>"
      ]
     },
     "metadata": {},
     "output_type": "display_data"
    }
   ],
   "source": [
    "plt.matshow(K.matmul(tf.eye(8)))"
   ]
  },
  {
   "cell_type": "code",
   "execution_count": 7,
   "metadata": {},
   "outputs": [
    {
     "data": {
      "text/plain": [
       "8"
      ]
     },
     "execution_count": 7,
     "metadata": {},
     "output_type": "execute_result"
    },
    {
     "data": {
      "image/png": "[encoded data removed]",
      "text/plain": [
       "<matplotlib.figure.Figure at 0x7f3a5dd3cd68>"
      ]
     },
     "metadata": {},
     "output_type": "display_data"
    }
   ],
   "source": [
    "block_boundaries = [0, 5, 8, 10]\n",
    "# block_boundaries = [0]\n",
    "# block_boundaries.append(block_boundaries[-1] + 784 * 10)\n",
    "# block_boundaries.append(block_boundaries[-1] + 10)\n",
    "# block_boundaries.append(block_boundaries[-1] + 10 * 10)\n",
    "# block_boundaries.append(block_boundaries[-1] + 10)\n",
    "# block_boundaries.append(block_boundaries[-1] + 10 * 10)\n",
    "# block_boundaries.append(block_boundaries[-1] + 10)\n",
    "\n",
    "\n",
    "\n",
    "def outer(v):\n",
    "    return tf.matmul(tf.reshape(v, (-1, 1)),\n",
    "                     tf.reshape(v, (1, -1)))\n",
    "\n",
    "\n",
    "def parametrized_precision(block_boundaries):\n",
    "    variables = []\n",
    "    n_params = block_boundaries[-1]\n",
    "    K = tf.zeros(shape=(n_params, n_params))\n",
    "    for i, j in zip(block_boundaries, block_boundaries[1:]):\n",
    "        # Diagonal for the current block\n",
    "        diag_mask_i = np.zeros(n_params, dtype=np.float32)\n",
    "        diag_mask_i[i:j] = 1\n",
    "        diag_mask_i = tf.constant(diag_mask_i)\n",
    "        K_i_var = tfe.Variable(0.5, dtype=np.float32)\n",
    "        K_i = tf.diag(tf.exp(K_i_var) * diag_mask_i)\n",
    "        variables.append(K_i_var)\n",
    "        K += K_i\n",
    "        \n",
    "        # Rank-one for the current parameter block\n",
    "        ro_mask_i = np.zeros(n_params, dtype=np.float32)\n",
    "        ro_mask_i[i:j] = 1\n",
    "        ro_mask_i = tf.constant(ro_mask_i)\n",
    "        ro_var_i = tfe.Variable(1, dtype=np.float32)\n",
    "        ro_i = outer(ro_var_i * ro_mask_i)\n",
    "        variables.append(ro_var_i)\n",
    "        K += ro_i\n",
    "    for i, j in zip(block_boundaries, block_boundaries[2:]):\n",
    "        # Rank-one for consecutive blocks interactions\n",
    "        ro_mask_i = np.zeros(n_params, dtype=np.float32)\n",
    "        ro_mask_i[i:j] = 1\n",
    "        ro_mask_i = tf.constant(ro_mask_i)\n",
    "        ro_var_i = tfe.Variable(1., dtype=np.float32)\n",
    "        ro_i = outer(ro_var_i * ro_mask_i)\n",
    "        variables.append(ro_var_i)\n",
    "        K += ro_i\n",
    "    return variables, K\n",
    "\n",
    "variables, K = parametrized_precision(block_boundaries)\n",
    "\n",
    "fig, ax = plt.subplots(figsize=(8, 8))\n",
    "ax.matshow(K)\n",
    "len(variables)"
   ]
  },
  {
   "cell_type": "code",
   "execution_count": 8,
   "metadata": {},
   "outputs": [
    {
     "data": {
      "text/plain": [
       "<tf.Tensor: id=238, shape=(), dtype=float32, numpy=18083.262>"
      ]
     },
     "execution_count": 8,
     "metadata": {},
     "output_type": "execute_result"
    }
   ],
   "source": [
    "tf.linalg.det(K)"
   ]
  },
  {
   "cell_type": "code",
   "execution_count": 9,
   "metadata": {},
   "outputs": [
    {
     "data": {
      "text/plain": [
       "<tf.Tensor: id=240, shape=(10,), dtype=float32, numpy=\n",
       "array([ 1.6487198,  1.6487209,  1.648721 ,  1.6487212,  1.6487212,\n",
       "        1.6487212,  1.6487213,  4.268642 ,  8.341459 , 15.3360615],\n",
       "      dtype=float32)>"
      ]
     },
     "execution_count": 9,
     "metadata": {},
     "output_type": "execute_result"
    },
    {
     "data": {
      "image/png": "[encoded data removed]",
      "text/plain": [
       "<matplotlib.figure.Figure at 0x7f3a5c4015c0>"
      ]
     },
     "metadata": {},
     "output_type": "display_data"
    }
   ],
   "source": [
    "eigvals = tf.linalg.eigh(K)[0]\n",
    "plt.bar(np.arange(K.numpy().shape[0]), eigvals)\n",
    "eigvals"
   ]
  },
  {
   "cell_type": "code",
   "execution_count": 10,
   "metadata": {},
   "outputs": [],
   "source": [
    "C = tf.linalg.inv(K)\n",
    "# fig, ax = plt.subplots(figsize=(8, 8))\n",
    "# ax.matshow(C)"
   ]
  },
  {
   "cell_type": "code",
   "execution_count": 11,
   "metadata": {},
   "outputs": [],
   "source": [
    "from tensorflow.contrib.distributions import MultivariateNormalFullCovariance\n",
    "\n",
    "\n",
    "model = MultivariateNormalFullCovariance(loc=tf.zeros([C.shape[0]], dtype=np.float32), covariance_matrix=C)"
   ]
  },
  {
   "cell_type": "code",
   "execution_count": 12,
   "metadata": {},
   "outputs": [
    {
     "data": {
      "image/png": "[encoded data removed]",
      "text/plain": [
       "<matplotlib.figure.Figure at 0x7f3a5c38dd68>"
      ]
     },
     "metadata": {},
     "output_type": "display_data"
    }
   ],
   "source": [
    "data = model.sample(100)\n",
    "fig, ax = plt.subplots(figsize=(8, 8))\n",
    "ax.matshow(tf.linalg.inv(tf.matmul(tf.transpose(data), data)));"
   ]
  },
  {
   "cell_type": "code",
   "execution_count": 13,
   "metadata": {},
   "outputs": [],
   "source": [
    "# from sklearn.covariance import graph_lasso\n",
    "\n",
    "# gl = graph_lasso(np.asarray(tf.matmul(tf.transpose(data), data)), 1)\n",
    "# fig, ax = plt.subplots(figsize=(8, 8))\n",
    "# ax.matshow(gl[1])"
   ]
  },
  {
   "cell_type": "code",
   "execution_count": 14,
   "metadata": {},
   "outputs": [
    {
     "data": {
      "image/png": "[encoded data removed]",
      "text/plain": [
       "<matplotlib.figure.Figure at 0x7f3a5c32e518>"
      ]
     },
     "metadata": {},
     "output_type": "display_data"
    }
   ],
   "source": [
    "data_large = model.sample(10000)\n",
    "fig, ax = plt.subplots(figsize=(8, 8))\n",
    "ax.matshow(tf.linalg.inv(tf.matmul(tf.transpose(data_large), data_large)));"
   ]
  }
 ],
 "metadata": {
  "kernelspec": {
   "display_name": "Python 3",
   "language": "python",
   "name": "python3"
  },
  "language_info": {
   "codemirror_mode": {
    "name": "ipython",
    "version": 3
   },
   "file_extension": ".py",
   "mimetype": "text/x-python",
   "name": "python",
   "nbconvert_exporter": "python",
   "pygments_lexer": "ipython3",
   "version": "3.6.1"
  }
 },
 "nbformat": 4,
 "nbformat_minor": 2
}
