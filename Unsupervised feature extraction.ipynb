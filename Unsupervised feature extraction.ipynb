{
 "metadata": {
  "name": ""
 },
 "nbformat": 3,
 "nbformat_minor": 0,
 "worksheets": [
  {
   "cells": [
    {
     "cell_type": "code",
     "collapsed": false,
     "input": [
      "%matplotlib inline\n",
      "import matplotlib.pyplot as plt\n",
      "\n",
      "import numpy as np\n",
      "from sklearn.datasets import load_digits\n",
      "from sklearn.preprocessing import scale\n",
      "from sklearn.cross_validation import train_test_split\n",
      "from sklearn.cross_validation import cross_val_score\n",
      "from sklearn.neural_network import MultilayerPerceptronClassifier\n",
      "from sklearn.linear_model import LogisticRegression"
     ],
     "language": "python",
     "metadata": {},
     "outputs": [],
     "prompt_number": 1
    },
    {
     "cell_type": "code",
     "collapsed": false,
     "input": [
      "digits = load_digits()\n",
      "X_dev, X_eval, y_dev, y_eval = train_test_split(digits.data, digits.target, test_size=0.2)"
     ],
     "language": "python",
     "metadata": {},
     "outputs": [],
     "prompt_number": 2
    },
    {
     "cell_type": "code",
     "collapsed": false,
     "input": [
      "from sklearn.preprocessing import StandardScaler\n",
      "from sklearn.pipeline import Pipeline\n",
      "\n",
      "\n",
      "def make_scaling_lr(**params):\n",
      "    return Pipeline([\n",
      "        ('scaler', StandardScaler()),\n",
      "        ('classifier', LogisticRegression(**params))          \n",
      "    ])\n",
      "\n",
      "\n",
      "def make_scaling_mlp(**params):\n",
      "    return Pipeline([\n",
      "        ('scaler', StandardScaler()),\n",
      "        ('classifier', MultilayerPerceptronClassifier(**params))          \n",
      "    ])"
     ],
     "language": "python",
     "metadata": {},
     "outputs": [],
     "prompt_number": 3
    },
    {
     "cell_type": "code",
     "collapsed": false,
     "input": [
      "def plot_images(images, n_rows=10, n_cols=10):\n",
      "    plt.figure(figsize=(1.2 * n_cols, 1.2 * n_rows))\n",
      "    plt.gray()\n",
      "    for i in range(n_rows):\n",
      "        for j in range(n_cols):\n",
      "            idx = i * n_cols + j\n",
      "            if idx < len(images):\n",
      "                plt.subplot(n_rows, n_cols, i * n_cols + j)\n",
      "                plt.imshow(images[idx].reshape(8, 8), interpolation='nearest')\n",
      "                plt.axis('off')\n",
      "                \n",
      "plot_images(X_dev)"
     ],
     "language": "python",
     "metadata": {},
     "outputs": [
      {
       "metadata": {},
       "output_type": "display_data",
       "png": "[encoded data removed]",
       "text": [
        "<matplotlib.figure.Figure at 0x56740d0>"
       ]
      }
     ],
     "prompt_number": 4
    },
    {
     "cell_type": "code",
     "collapsed": false,
     "input": [
      "lr = make_scaling_lr(C=0.1).fit(X_dev, y_dev)\n",
      "lr.score(X_eval, y_eval)"
     ],
     "language": "python",
     "metadata": {},
     "outputs": [
      {
       "metadata": {},
       "output_type": "pyout",
       "prompt_number": 5,
       "text": [
        "0.95833333333333337"
       ]
      }
     ],
     "prompt_number": 5
    },
    {
     "cell_type": "code",
     "collapsed": false,
     "input": [
      "nn = make_scaling_mlp(n_hidden=100, alpha=1).fit(X_dev, y_dev)\n",
      "nn.score(X_eval, y_eval)"
     ],
     "language": "python",
     "metadata": {},
     "outputs": [
      {
       "metadata": {},
       "output_type": "pyout",
       "prompt_number": 6,
       "text": [
        "0.97777777777777775"
       ]
      }
     ],
     "prompt_number": 6
    },
    {
     "cell_type": "code",
     "collapsed": false,
     "input": [
      "scores = cross_val_score(nn, X_dev, y_dev, cv=5, n_jobs=-1)\n",
      "print(np.mean(scores), np.std(scores))"
     ],
     "language": "python",
     "metadata": {},
     "outputs": [
      {
       "output_type": "stream",
       "stream": "stdout",
       "text": [
        "(0.97425232288037156, 0.0074988538726763893)\n"
       ]
      }
     ],
     "prompt_number": 7
    },
    {
     "cell_type": "code",
     "collapsed": false,
     "input": [
      "net = nn.named_steps['classifier']"
     ],
     "language": "python",
     "metadata": {},
     "outputs": [],
     "prompt_number": 8
    },
    {
     "cell_type": "code",
     "collapsed": false,
     "input": [
      "plot_images(nn.named_steps['classifier'].coef_hidden_.T)"
     ],
     "language": "python",
     "metadata": {},
     "outputs": [
      {
       "metadata": {},
       "output_type": "display_data",
       "png": "[encoded data removed]",
       "text": [
        "<matplotlib.figure.Figure at 0x52e3c90>"
       ]
      }
     ],
     "prompt_number": 9
    },
    {
     "cell_type": "code",
     "collapsed": false,
     "input": [
      "def shuffle_columns(X, copy=True, seed=None):\n",
      "    rng = np.random.RandomState(seed)\n",
      "    if copy:\n",
      "        X = X.copy()\n",
      "    for i in range(X.shape[1]):\n",
      "        rng.shuffle(X[:, i])\n",
      "    return X\n",
      "\n",
      "\n",
      "def make_membership_pbm(X, seed=None):\n",
      "    rng = np.random.RandomState(seed)\n",
      "    n_samples, n_features = X.shape\n",
      "    shuffle_idx = rng.permutation(2 * n_samples)\n",
      "    \n",
      "    X = np.vstack([X, shuffle_columns(X, seed=seed)])\n",
      "    y = np.concatenate([np.ones(n_samples), -np.ones(n_samples)])\n",
      "    return X[shuffle_idx], y[shuffle_idx]"
     ],
     "language": "python",
     "metadata": {},
     "outputs": [],
     "prompt_number": 10
    },
    {
     "cell_type": "code",
     "collapsed": false,
     "input": [
      "plot_images(shuffle_columns(X_dev))"
     ],
     "language": "python",
     "metadata": {},
     "outputs": [
      {
       "metadata": {},
       "output_type": "display_data",
       "png": "[encoded data removed]",
       "text": [
        "<matplotlib.figure.Figure at 0x52f6050>"
       ]
      }
     ],
     "prompt_number": 11
    },
    {
     "cell_type": "code",
     "collapsed": false,
     "input": [
      "X_mem_dev, y_mem_dev = make_membership_pbm(X_dev)\n",
      "\n",
      "X_mem_dev.shape"
     ],
     "language": "python",
     "metadata": {},
     "outputs": [
      {
       "metadata": {},
       "output_type": "pyout",
       "prompt_number": 12,
       "text": [
        "(2874, 64)"
       ]
      }
     ],
     "prompt_number": 12
    },
    {
     "cell_type": "code",
     "collapsed": false,
     "input": [
      "scores = cross_val_score(make_scaling_lr(C=1), X_mem_dev, y_mem_dev, cv=5)\n",
      "scores.mean(), scores.std()"
     ],
     "language": "python",
     "metadata": {},
     "outputs": [
      {
       "metadata": {},
       "output_type": "pyout",
       "prompt_number": 13,
       "text": [
        "(0.41196848962278443, 0.022100786140903182)"
       ]
      }
     ],
     "prompt_number": 13
    },
    {
     "cell_type": "code",
     "collapsed": false,
     "input": [
      "%%time\n",
      "nn_1 = make_scaling_mlp(n_hidden=100, alpha=1)\n",
      "scores = cross_val_score(nn_1, X_mem_dev, y_mem_dev, cv=5, n_jobs=-1)\n",
      "print(np.mean(scores), np.std(scores))"
     ],
     "language": "python",
     "metadata": {},
     "outputs": [
      {
       "output_type": "stream",
       "stream": "stdout",
       "text": [
        "(0.97772882896530844, 0.005334879044271346)\n",
        "CPU times: user 32 ms, sys: 80 ms, total: 112 ms\n",
        "Wall time: 6.32 s\n"
       ]
      }
     ],
     "prompt_number": 126
    },
    {
     "cell_type": "code",
     "collapsed": false,
     "input": [
      "%time _ = nn_1.fit(X_mem_dev, y_mem_dev)"
     ],
     "language": "python",
     "metadata": {},
     "outputs": [
      {
       "output_type": "stream",
       "stream": "stdout",
       "text": [
        "CPU times: user 8.7 s, sys: 80 ms, total: 8.78 s\n",
        "Wall time: 6.75 s\n"
       ]
      }
     ],
     "prompt_number": 127
    },
    {
     "cell_type": "code",
     "collapsed": false,
     "input": [
      "from sklearn.utils.extmath import safe_sparse_dot\n",
      "\n",
      "def hidden_activate(nn, X):\n",
      "    a = safe_sparse_dot(X, nn.coef_hidden_) + nn.intercept_hidden_\n",
      "    return nn.activation_func(a)\n",
      "\n",
      "net_1 = nn_1.named_steps['classifier']\n",
      "X_dev_1 = hidden_activate(net_1, X_dev)"
     ],
     "language": "python",
     "metadata": {},
     "outputs": [],
     "prompt_number": 128
    },
    {
     "cell_type": "code",
     "collapsed": false,
     "input": [
      "plot_images(net_1.coef_hidden_.T)"
     ],
     "language": "python",
     "metadata": {},
     "outputs": [
      {
       "metadata": {},
       "output_type": "display_data",
       "png": "[encoded data removed]",
       "text": [
        "<matplotlib.figure.Figure at 0x845dad0>"
       ]
      }
     ],
     "prompt_number": 129
    },
    {
     "cell_type": "code",
     "collapsed": false,
     "input": [
      "X_mem_dev_2, y_mem_dev_2 = make_membership_pbm(X_dev_1)"
     ],
     "language": "python",
     "metadata": {},
     "outputs": [],
     "prompt_number": 104
    },
    {
     "cell_type": "code",
     "collapsed": false,
     "input": [
      "%%time\n",
      "nn_2 = make_scaling_mlp(n_hidden=100, alpha=1)\n",
      "scores = cross_val_score(nn_2, X_mem_dev_2, y_mem_dev_2, cv=5, n_jobs=-1)\n",
      "print(np.mean(scores), np.std(scores))"
     ],
     "language": "python",
     "metadata": {},
     "outputs": [
      {
       "output_type": "stream",
       "stream": "stdout",
       "text": [
        "(0.99478200272685968, 0.002458645027670302)\n",
        "CPU times: user 16 ms, sys: 84 ms, total: 100 ms\n",
        "Wall time: 7.39 s\n"
       ]
      }
     ],
     "prompt_number": 19
    },
    {
     "cell_type": "code",
     "collapsed": false,
     "input": [
      "%%time\n",
      "net_2 = nn_2.fit(X_mem_dev_2, y_mem_dev_2).named_steps['classifier']\n",
      "X_dev_2 = hidden_activate(net_2, X_dev_1)"
     ],
     "language": "python",
     "metadata": {},
     "outputs": [
      {
       "output_type": "stream",
       "stream": "stdout",
       "text": [
        "CPU times: user 10.7 s, sys: 80 ms, total: 10.8 s\n",
        "Wall time: 7.82 s\n"
       ]
      }
     ],
     "prompt_number": 20
    },
    {
     "cell_type": "markdown",
     "metadata": {},
     "source": [
      "Evaluate the benefit of adding the new features:"
     ]
    },
    {
     "cell_type": "code",
     "collapsed": false,
     "input": [
      "cross_val_score(make_scaling_lr(C=1),\n",
      "                X_dev, y_dev,\n",
      "                cv=5, n_jobs=-1).mean()"
     ],
     "language": "python",
     "metadata": {},
     "outputs": [
      {
       "metadata": {},
       "output_type": "pyout",
       "prompt_number": 21,
       "text": [
        "0.95823412698412702"
       ]
      }
     ],
     "prompt_number": 21
    },
    {
     "cell_type": "code",
     "collapsed": false,
     "input": [
      "cross_val_score(make_scaling_lr(C=1),\n",
      "                np.hstack([X_dev, X_dev_1]), y_dev,\n",
      "                cv=5, n_jobs=-1).mean()"
     ],
     "language": "python",
     "metadata": {},
     "outputs": [
      {
       "metadata": {},
       "output_type": "pyout",
       "prompt_number": 22,
       "text": [
        "0.95825106465350385"
       ]
      }
     ],
     "prompt_number": 22
    },
    {
     "cell_type": "code",
     "collapsed": false,
     "input": [
      "cross_val_score(LogisticRegression(C=1),\n",
      "                np.hstack([X_dev, X_dev_1, X_dev_2]), y_dev,\n",
      "                cv=5, n_jobs=-1).mean()"
     ],
     "language": "python",
     "metadata": {},
     "outputs": [
      {
       "metadata": {},
       "output_type": "pyout",
       "prompt_number": 23,
       "text": [
        "0.96172570654277967"
       ]
      }
     ],
     "prompt_number": 23
    },
    {
     "cell_type": "code",
     "collapsed": false,
     "input": [
      "cross_val_score(make_scaling_mlp(n_hidden=100, alpha=1.),\n",
      "                np.hstack([X_dev, X_dev_1, X_dev_2]), y_dev,\n",
      "                cv=5, n_jobs=-1).mean()"
     ],
     "language": "python",
     "metadata": {},
     "outputs": [
      {
       "metadata": {},
       "output_type": "pyout",
       "prompt_number": 24,
       "text": [
        "0.96868708865660069"
       ]
      }
     ],
     "prompt_number": 24
    },
    {
     "cell_type": "markdown",
     "metadata": {},
     "source": [
      "A significant fraction of the signal is preserve by the successive embeddings:"
     ]
    },
    {
     "cell_type": "code",
     "collapsed": false,
     "input": [
      "cross_val_score(make_scaling_lr(C=1), X_dev_1, y_dev, cv=5, n_jobs=-1).mean()"
     ],
     "language": "python",
     "metadata": {},
     "outputs": [
      {
       "metadata": {},
       "output_type": "pyout",
       "prompt_number": 25,
       "text": [
        "0.95685733643050719"
       ]
      }
     ],
     "prompt_number": 25
    },
    {
     "cell_type": "code",
     "collapsed": false,
     "input": [
      "cross_val_score(make_scaling_lr(C=1), X_dev_2, y_dev, cv=5, n_jobs=-1).mean()"
     ],
     "language": "python",
     "metadata": {},
     "outputs": [
      {
       "metadata": {},
       "output_type": "pyout",
       "prompt_number": 26,
       "text": [
        "0.89840060007742939"
       ]
      }
     ],
     "prompt_number": 26
    },
    {
     "cell_type": "code",
     "collapsed": false,
     "input": [
      "cross_val_score(make_scaling_lr(C=1), np.hstack([X_dev_1, X_dev_2]), y_dev, cv=5, n_jobs=-1).mean()"
     ],
     "language": "python",
     "metadata": {},
     "outputs": [
      {
       "metadata": {},
       "output_type": "pyout",
       "prompt_number": 27,
       "text": [
        "0.95615805265195508"
       ]
      }
     ],
     "prompt_number": 27
    },
    {
     "cell_type": "markdown",
     "metadata": {},
     "source": [
      "Compare with random non-linear embedding features:"
     ]
    },
    {
     "cell_type": "code",
     "collapsed": false,
     "input": [
      "rnd = np.random.normal(scale=1., size=(X_dev.shape[1], 200))"
     ],
     "language": "python",
     "metadata": {},
     "outputs": [],
     "prompt_number": 28
    },
    {
     "cell_type": "code",
     "collapsed": false,
     "input": [
      "from sklearn.utils.extmath import logistic_sigmoid\n",
      "\n",
      "X_dev_proj = logistic_sigmoid(np.dot(scale(X_dev), rnd))"
     ],
     "language": "python",
     "metadata": {},
     "outputs": [],
     "prompt_number": 29
    },
    {
     "cell_type": "code",
     "collapsed": false,
     "input": [
      "cross_val_score(make_scaling_lr(C=1), np.hstack([X_dev, X_dev_proj]), y_dev, cv=5, n_jobs=-1).mean()"
     ],
     "language": "python",
     "metadata": {},
     "outputs": [
      {
       "metadata": {},
       "output_type": "pyout",
       "prompt_number": 30,
       "text": [
        "0.95476432442895853"
       ]
      }
     ],
     "prompt_number": 30
    },
    {
     "cell_type": "markdown",
     "metadata": {},
     "source": [
      "Try to use extended features for supervised learning"
     ]
    },
    {
     "cell_type": "code",
     "collapsed": false,
     "input": [
      "len(X_dev)"
     ],
     "language": "python",
     "metadata": {},
     "outputs": [
      {
       "metadata": {},
       "output_type": "pyout",
       "prompt_number": 31,
       "text": [
        "1437"
       ]
      }
     ],
     "prompt_number": 31
    },
    {
     "cell_type": "code",
     "collapsed": false,
     "input": [
      "cross_val_score(make_scaling_lr(C=1), X_dev[:200], y_dev[:200], cv=5, n_jobs=-1).mean()"
     ],
     "language": "python",
     "metadata": {},
     "outputs": [
      {
       "metadata": {},
       "output_type": "pyout",
       "prompt_number": 32,
       "text": [
        "0.91999999999999993"
       ]
      }
     ],
     "prompt_number": 32
    },
    {
     "cell_type": "code",
     "collapsed": false,
     "input": [
      "cross_val_score(make_scaling_lr(C=1), np.hstack([X_dev, X_dev_proj])[:200], y_dev[:200], cv=5, n_jobs=-1).mean()"
     ],
     "language": "python",
     "metadata": {},
     "outputs": [
      {
       "metadata": {},
       "output_type": "pyout",
       "prompt_number": 33,
       "text": [
        "0.88500000000000001"
       ]
      }
     ],
     "prompt_number": 33
    },
    {
     "cell_type": "code",
     "collapsed": false,
     "input": [
      "cross_val_score(make_scaling_lr(C=1), np.hstack([X_dev, X_dev_1, X_dev_2])[:200], y_dev[:200], cv=5, n_jobs=-1).mean()"
     ],
     "language": "python",
     "metadata": {},
     "outputs": [
      {
       "metadata": {},
       "output_type": "pyout",
       "prompt_number": 34,
       "text": [
        "0.94000000000000006"
       ]
      }
     ],
     "prompt_number": 34
    },
    {
     "cell_type": "code",
     "collapsed": false,
     "input": [
      "cross_val_score(make_scaling_mlp(alpha=1), X_dev[:200], y_dev[:200], cv=5, n_jobs=-1).mean()"
     ],
     "language": "python",
     "metadata": {},
     "outputs": [
      {
       "metadata": {},
       "output_type": "pyout",
       "prompt_number": 35,
       "text": [
        "0.94999999999999996"
       ]
      }
     ],
     "prompt_number": 35
    },
    {
     "cell_type": "code",
     "collapsed": false,
     "input": [
      "cross_val_score(make_scaling_mlp(alpha=1), np.hstack([X_dev, X_dev_1, X_dev_2])[:200], y_dev[:200], cv=5, n_jobs=-1).mean()"
     ],
     "language": "python",
     "metadata": {},
     "outputs": [
      {
       "metadata": {},
       "output_type": "pyout",
       "prompt_number": 36,
       "text": [
        "0.96499999999999986"
       ]
      }
     ],
     "prompt_number": 36
    },
    {
     "cell_type": "markdown",
     "metadata": {},
     "source": [
      "Simulating high dim problems with noisy variables"
     ]
    },
    {
     "cell_type": "code",
     "collapsed": false,
     "input": [
      "n_samples_dev, n_features = X_dev.shape\n",
      "n_features_highdim = 1000\n",
      "highdim_proj = np.random.normal(scale=1., size=(n_features, n_features_highdim))\n",
      "noise = np.random.normal(scale=1, size=(n_samples_dev, n_features_highdim))\n",
      "X_highdim_dev = logistic_sigmoid(np.dot(X_dev, highdim_proj)) + noise"
     ],
     "language": "python",
     "metadata": {},
     "outputs": [],
     "prompt_number": 37
    },
    {
     "cell_type": "code",
     "collapsed": false,
     "input": [
      "cross_val_score(make_scaling_lr(C=1), X_highdim_dev, y_dev, cv=5, n_jobs=-1).mean()"
     ],
     "language": "python",
     "metadata": {},
     "outputs": [
      {
       "metadata": {},
       "output_type": "pyout",
       "prompt_number": 38,
       "text": [
        "0.73554732868757267"
       ]
      }
     ],
     "prompt_number": 38
    },
    {
     "cell_type": "code",
     "collapsed": false,
     "input": [
      "from sklearn.decomposition import RandomizedPCA\n",
      "X_highdim_pca_dev = RandomizedPCA(n_components=30).fit_transform(X_highdim_dev)"
     ],
     "language": "python",
     "metadata": {},
     "outputs": [],
     "prompt_number": 39
    },
    {
     "cell_type": "code",
     "collapsed": false,
     "input": [
      "cross_val_score(make_scaling_lr(C=1), X_highdim_pca_dev, y_dev, cv=5, n_jobs=-1).mean()"
     ],
     "language": "python",
     "metadata": {},
     "outputs": [
      {
       "metadata": {},
       "output_type": "pyout",
       "prompt_number": 40,
       "text": [
        "0.84269986449864498"
       ]
      }
     ],
     "prompt_number": 40
    },
    {
     "cell_type": "code",
     "collapsed": false,
     "input": [
      "def nn_transform(X, n_hidden=100):\n",
      "    X_mem_1, y_mem_1 = make_membership_pbm(X)\n",
      "    model_1 = make_scaling_mlp(n_hidden=n_hidden, alpha=1)\n",
      "    model_1.fit(X_mem_1, y_mem_1)\n",
      "    X_1 = hidden_activate(model_1.named_steps['classifier'], X)\n",
      "    \n",
      "    X_mem_2, y_mem_2 = make_membership_pbm(X_1)\n",
      "    model_2 = make_scaling_mlp(n_hidden=n_hidden, alpha=1)\n",
      "    model_2.fit(X_mem_2, y_mem_2)\n",
      "    X_2 = hidden_activate(model_2.named_steps['classifier'], X_1)\n",
      "    return X_1, X_2"
     ],
     "language": "python",
     "metadata": {},
     "outputs": [],
     "prompt_number": 41
    },
    {
     "cell_type": "code",
     "collapsed": false,
     "input": [
      "X_embed_1_dev, X_embed_2_dev = nn_transform(X_highdim_dev)"
     ],
     "language": "python",
     "metadata": {},
     "outputs": [],
     "prompt_number": 42
    },
    {
     "cell_type": "code",
     "collapsed": false,
     "input": [
      "cross_val_score(make_scaling_lr(C=1), X_embed_1_dev, y_dev, cv=5, n_jobs=-1).mean()"
     ],
     "language": "python",
     "metadata": {},
     "outputs": [
      {
       "metadata": {},
       "output_type": "pyout",
       "prompt_number": 43,
       "text": [
        "0.81486885404568332"
       ]
      }
     ],
     "prompt_number": 43
    },
    {
     "cell_type": "code",
     "collapsed": false,
     "input": [
      "cross_val_score(make_scaling_lr(C=1), np.hstack([X_embed_1_dev, X_embed_2_dev]), y_dev, cv=5, n_jobs=-1).mean()"
     ],
     "language": "python",
     "metadata": {},
     "outputs": [
      {
       "metadata": {},
       "output_type": "pyout",
       "prompt_number": 44,
       "text": [
        "0.8176708284939993"
       ]
      }
     ],
     "prompt_number": 44
    },
    {
     "cell_type": "code",
     "collapsed": false,
     "input": [
      "cross_val_score(make_scaling_lr(C=1), np.hstack([X_highdim_dev, X_embed_1_dev, X_embed_2_dev]), y_dev, cv=5, n_jobs=-1).mean()"
     ],
     "language": "python",
     "metadata": {},
     "outputs": [
      {
       "metadata": {},
       "output_type": "pyout",
       "prompt_number": 45,
       "text": [
        "0.78704752226093677"
       ]
      }
     ],
     "prompt_number": 45
    },
    {
     "cell_type": "markdown",
     "metadata": {},
     "source": [
      "Semi supervised predictions"
     ]
    },
    {
     "cell_type": "code",
     "collapsed": false,
     "input": [
      "cross_val_score(make_scaling_lr(C=1), X_highdim_dev[:200], y_dev[:200], cv=5, n_jobs=-1).mean()"
     ],
     "language": "python",
     "metadata": {},
     "outputs": [
      {
       "metadata": {},
       "output_type": "pyout",
       "prompt_number": 46,
       "text": [
        "0.69499999999999995"
       ]
      }
     ],
     "prompt_number": 46
    },
    {
     "cell_type": "code",
     "collapsed": false,
     "input": [
      "cross_val_score(make_scaling_lr(C=1), X_highdim_pca_dev[:200], y_dev[:200], cv=5, n_jobs=-1).mean()"
     ],
     "language": "python",
     "metadata": {},
     "outputs": [
      {
       "metadata": {},
       "output_type": "pyout",
       "prompt_number": 47,
       "text": [
        "0.78999999999999981"
       ]
      }
     ],
     "prompt_number": 47
    },
    {
     "cell_type": "code",
     "collapsed": false,
     "input": [
      "cross_val_score(make_scaling_lr(C=1), np.hstack([X_embed_1_dev, X_embed_2_dev])[:200], y_dev[:200], cv=5, n_jobs=-1).mean()"
     ],
     "language": "python",
     "metadata": {},
     "outputs": [
      {
       "metadata": {},
       "output_type": "pyout",
       "prompt_number": 48,
       "text": [
        "0.84499999999999997"
       ]
      }
     ],
     "prompt_number": 48
    }
   ],
   "metadata": {}
  }
 ]
}