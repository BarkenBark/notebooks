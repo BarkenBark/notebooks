{
 "metadata": {
  "name": "",
  "signature": "sha256:6a09f9cf78ffd9f9f8553c7c218f519478442d7170190f5805a926724e241562"
 },
 "nbformat": 3,
 "nbformat_minor": 0,
 "worksheets": [
  {
   "cells": [
    {
     "cell_type": "heading",
     "level": 1,
     "metadata": {},
     "source": [
      "Demo of some Python profilers"
     ]
    },
    {
     "cell_type": "heading",
     "level": 2,
     "metadata": {},
     "source": [
      "Installation"
     ]
    },
    {
     "cell_type": "code",
     "collapsed": false,
     "input": [
      "!pip install line_profiler pyinstrument memory_profiler"
     ],
     "language": "python",
     "metadata": {},
     "outputs": [
      {
       "output_type": "stream",
       "stream": "stdout",
       "text": [
        "\u001b[33m--download-cache has been deprecated and will be removed in  the future. Pip now automatically uses and configures its cache.\r\n",
        "\u001b[0m"
       ]
      },
      {
       "output_type": "stream",
       "stream": "stdout",
       "text": [
        "Requirement already satisfied (use --upgrade to upgrade): line-profiler in /Users/ogrisel/venvs/py34/lib/python3.4/site-packages\r\n",
        "Requirement already satisfied (use --upgrade to upgrade): pyinstrument in /Users/ogrisel/venvs/py34/src/pyinstrument\r\n",
        "Requirement already satisfied (use --upgrade to upgrade): memory-profiler in /Users/ogrisel/code/memory_profiler\r\n",
        "Cleaning up...\r\n"
       ]
      }
     ],
     "prompt_number": 4
    },
    {
     "cell_type": "heading",
     "level": 2,
     "metadata": {},
     "source": [
      "Some test program"
     ]
    },
    {
     "cell_type": "code",
     "collapsed": false,
     "input": [
      "!cat some_script.py"
     ],
     "language": "python",
     "metadata": {},
     "outputs": [
      {
       "output_type": "stream",
       "stream": "stdout",
       "text": [
        "import numpy as np\r\n",
        "\r\n",
        "data = np.random.randn(1000, 500)\r\n",
        "operator = np.random.randn(500, 500)\r\n",
        "\r\n",
        "\r\n",
        "def inner_function(data):\r\n",
        "    data -= np.median(data, axis=1)[:, np.newaxis]\r\n",
        "    rows_sums = data.sum(axis=1)\r\n",
        "    data[rows_sums < 0] *= 2\r\n",
        "    data += np.random.randn(*data.shape)\r\n",
        "\r\n",
        "\r\n",
        "def some_function(data, n_iter=10):\r\n",
        "    for i in range(n_iter):\r\n",
        "        inner_function(data)\r\n",
        "        data = np.dot(data, operator)\r\n",
        "\r\n",
        "\r\n",
        "if __name__ == '__main__':\r\n",
        "    some_function(data)\r\n"
       ]
      }
     ],
     "prompt_number": 5
    },
    {
     "cell_type": "code",
     "collapsed": false,
     "input": [
      "from some_script import *"
     ],
     "language": "python",
     "metadata": {},
     "outputs": [],
     "prompt_number": 6
    },
    {
     "cell_type": "heading",
     "level": 2,
     "metadata": {},
     "source": [
      "Basic timing"
     ]
    },
    {
     "cell_type": "code",
     "collapsed": false,
     "input": [
      "!time -p python some_script.py"
     ],
     "language": "python",
     "metadata": {},
     "outputs": [
      {
       "output_type": "stream",
       "stream": "stdout",
       "text": [
        "real 0.81\r\n",
        "user 1.21\r\n",
        "sys 0.22\r\n"
       ]
      }
     ],
     "prompt_number": 9
    },
    {
     "cell_type": "code",
     "collapsed": false,
     "input": [
      "%time some_function(data)"
     ],
     "language": "python",
     "metadata": {},
     "outputs": [
      {
       "output_type": "stream",
       "stream": "stdout",
       "text": [
        "CPU times: user 919 ms, sys: 159 ms, total: 1.08 s\n",
        "Wall time: 566 ms\n"
       ]
      }
     ],
     "prompt_number": 10
    },
    {
     "cell_type": "code",
     "collapsed": false,
     "input": [
      "%timeit some_function(data[:10])"
     ],
     "language": "python",
     "metadata": {},
     "outputs": [
      {
       "output_type": "stream",
       "stream": "stdout",
       "text": [
        "100 loops, best of 3: 10.6 ms per loop\n"
       ]
      }
     ],
     "prompt_number": 11
    },
    {
     "cell_type": "heading",
     "level": 2,
     "metadata": {},
     "source": [
      "Builtin cProfile"
     ]
    },
    {
     "cell_type": "code",
     "collapsed": false,
     "input": [
      "%prun some_function(data)"
     ],
     "language": "python",
     "metadata": {},
     "outputs": [
      {
       "output_type": "stream",
       "stream": "stdout",
       "text": [
        " "
       ]
      }
     ],
     "prompt_number": 12
    },
    {
     "cell_type": "heading",
     "level": 2,
     "metadata": {},
     "source": [
      "PyInstrument a sampling profiler"
     ]
    },
    {
     "cell_type": "code",
     "collapsed": false,
     "input": [
      "!pyinstrument some_script.py"
     ],
     "language": "python",
     "metadata": {},
     "outputs": [
      {
       "output_type": "stream",
       "stream": "stdout",
       "text": [
        "\u001b[31m0.760\u001b[0m <module>  \u001b[2msome_script.py:1\u001b[0m\r\n",
        "\u251c\u2500 \u001b[31m0.576\u001b[0m some_function  \u001b[2msome_script.py:14\u001b[0m\r\n",
        "\u2502  \u2514\u2500 \u001b[33m0.383\u001b[0m inner_function  \u001b[2msome_script.py:7\u001b[0m\r\n",
        "\u2502     \u251c\u2500 \u001b[32m0.078\u001b[0m median  \u001b[2mnumpy/lib/function_base.py:2600\u001b[0m\r\n",
        "\u2502     \u2502  \u2514\u2500 \u001b[32m0.078\u001b[0m partition  \u001b[2mnumpy/core/fromnumeric.py:537\u001b[0m\r\n",
        "\u2502     \u2514\u2500 \u001b[92m\u001b[2m0.015\u001b[0m _sum  \u001b[2mnumpy/core/_methods.py:23\u001b[0m\r\n",
        "\u2514\u2500 \u001b[33m0.154\u001b[0m _find_and_load  \u001b[2m<frozen importlib._bootstrap>:2234\u001b[0m\r\n",
        "   \u2514\u2500 \u001b[33m0.154\u001b[0m _find_and_load_unlocked  \u001b[2m<frozen importlib._bootstrap>:2207\u001b[0m\r\n",
        "      \u2514\u2500 \u001b[33m0.154\u001b[0m _load_unlocked  \u001b[2m<frozen importlib._bootstrap>:1186\u001b[0m\r\n",
        "         \u2514\u2500 \u001b[33m0.154\u001b[0m _exec  \u001b[2m<frozen importlib._bootstrap>:1122\u001b[0m\r\n",
        "            \u2514\u2500 \u001b[33m0.154\u001b[0m exec_module  \u001b[2m<frozen importlib._bootstrap>:1465\u001b[0m\r\n",
        "               \u2514\u2500 \u001b[33m0.152\u001b[0m _call_with_frames_removed  \u001b[2m<frozen importlib._bootstrap>:313\u001b[0m\r\n",
        "                  \u2514\u2500 \u001b[33m0.152\u001b[0m <module>  \u001b[2mnumpy/__init__.py:106\u001b[0m\r\n",
        "                     \u2514\u2500 \u001b[32m0.150\u001b[0m _handle_fromlist  \u001b[2m<frozen importlib._bootstrap>:2264\u001b[0m\r\n",
        "                        \u2514\u2500 \u001b[32m0.150\u001b[0m _call_with_frames_removed  \u001b[2m<frozen importlib._bootstrap>:313\u001b[0m\r\n",
        "                           \u2514\u2500 \u001b[32m0.150\u001b[0m _find_and_load  \u001b[2m<frozen importlib._bootstrap>:2234\u001b[0m\r\n",
        "                              \u2514\u2500 \u001b[32m0.150\u001b[0m _find_and_load_unlocked  \u001b[2m<frozen importlib._bootstrap>:2207\u001b[0m\r\n",
        "                                 \u2514\u2500 \u001b[32m0.150\u001b[0m _load_unlocked  \u001b[2m<frozen importlib._bootstrap>:1186\u001b[0m\r\n",
        "                                    \u2514\u2500 \u001b[32m0.149\u001b[0m _exec  \u001b[2m<frozen importlib._bootstrap>:1122\u001b[0m\r\n",
        "                                       \u2514\u2500 \u001b[32m0.149\u001b[0m exec_module  \u001b[2m<frozen importlib._bootstrap>:1465\u001b[0m\r\n",
        "                                          \u2514\u2500 \u001b[32m0.147\u001b[0m _call_with_frames_removed  \u001b[2m<frozen importlib._bootstrap>:313\u001b[0m\r\n",
        "                                             \u251c\u2500 \u001b[32m0.090\u001b[0m <module>  \u001b[2mnumpy/add_newdocs.py:10\u001b[0m\r\n",
        "                                             \u2502  \u2514\u2500 \u001b[32m0.083\u001b[0m _find_and_load  \u001b[2m<frozen importlib._bootstrap>:2234\u001b[0m\r\n",
        "                                             \u2502     \u2514\u2500 \u001b[32m0.083\u001b[0m _find_and_load_unlocked  \u001b[2m<frozen importlib._bootstrap>:2207\u001b[0m\r\n",
        "                                             \u2502        \u2514\u2500 \u001b[32m0.083\u001b[0m _load_unlocked  \u001b[2m<frozen importlib._bootstrap>:1186\u001b[0m\r\n",
        "                                             \u2502           \u2514\u2500 \u001b[32m0.082\u001b[0m _exec  \u001b[2m<frozen importlib._bootstrap>:1122\u001b[0m\r\n",
        "                                             \u2502              \u2514\u2500 \u001b[32m0.082\u001b[0m exec_module  \u001b[2m<frozen importlib._bootstrap>:1465\u001b[0m\r\n",
        "                                             \u2502                 \u2514\u2500 \u001b[32m0.082\u001b[0m _call_with_frames_removed  \u001b[2m<frozen importlib._bootstrap>:313\u001b[0m\r\n",
        "                                             \u2502                    \u2514\u2500 \u001b[32m0.082\u001b[0m <module>  \u001b[2mnumpy/lib/__init__.py:1\u001b[0m\r\n",
        "                                             \u2502                       \u2514\u2500 \u001b[32m0.082\u001b[0m _find_and_load  \u001b[2m<frozen importlib._bootstrap>:2234\u001b[0m\r\n",
        "                                             \u2502                          \u2514\u2500 \u001b[32m0.082\u001b[0m _find_and_load_unlocked  \u001b[2m<frozen importlib._bootstrap>:2207\u001b[0m\r\n",
        "                                             \u2502                             \u2514\u2500 \u001b[32m0.080\u001b[0m _load_unlocked  \u001b[2m<frozen importlib._bootstrap>:1186\u001b[0m\r\n",
        "                                             \u2502                                \u2514\u2500 \u001b[32m0.080\u001b[0m _exec  \u001b[2m<frozen importlib._bootstrap>:1122\u001b[0m\r\n",
        "                                             \u2502                                   \u2514\u2500 \u001b[32m0.080\u001b[0m exec_module  \u001b[2m<frozen importlib._bootstrap>:1465\u001b[0m\r\n",
        "                                             \u2502                                      \u251c\u2500 \u001b[32m0.071\u001b[0m _call_with_frames_removed  \u001b[2m<frozen importlib._bootstrap>:313\u001b[0m\r\n",
        "                                             \u2502                                      \u2502  \u2514\u2500 \u001b[32m0.058\u001b[0m <module>  \u001b[2mnumpy/lib/type_check.py:3\u001b[0m\r\n",
        "                                             \u2502                                      \u2502     \u2514\u2500 \u001b[32m0.058\u001b[0m _find_and_load  \u001b[2m<frozen importlib._bootstrap>:2234\u001b[0m\r\n",
        "                                             \u2502                                      \u2502        \u2514\u2500 \u001b[32m0.058\u001b[0m _find_and_load_unlocked  \u001b[2m<frozen importlib._bootstrap>:2207\u001b[0m\r\n",
        "                                             \u2502                                      \u2502           \u2514\u2500 \u001b[32m0.058\u001b[0m _call_with_frames_removed  \u001b[2m<frozen importlib._bootstrap>:313\u001b[0m\r\n",
        "                                             \u2502                                      \u2502              \u2514\u2500 \u001b[32m0.058\u001b[0m _find_and_load  \u001b[2m<frozen importlib._bootstrap>:2234\u001b[0m\r\n",
        "                                             \u2502                                      \u2502                 \u2514\u2500 \u001b[32m0.058\u001b[0m _find_and_load_unlocked  \u001b[2m<frozen importlib._bootstrap>:2207\u001b[0m\r\n",
        "                                             \u2502                                      \u2502                    \u2514\u2500 \u001b[32m0.058\u001b[0m _load_unlocked  \u001b[2m<frozen importlib._bootstrap>:1186\u001b[0m\r\n",
        "                                             \u2502                                      \u2502                       \u2514\u2500 \u001b[32m0.057\u001b[0m _exec  \u001b[2m<frozen importlib._bootstrap>:1122\u001b[0m\r\n",
        "                                             \u2502                                      \u2502                          \u2514\u2500 \u001b[32m0.057\u001b[0m exec_module  \u001b[2m<frozen importlib._bootstrap>:1465\u001b[0m\r\n",
        "                                             \u2502                                      \u2502                             \u2514\u2500 \u001b[32m0.057\u001b[0m _call_with_frames_removed  \u001b[2m<frozen importlib._bootstrap>:313\u001b[0m\r\n",
        "                                             \u2502                                      \u2502                                \u2514\u2500 \u001b[32m0.057\u001b[0m <module>  \u001b[2mnumpy/core/__init__.py:1\u001b[0m\r\n",
        "                                             \u2502                                      \u2502                                   \u251c\u2500 \u001b[92m\u001b[2m0.028\u001b[0m _find_and_load  \u001b[2m<frozen importlib._bootstrap>:2234\u001b[0m\r\n",
        "                                             \u2502                                      \u2502                                   \u2502  \u2514\u2500 \u001b[92m\u001b[2m0.028\u001b[0m _find_and_load_unlocked  \u001b[2m<frozen importlib._bootstrap>:2207\u001b[0m\r\n",
        "                                             \u2502                                      \u2502                                   \u2502     \u2514\u2500 \u001b[92m\u001b[2m0.027\u001b[0m _load_unlocked  \u001b[2m<frozen importlib._bootstrap>:1186\u001b[0m\r\n",
        "                                             \u2502                                      \u2502                                   \u2502        \u2514\u2500 \u001b[92m\u001b[2m0.027\u001b[0m _exec  \u001b[2m<frozen importlib._bootstrap>:1122\u001b[0m\r\n",
        "                                             \u2502                                      \u2502                                   \u2502           \u2514\u2500 \u001b[92m\u001b[2m0.027\u001b[0m exec_module  \u001b[2m<frozen importlib._bootstrap>:1465\u001b[0m\r\n",
        "                                             \u2502                                      \u2502                                   \u2502              \u2514\u2500 \u001b[92m\u001b[2m0.025\u001b[0m _call_with_frames_removed  \u001b[2m<frozen importlib._bootstrap>:313\u001b[0m\r\n",
        "                                             \u2502                                      \u2502                                   \u2502                 \u2514\u2500 \u001b[92m\u001b[2m0.025\u001b[0m <module>  \u001b[2mnumpy/testing/__init__.py:7\u001b[0m\r\n",
        "                                             \u2502                                      \u2502                                   \u2502                    \u2514\u2500 \u001b[92m\u001b[2m0.024\u001b[0m _find_and_load  \u001b[2m<frozen importlib._bootstrap>:2234\u001b[0m\r\n",
        "                                             \u2502                                      \u2502                                   \u2502                       \u2514\u2500 \u001b[92m\u001b[2m0.022\u001b[0m _find_and_load_unlocked  \u001b[2m<frozen importlib._bootstrap>:2207\u001b[0m\r\n",
        "                                             \u2502                                      \u2502                                   \u2502                          \u2514\u2500 \u001b[92m\u001b[2m0.021\u001b[0m _load_unlocked  \u001b[2m<frozen importlib._bootstrap>:1186\u001b[0m\r\n",
        "                                             \u2502                                      \u2502                                   \u2502                             \u2514\u2500 \u001b[92m\u001b[2m0.021\u001b[0m _exec  \u001b[2m<frozen importlib._bootstrap>:1122\u001b[0m\r\n",
        "                                             \u2502                                      \u2502                                   \u2502                                \u2514\u2500 \u001b[92m\u001b[2m0.021\u001b[0m exec_module  \u001b[2m<frozen importlib._bootstrap>:1465\u001b[0m\r\n",
        "                                             \u2502                                      \u2502                                   \u2502                                   \u2514\u2500 \u001b[92m\u001b[2m0.019\u001b[0m _call_with_frames_removed  \u001b[2m<frozen importlib._bootstrap>:313\u001b[0m\r\n",
        "                                             \u2502                                      \u2502                                   \u2502                                      \u2514\u2500 \u001b[92m\u001b[2m0.019\u001b[0m <module>  \u001b[2munittest/__init__.py:45\u001b[0m\r\n",
        "                                             \u2502                                      \u2502                                   \u2502                                         \u2514\u2500 \u001b[92m\u001b[2m0.019\u001b[0m _find_and_load  \u001b[2m<frozen importlib._bootstrap>:2234\u001b[0m\r\n",
        "                                             \u2502                                      \u2502                                   \u2502                                            \u2514\u2500 \u001b[92m\u001b[2m0.019\u001b[0m _find_and_load_unlocked  \u001b[2m<frozen importlib._bootstrap>:2207\u001b[0m\r\n",
        "                                             \u2502                                      \u2502                                   \u2502                                               \u2514\u2500 \u001b[92m\u001b[2m0.019\u001b[0m _load_unlocked  \u001b[2m<frozen importlib._bootstrap>:1186\u001b[0m\r\n",
        "                                             \u2502                                      \u2502                                   \u2502                                                  \u2514\u2500 \u001b[92m\u001b[2m0.019\u001b[0m _exec  \u001b[2m<frozen importlib._bootstrap>:1122\u001b[0m\r\n",
        "                                             \u2502                                      \u2502                                   \u2502                                                     \u2514\u2500 \u001b[92m\u001b[2m0.019\u001b[0m exec_module  \u001b[2m<frozen importlib._bootstrap>:1465\u001b[0m\r\n",
        "                                             \u2502                                      \u2502                                   \u2502                                                        \u2514\u2500 \u001b[92m\u001b[2m0.015\u001b[0m _call_with_frames_removed  \u001b[2m<frozen importlib._bootstrap>:313\u001b[0m\r\n",
        "                                             \u2502                                      \u2502                                   \u2502                                                           \u2514\u2500 \u001b[92m\u001b[2m0.010\u001b[0m <module>  \u001b[2munittest/case.py:1\u001b[0m\r\n",
        "                                             \u2502                                      \u2502                                   \u2502                                                              \u2514\u2500 \u001b[92m\u001b[2m0.008\u001b[0m _find_and_load  \u001b[2m<frozen importlib._bootstrap>:2234\u001b[0m\r\n",
        "                                             \u2502                                      \u2502                                   \u2502                                                                 \u2514\u2500 \u001b[92m\u001b[2m0.008\u001b[0m _find_and_load_unlocked  \u001b[2m<frozen importlib._bootstrap>:2207\u001b[0m\r\n",
        "                                             \u2502                                      \u2502                                   \u2514\u2500 \u001b[92m\u001b[2m0.028\u001b[0m _handle_fromlist  \u001b[2m<frozen importlib._bootstrap>:2264\u001b[0m\r\n",
        "                                             \u2502                                      \u2502                                      \u2514\u2500 \u001b[92m\u001b[2m0.028\u001b[0m _call_with_frames_removed  \u001b[2m<frozen importlib._bootstrap>:313\u001b[0m\r\n",
        "                                             \u2502                                      \u2502                                         \u2514\u2500 \u001b[92m\u001b[2m0.028\u001b[0m _find_and_load  \u001b[2m<frozen importlib._bootstrap>:2234\u001b[0m\r\n",
        "                                             \u2502                                      \u2502                                            \u2514\u2500 \u001b[92m\u001b[2m0.028\u001b[0m _find_and_load_unlocked  \u001b[2m<frozen importlib._bootstrap>:2207\u001b[0m\r\n",
        "                                             \u2502                                      \u2502                                               \u2514\u2500 \u001b[92m\u001b[2m0.028\u001b[0m _load_unlocked  \u001b[2m<frozen importlib._bootstrap>:1186\u001b[0m\r\n",
        "                                             \u2502                                      \u2502                                                  \u2514\u2500 \u001b[92m\u001b[2m0.025\u001b[0m _exec  \u001b[2m<frozen importlib._bootstrap>:1122\u001b[0m\r\n",
        "                                             \u2502                                      \u2502                                                     \u2514\u2500 \u001b[92m\u001b[2m0.025\u001b[0m exec_module  \u001b[2m<frozen importlib._bootstrap>:1465\u001b[0m\r\n",
        "                                             \u2502                                      \u2502                                                        \u2514\u2500 \u001b[92m\u001b[2m0.018\u001b[0m _call_with_frames_removed  \u001b[2m<frozen importlib._bootstrap>:313\u001b[0m\r\n",
        "                                             \u2502                                      \u2502                                                           \u2514\u2500 \u001b[92m\u001b[2m0.011\u001b[0m <module>  \u001b[2mnumpy/core/numeric.py:1\u001b[0m\r\n",
        "                                             \u2502                                      \u2502                                                              \u2514\u2500 \u001b[92m\u001b[2m0.011\u001b[0m _find_and_load  \u001b[2m<frozen importlib._bootstrap>:2234\u001b[0m\r\n",
        "                                             \u2502                                      \u2502                                                                 \u2514\u2500 \u001b[92m\u001b[2m0.011\u001b[0m _find_and_load_unlocked  \u001b[2m<frozen importlib._bootstrap>:2207\u001b[0m\r\n",
        "                                             \u2502                                      \u2502                                                                    \u2514\u2500 \u001b[92m\u001b[2m0.011\u001b[0m _load_unlocked  \u001b[2m<frozen importlib._bootstrap>:1186\u001b[0m\r\n",
        "                                             \u2502                                      \u2514\u2500 \u001b[92m\u001b[2m0.008\u001b[0m get_code  \u001b[2m<frozen importlib._bootstrap>:1534\u001b[0m\r\n",
        "                                             \u2502                                         \u2514\u2500 \u001b[92m\u001b[2m0.008\u001b[0m get_data  \u001b[2m<frozen importlib._bootstrap>:1621\u001b[0m\r\n",
        "                                             \u2514\u2500 \u001b[92m\u001b[2m0.035\u001b[0m <module>  \u001b[2mnumpy/polynomial/__init__.py:15\u001b[0m\r\n",
        "                                                \u2514\u2500 \u001b[92m\u001b[2m0.035\u001b[0m _find_and_load  \u001b[2m<frozen importlib._bootstrap>:2234\u001b[0m\r\n",
        "                                                   \u2514\u2500 \u001b[92m\u001b[2m0.035\u001b[0m _find_and_load_unlocked  \u001b[2m<frozen importlib._bootstrap>:2207\u001b[0m\r\n",
        "                                                      \u2514\u2500 \u001b[92m\u001b[2m0.035\u001b[0m _load_unlocked  \u001b[2m<frozen importlib._bootstrap>:1186\u001b[0m\r\n",
        "                                                         \u2514\u2500 \u001b[92m\u001b[2m0.035\u001b[0m _exec  \u001b[2m<frozen importlib._bootstrap>:1122\u001b[0m\r\n",
        "                                                            \u2514\u2500 \u001b[92m\u001b[2m0.035\u001b[0m exec_module  \u001b[2m<frozen importlib._bootstrap>:1465\u001b[0m\r\n",
        "                                                               \u2514\u2500 \u001b[92m\u001b[2m0.033\u001b[0m _call_with_frames_removed  \u001b[2m<frozen importlib._bootstrap>:313\u001b[0m\r\n",
        "<optparse.OptionParser object at 0x10070f518>\r\n"
       ]
      }
     ],
     "prompt_number": 13
    },
    {
     "cell_type": "code",
     "collapsed": false,
     "input": [
      "%%bash\n",
      "\n",
      "pyinstrument --html -o some_script.py.prof.html some_script.py\n",
      "open some_script.py.prof.html"
     ],
     "language": "python",
     "metadata": {},
     "outputs": [
      {
       "output_type": "stream",
       "stream": "stderr",
       "text": [
        "<optparse.OptionParser object at 0x1007b2208>\n"
       ]
      }
     ],
     "prompt_number": 16
    },
    {
     "cell_type": "heading",
     "level": 2,
     "metadata": {},
     "source": [
      "line_profiler"
     ]
    },
    {
     "cell_type": "code",
     "collapsed": false,
     "input": [
      "!cat some_script2.py"
     ],
     "language": "python",
     "metadata": {},
     "outputs": [
      {
       "output_type": "stream",
       "stream": "stdout",
       "text": [
        "import numpy as np\r\n",
        "\r\n",
        "data = np.random.randn(1000, 500)\r\n",
        "operator = np.random.randn(500, 500)\r\n",
        "\r\n",
        "\r\n",
        "@profile\r\n",
        "def inner_function(data):\r\n",
        "    data -= np.median(data, axis=1)[:, np.newaxis]\r\n",
        "    rows_sums = data.sum(axis=1)\r\n",
        "    data[rows_sums < 0] *= 2\r\n",
        "    data += np.random.randn(*data.shape)\r\n",
        "\r\n",
        "\r\n",
        "def some_function(data, n_iter=10):\r\n",
        "    for i in range(n_iter):\r\n",
        "        inner_function(data)\r\n",
        "        data = np.dot(data, operator)\r\n",
        "\r\n",
        "\r\n",
        "if __name__ == '__main__':\r\n",
        "    some_function(data)\r\n"
       ]
      }
     ],
     "prompt_number": 17
    },
    {
     "cell_type": "code",
     "collapsed": false,
     "input": [
      "%%bash\n",
      "\n",
      "kernprof -l -v some_script2.py"
     ],
     "language": "python",
     "metadata": {},
     "outputs": [
      {
       "output_type": "stream",
       "stream": "stdout",
       "text": [
        "Wrote profile results to some_script2.py.lprof\n",
        "Timer unit: 1e-06 s\n",
        "\n",
        "Total time: 0.396096 s\n",
        "File: some_script2.py\n",
        "Function: inner_function at line 7\n",
        "\n",
        "Line #      Hits         Time  Per Hit   % Time  Line Contents\n",
        "==============================================================\n",
        "     7                                           @profile\n",
        "     8                                           def inner_function(data):\n",
        "     9        10        88798   8879.8     22.4      data -= np.median(data, axis=1)[:, np.newaxis]\n",
        "    10        10         6123    612.3      1.5      rows_sums = data.sum(axis=1)\n",
        "    11        10        90043   9004.3     22.7      data[rows_sums < 0] *= 2\n",
        "    12        10       211132  21113.2     53.3      data += np.random.randn(*data.shape)\n",
        "\n"
       ]
      }
     ],
     "prompt_number": 18
    },
    {
     "cell_type": "code",
     "collapsed": false,
     "input": [
      "%load_ext line_profiler"
     ],
     "language": "python",
     "metadata": {},
     "outputs": [],
     "prompt_number": 19
    },
    {
     "cell_type": "code",
     "collapsed": false,
     "input": [
      "%lprun -f some_function some_function(data)"
     ],
     "language": "python",
     "metadata": {},
     "outputs": [],
     "prompt_number": 20
    },
    {
     "cell_type": "code",
     "collapsed": false,
     "input": [
      "%lprun -f inner_function some_function(data)"
     ],
     "language": "python",
     "metadata": {},
     "outputs": [],
     "prompt_number": 21
    },
    {
     "cell_type": "heading",
     "level": 2,
     "metadata": {},
     "source": [
      "memory_profiler"
     ]
    },
    {
     "cell_type": "code",
     "collapsed": false,
     "input": [
      "%load_ext memory_profiler"
     ],
     "language": "python",
     "metadata": {},
     "outputs": [],
     "prompt_number": 22
    },
    {
     "cell_type": "code",
     "collapsed": false,
     "input": [
      "%memit some_function(data)"
     ],
     "language": "python",
     "metadata": {},
     "outputs": [
      {
       "output_type": "stream",
       "stream": "stdout",
       "text": [
        "peak memory: 59.90 MiB, increment: 1.90 MiB\n"
       ]
      }
     ],
     "prompt_number": 27
    },
    {
     "cell_type": "code",
     "collapsed": false,
     "input": [
      "%mprun -f some_function some_function(data)"
     ],
     "language": "python",
     "metadata": {},
     "outputs": [
      {
       "output_type": "stream",
       "stream": "stdout",
       "text": [
        "\n"
       ]
      }
     ],
     "prompt_number": 28
    },
    {
     "cell_type": "code",
     "collapsed": false,
     "input": [
      "%mprun -f inner_function some_function(data)"
     ],
     "language": "python",
     "metadata": {},
     "outputs": [
      {
       "output_type": "stream",
       "stream": "stdout",
       "text": [
        "\n"
       ]
      }
     ],
     "prompt_number": 30
    },
    {
     "cell_type": "code",
     "collapsed": false,
     "input": [
      "%%bash\n",
      "\n",
      "mprof run some_script2.py\n",
      "mprof plot"
     ],
     "language": "python",
     "metadata": {},
     "outputs": [
      {
       "output_type": "stream",
       "stream": "stdout",
       "text": [
        "mprof: Sampling memory every 0.1s\n",
        "running as a Python program...\n"
       ]
      }
     ],
     "prompt_number": 31
    },
    {
     "cell_type": "code",
     "collapsed": false,
     "input": [],
     "language": "python",
     "metadata": {},
     "outputs": []
    }
   ],
   "metadata": {}
  }
 ]
}