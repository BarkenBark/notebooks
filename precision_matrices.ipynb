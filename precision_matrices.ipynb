{
 "cells": [
  {
   "cell_type": "code",
   "execution_count": 15,
   "metadata": {},
   "outputs": [],
   "source": [
    "%matplotlib inline\n",
    "import numpy as np\n",
    "import matplotlib.pyplot as plt\n",
    "import tensorflow as tf\n",
    "import tensorflow.contrib.eager as tfe"
   ]
  },
  {
   "cell_type": "code",
   "execution_count": 16,
   "metadata": {},
   "outputs": [],
   "source": [
    "try:\n",
    "    tfe.enable_eager_execution()\n",
    "except ValueError:\n",
    "    # Hide the annoying lack of idem-potency.\n",
    "    pass"
   ]
  },
  {
   "cell_type": "code",
   "execution_count": 85,
   "metadata": {},
   "outputs": [],
   "source": [
    "block_sizes = [3, 5, 5, 1]\n",
    "dim = sum(block_sizes)\n",
    "\n",
    "psd_args = dict(\n",
    "    is_non_singular=True,\n",
    "    is_self_adjoint=True,\n",
    "    is_positive_definite=True,\n",
    ")\n",
    "\n",
    "diagonal = tf.zeros([dim])\n",
    "variables = []\n",
    "\n",
    "offset = 0\n",
    "for block_size in block_sizes:\n",
    "    pad_before = offset\n",
    "    pad_after = dim - (offset + block_size)\n",
    "    v = tfe.Variable(1.)\n",
    "    variables.append(v)\n",
    "    diagonal += tf.pad(tf.exp(v) * tf.ones([block_size]),\n",
    "                       [[pad_before, pad_after]])\n",
    "    offset += block_size\n",
    "K = tf.linalg.LinearOperatorDiag(diagonal, **psd_args)\n",
    "\n",
    "\n",
    "offset = 0\n",
    "for block_size in block_sizes:\n",
    "    pad_before = offset\n",
    "    pad_after = dim - (offset + block_size)\n",
    "    v = tfe.Variable(1.)\n",
    "    variables.append(v)\n",
    "    u = tf.pad(v * tf.ones([block_size, 1]),\n",
    "               [[pad_before, pad_after], [0, 0]])\n",
    "    K = tf.linalg.LinearOperatorLowRankUpdate(K, u=u, v=u, **psd_args)\n",
    "    offset += block_size"
   ]
  },
  {
   "cell_type": "code",
   "execution_count": 86,
   "metadata": {},
   "outputs": [
    {
     "data": {
      "text/plain": [
       "<tf.Tensor: id=2245, shape=(), dtype=float32, numpy=17.144114>"
      ]
     },
     "execution_count": 86,
     "metadata": {},
     "output_type": "execute_result"
    }
   ],
   "source": [
    "K.log_abs_determinant()"
   ]
  },
  {
   "cell_type": "code",
   "execution_count": 87,
   "metadata": {},
   "outputs": [],
   "source": [
    "# val_and_grad_fn = tfe.value_and_gradients_function(lambda K: K.log_abs_determinant())\n",
    "# val_and_grad_fn(K)"
   ]
  },
  {
   "cell_type": "code",
   "execution_count": 88,
   "metadata": {},
   "outputs": [],
   "source": [
    "K_tensor = K.matmul(tf.eye(K.shape[0].value))"
   ]
  },
  {
   "cell_type": "code",
   "execution_count": 89,
   "metadata": {},
   "outputs": [
    {
     "data": {
      "image/png": "[encoded data removed]",
      "text/plain": [
       "<matplotlib.figure.Figure at 0x7f3a376ab5c0>"
      ]
     },
     "metadata": {},
     "output_type": "display_data"
    }
   ],
   "source": [
    "plt.matshow(K_tensor);"
   ]
  },
  {
   "cell_type": "code",
   "execution_count": 82,
   "metadata": {},
   "outputs": [
    {
     "data": {
      "text/plain": [
       "8"
      ]
     },
     "execution_count": 82,
     "metadata": {},
     "output_type": "execute_result"
    },
    {
     "data": {
      "image/png": "[encoded data removed]",
      "text/plain": [
       "<matplotlib.figure.Figure at 0x7f3a37b3aa20>"
      ]
     },
     "metadata": {},
     "output_type": "display_data"
    }
   ],
   "source": [
    "block_boundaries = [0, 5, 8, 10]\n",
    "# block_boundaries = [0]\n",
    "# block_boundaries.append(block_boundaries[-1] + 784 * 10)\n",
    "# block_boundaries.append(block_boundaries[-1] + 10)\n",
    "# block_boundaries.append(block_boundaries[-1] + 10 * 10)\n",
    "# block_boundaries.append(block_boundaries[-1] + 10)\n",
    "# block_boundaries.append(block_boundaries[-1] + 10 * 10)\n",
    "# block_boundaries.append(block_boundaries[-1] + 10)\n",
    "\n",
    "\n",
    "\n",
    "def outer(v):\n",
    "    return tf.matmul(tf.reshape(v, (-1, 1)),\n",
    "                     tf.reshape(v, (1, -1)))\n",
    "\n",
    "\n",
    "def parametrized_precision(block_boundaries):\n",
    "    variables = []\n",
    "    n_params = block_boundaries[-1]\n",
    "    K = tf.zeros(shape=(n_params, n_params))\n",
    "    for i, j in zip(block_boundaries, block_boundaries[1:]):\n",
    "        # Diagonal for the current block\n",
    "        diag_mask_i = np.zeros(n_params, dtype=np.float32)\n",
    "        diag_mask_i[i:j] = 1\n",
    "        diag_mask_i = tf.constant(diag_mask_i)\n",
    "        K_i_var = tfe.Variable(0.5, dtype=np.float32)\n",
    "        K_i = tf.diag(tf.exp(K_i_var) * diag_mask_i)\n",
    "        variables.append(K_i_var)\n",
    "        K += K_i\n",
    "        \n",
    "        # Rank-one for the current parameter block\n",
    "        ro_mask_i = np.zeros(n_params, dtype=np.float32)\n",
    "        ro_mask_i[i:j] = 1\n",
    "        ro_mask_i = tf.constant(ro_mask_i)\n",
    "        ro_var_i = tfe.Variable(1, dtype=np.float32)\n",
    "        ro_i = outer(ro_var_i * ro_mask_i)\n",
    "        variables.append(ro_var_i)\n",
    "        K += ro_i\n",
    "    for i, j in zip(block_boundaries, block_boundaries[2:]):\n",
    "        # Rank-one for consecutive blocks interactions\n",
    "        ro_mask_i = np.zeros(n_params, dtype=np.float32)\n",
    "        ro_mask_i[i:j] = 1\n",
    "        ro_mask_i = tf.constant(ro_mask_i)\n",
    "        ro_var_i = tfe.Variable(1., dtype=np.float32)\n",
    "        ro_i = outer(ro_var_i * ro_mask_i)\n",
    "        variables.append(ro_var_i)\n",
    "        K += ro_i\n",
    "    return variables, K\n",
    "\n",
    "variables, K = parametrized_precision(block_boundaries)\n",
    "\n",
    "fig, ax = plt.subplots(figsize=(8, 8))\n",
    "ax.matshow(K)\n",
    "len(variables)"
   ]
  },
  {
   "cell_type": "code",
   "execution_count": 8,
   "metadata": {},
   "outputs": [
    {
     "data": {
      "text/plain": [
       "<tf.Tensor: id=238, shape=(), dtype=float32, numpy=18083.262>"
      ]
     },
     "execution_count": 8,
     "metadata": {},
     "output_type": "execute_result"
    }
   ],
   "source": [
    "tf.linalg.det(K)"
   ]
  },
  {
   "cell_type": "code",
   "execution_count": 9,
   "metadata": {},
   "outputs": [
    {
     "data": {
      "text/plain": [
       "<tf.Tensor: id=240, shape=(10,), dtype=float32, numpy=\n",
       "array([ 1.6487198,  1.6487209,  1.648721 ,  1.6487212,  1.6487212,\n",
       "        1.6487212,  1.6487213,  4.268642 ,  8.341459 , 15.3360615],\n",
       "      dtype=float32)>"
      ]
     },
     "execution_count": 9,
     "metadata": {},
     "output_type": "execute_result"
    },
    {
     "data": {
      "image/png": "[encoded data removed]",
      "text/plain": [
       "<matplotlib.figure.Figure at 0x7f3a5c4015c0>"
      ]
     },
     "metadata": {},
     "output_type": "display_data"
    }
   ],
   "source": [
    "eigvals = tf.linalg.eigh(K)[0]\n",
    "plt.bar(np.arange(K.numpy().shape[0]), eigvals)\n",
    "eigvals"
   ]
  },
  {
   "cell_type": "code",
   "execution_count": 10,
   "metadata": {},
   "outputs": [],
   "source": [
    "C = tf.linalg.inv(K)\n",
    "# fig, ax = plt.subplots(figsize=(8, 8))\n",
    "# ax.matshow(C)"
   ]
  },
  {
   "cell_type": "code",
   "execution_count": 11,
   "metadata": {},
   "outputs": [],
   "source": [
    "from tensorflow.contrib.distributions import MultivariateNormalFullCovariance\n",
    "\n",
    "\n",
    "model = MultivariateNormalFullCovariance(loc=tf.zeros([C.shape[0]], dtype=np.float32), covariance_matrix=C)"
   ]
  },
  {
   "cell_type": "code",
   "execution_count": 12,
   "metadata": {},
   "outputs": [
    {
     "data": {
      "image/png": "[encoded data removed]",
      "text/plain": [
       "<matplotlib.figure.Figure at 0x7f3a5c38dd68>"
      ]
     },
     "metadata": {},
     "output_type": "display_data"
    }
   ],
   "source": [
    "data = model.sample(100)\n",
    "fig, ax = plt.subplots(figsize=(8, 8))\n",
    "ax.matshow(tf.linalg.inv(tf.matmul(tf.transpose(data), data)));"
   ]
  },
  {
   "cell_type": "code",
   "execution_count": 13,
   "metadata": {},
   "outputs": [],
   "source": [
    "# from sklearn.covariance import graph_lasso\n",
    "\n",
    "# gl = graph_lasso(np.asarray(tf.matmul(tf.transpose(data), data)), 1)\n",
    "# fig, ax = plt.subplots(figsize=(8, 8))\n",
    "# ax.matshow(gl[1])"
   ]
  },
  {
   "cell_type": "code",
   "execution_count": 14,
   "metadata": {},
   "outputs": [
    {
     "data": {
      "image/png": "[encoded data removed]",
      "text/plain": [
       "<matplotlib.figure.Figure at 0x7f3a5c32e518>"
      ]
     },
     "metadata": {},
     "output_type": "display_data"
    }
   ],
   "source": [
    "data_large = model.sample(10000)\n",
    "fig, ax = plt.subplots(figsize=(8, 8))\n",
    "ax.matshow(tf.linalg.inv(tf.matmul(tf.transpose(data_large), data_large)));"
   ]
  }
 ],
 "metadata": {
  "kernelspec": {
   "display_name": "Python 3",
   "language": "python",
   "name": "python3"
  },
  "language_info": {
   "codemirror_mode": {
    "name": "ipython",
    "version": 3
   },
   "file_extension": ".py",
   "mimetype": "text/x-python",
   "name": "python",
   "nbconvert_exporter": "python",
   "pygments_lexer": "ipython3",
   "version": "3.6.1"
  }
 },
 "nbformat": 4,
 "nbformat_minor": 2
}
