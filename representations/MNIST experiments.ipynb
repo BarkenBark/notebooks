{
 "cells": [
  {
   "cell_type": "code",
   "execution_count": 1,
   "metadata": {
    "collapsed": false
   },
   "outputs": [],
   "source": [
    "from __future__ import division\n",
    "%matplotlib inline\n",
    "import numpy as np\n",
    "import matplotlib.pyplot as plt\n",
    "from sklearn.base import BaseEstimator, ClassifierMixin\n",
    "from sklearn.preprocessing import LabelBinarizer\n",
    "from sklearn.utils import check_X_y\n",
    "from sklearn.utils import check_random_state\n",
    "from sklearn.utils import shuffle\n",
    "import theano\n",
    "import theano.tensor as tt\n",
    "from theano import shared\n",
    "from time import time\n",
    "from theano.sandbox.rng_mrg import MRG_RandomStreams as RandomStreams "
   ]
  },
  {
   "cell_type": "code",
   "execution_count": 2,
   "metadata": {
    "collapsed": false
   },
   "outputs": [
    {
     "name": "stdout",
     "output_type": "stream",
     "text": [
      "Loading dataset...\n",
      "Creating train-test split...\n"
     ]
    }
   ],
   "source": [
    "from sklearn.datasets import fetch_mldata\n",
    "from sklearn.utils import check_array\n",
    "from sklearn.cross_validation import train_test_split\n",
    "\n",
    "\n",
    "def load_data(dtype=np.float32, order='C'):\n",
    "    \"\"\"Load the data, then cache and memmap the train/test split\"\"\"\n",
    "    print(\"Loading dataset...\")\n",
    "    data = fetch_mldata('MNIST original')\n",
    "    X = check_array(data['data'], dtype=dtype, order=order)\n",
    "    y = data[\"target\"].astype(np.int32)\n",
    "    # Scale the features to [0, 1]\n",
    "    X = X / 255\n",
    "    ## Create train-test split (as [Joachims, 2006])\n",
    "    print(\"Creating train-test split...\")\n",
    "    n_train = 60000\n",
    "    X_train = X[:n_train]\n",
    "    y_train = y[:n_train]\n",
    "    X_test = X[n_train:]\n",
    "    y_test = y[n_train:]\n",
    "    return X_train, X_test, y_train, y_test\n",
    "\n",
    "X_dev, X_test, y_dev, y_test = load_data()\n",
    "\n",
    "# Create a small training set for faster experiments\n",
    "X_train, X_val, y_train, y_val = train_test_split(\n",
    "    X_dev, y_dev, test_size=int(1e3), random_state=0)"
   ]
  },
  {
   "cell_type": "markdown",
   "metadata": {},
   "source": [
    "## Various neural networks utilities\n",
    "\n",
    "Mostly taken from Alec Radford and Kyle Kastner's gists:\n",
    "\n",
    "- https://gist.github.com/Newmu/a56d5446416f5ad2bbac\n",
    "- https://gist.github.com/kastnerkyle/f3f67424adda343fef40"
   ]
  },
  {
   "cell_type": "code",
   "execution_count": 3,
   "metadata": {
    "collapsed": false
   },
   "outputs": [],
   "source": [
    "def sharedf32(X, dtype=np.float32, name=None):\n",
    "    return theano.shared(np.asarray(X, dtype=dtype), name=name)\n",
    "\n",
    "\n",
    "def softmax(x):\n",
    "    return tt.nnet.softmax(x)\n",
    "\n",
    "\n",
    "def relu(x):\n",
    "    return (x + abs(x)) / 2.0\n",
    "\n",
    "\n",
    "def tanh(x):\n",
    "    return tt.tanh(x)\n",
    "\n",
    "\n",
    "def sigmoid(x):\n",
    "    return tt.nnet.sigmoid(x)\n",
    "\n",
    "\n",
    "def linear(x):\n",
    "    return x\n",
    "\n",
    "\n",
    "def iter_data(*data, **kwargs):\n",
    "    batch_size = kwargs.get('batch_size', 128)\n",
    "    batches, remainder = divmod(len(data[0]), batch_size)\n",
    "    if remainder != 0:\n",
    "        batches += 1\n",
    "    for b in range(batches):\n",
    "        start = b * batch_size\n",
    "        end = (b + 1) * batch_size\n",
    "        if len(data) == 1:\n",
    "            yield data[0][start:end]\n",
    "        else:\n",
    "            yield tuple([d[start:end] for d in data])"
   ]
  },
  {
   "cell_type": "markdown",
   "metadata": {},
   "source": [
    "## Optimizers "
   ]
  },
  {
   "cell_type": "code",
   "execution_count": 5,
   "metadata": {
    "collapsed": false
   },
   "outputs": [],
   "source": [
    "# XXX: do not use this. it probably has a bug\n",
    "\n",
    "class Adam(object):\n",
    "    \"\"\"no bias init correction and no b1 decay\"\"\"\n",
    "    \n",
    "    def __init__(self, learning_rate=0.01, grad_momentum=0.1,\n",
    "                 sq_grad_momentum=0.001, eps=1e-8):\n",
    "        self.learning_rate = learning_rate\n",
    "        self.grad_momentum = grad_momentum\n",
    "        self.sq_grad_momentum = sq_grad_momentum\n",
    "        self.eps = eps\n",
    "\n",
    "    def make_updates(self, params, cost):\n",
    "        b1 = np.array(self.grad_momentum, dtype=np.float32)\n",
    "        b2 = np.array(self.sq_grad_momentum, dtype=np.float32)\n",
    "        lr = np.array(self.learning_rate, dtype=np.float32)\n",
    "        eps = np.array(self.eps, dtype=np.float32)\n",
    "        one = np.array(1, dtype=np.float32)\n",
    "        updates = []\n",
    "        grads = tt.grad(cost, params)\n",
    "        for p, g in zip(params, grads):\n",
    "            m = sharedf32(p.get_value() * 0., name='m')\n",
    "            v = sharedf32(p.get_value() * 0., name='v')\n",
    "            m_t = (b1 * g) + ((one - b1) * m)\n",
    "            v_t = (b2 * tt.sqr(g)) + ((one - b2) * v)\n",
    "            g_t = m_t / (tt.sqrt(v_t) + eps)\n",
    "            p_t = p - lr * g_t\n",
    "            updates.append((m, m_t))\n",
    "            updates.append((v, v_t))\n",
    "            updates.append((p, p_t))\n",
    "        return updates\n",
    "    \n",
    "\n",
    "class MomentumSGD(object):\n",
    "    \n",
    "    monitor = None\n",
    "    \n",
    "    def __init__(self, learning_rate_init=0.1, max_adaptation_count=3,\n",
    "                 learning_rate_scale=0.2, momentum=0.9, rescale=0.5):\n",
    "        self.learning_rate_init = learning_rate_init\n",
    "        self.max_adaptation_count = max_adaptation_count\n",
    "        self.learning_rate_scale = learning_rate_scale\n",
    "        self.momentum = momentum\n",
    "        self.rescale = rescale\n",
    "        \n",
    "    def on_stalled_convergence(self):\n",
    "        if self.adaptation_count > self.max_adaptation_count:\n",
    "            # Optimizer thinks model has converged\n",
    "            return False\n",
    "        \n",
    "        scale = np.array(self.learning_rate_scale, dtype=np.float32)\n",
    "        \n",
    "        # Rescale the learning rate\n",
    "        old_lr = self.learning_rate.get_value()\n",
    "        new_lr = old_lr * scale\n",
    "        self.learning_rate.set_value(new_lr)\n",
    "        self.adaptation_count += 1\n",
    "        print(\"Updated learning rate from %f to %f\" % (old_lr, new_lr))\n",
    "\n",
    "    def make_updates(self, params, cost):\n",
    "        self.adaptation_count = 0\n",
    "        self.learning_rate = sharedf32(self.learning_rate_init,\n",
    "                                       name='learning_rate')\n",
    "        momentum = np.array(self.momentum, dtype=np.float32)\n",
    "\n",
    "        updates = []\n",
    "        grads = tt.grad(cost, params)\n",
    "        for p, g in zip(params, grads):\n",
    "            if self.momentum > 0:\n",
    "                v = sharedf32(p.get_value() * 0., name='v')\n",
    "                v_t = momentum * v - self.learning_rate * g\n",
    "                p_t = p + v_t\n",
    "                updates.append((v, v_t))\n",
    "            else:\n",
    "                # traditional SGD\n",
    "                p_t = p - self.learning_rate * g\n",
    "            updates.append((p, p_t))\n",
    "        return updates\n",
    "\n",
    "    \n",
    "class NesterovMomentumSGD(MomentumSGD):\n",
    "\n",
    "    def make_updates(self, params, cost):\n",
    "        self.adaptation_count = 0\n",
    "        self.learning_rate = sharedf32(self.learning_rate_init,\n",
    "                                       name='learning_rate')\n",
    "        momentum = np.array(self.momentum, dtype=np.float32)\n",
    "        updates = []\n",
    "        grads = tt.grad(cost, params)\n",
    "#         grad_norm = tt.sqrt(sum(map(lambda x: tt.sqr(x).sum(), grads)))\n",
    "#         param_norm = tt.sqrt(sum(map(lambda x: tt.sqr(x).sum(), params)))\n",
    "#         rescale = np.array(self.rescale, dtype=np.float32)\n",
    "#         not_finite = tt.or_(tt.isnan(grad_norm), tt.isinf(grad_norm))\n",
    "#         scaling_num = rescale\n",
    "#         scaling_den = tt.maximum(rescale, grad_norm)\n",
    "    \n",
    "        tenth = np.array(0.1, dtype=np.float32)\n",
    "        for p, g in zip(params, grads):\n",
    "#             g = tt.switch(not_finite, tenth * p, g * (scaling_num / scaling_den))\n",
    "            v = sharedf32(p.get_value() * 0., name='v')\n",
    "            v_t = momentum * v - self.learning_rate * g\n",
    "            p_t = p + momentum * v_t - self.learning_rate * g\n",
    "            updates.append((v, v_t))\n",
    "            updates.append((p, p_t))\n",
    "        return updates\n",
    "#         return grad_norm, param_norm, updates"
   ]
  },
  {
   "cell_type": "markdown",
   "metadata": {},
   "source": [
    "## Orchestration"
   ]
  },
  {
   "cell_type": "code",
   "execution_count": 6,
   "metadata": {
    "collapsed": false
   },
   "outputs": [],
   "source": [
    "class EarlyStoppingMonitor(object):\n",
    "    def __init__(self, X_train, y_train, X_val=None, y_val=None, patience=5,\n",
    "                 data_log_filename=None, subsample=int(5e3), tol=1e-5, random_state=None):\n",
    "\n",
    "        X_train, y_train = check_X_y(X_train, y_train, dtype=np.float32)\n",
    "        y_train = y_train.astype(np.int32, copy=False)\n",
    "        self.label_binarizer_ = lb = LabelBinarizer().fit(y_train)\n",
    "\n",
    "        if subsample is not None and subsample < X_train.shape[0]:\n",
    "            X_train, y_train = shuffle(X_train, y_train, random_state=random_state)\n",
    "            X_train = X_train[:subsample]\n",
    "            y_train = y_train[:subsample]\n",
    "        self.X_train = X_train\n",
    "        self.y_train = y_train\n",
    "        self.Y_train = lb.transform(y_train).astype(np.float32)\n",
    "        self.tol = tol\n",
    "\n",
    "        if X_val is not None:\n",
    "            X_val, y_val = check_X_y(X_val, y_val, dtype=np.float32)\n",
    "            if subsample is not None and subsample < X_val.shape[0]:\n",
    "                X_val, y_val = shuffle(X_val, y_val,\n",
    "                                       random_state=random_state)\n",
    "                X_val = X_val[:subsample]\n",
    "                y_val = y_val[:subsample]\n",
    "            self.Y_val = lb.transform(y_val).astype(np.float32)\n",
    "        self.X_val = X_val\n",
    "        self.y_val = y_val\n",
    "\n",
    "        self.data_log_filename = data_log_filename\n",
    "        self.patience_reset = patience\n",
    "        self.reset()\n",
    "    \n",
    "    def reset(self):\n",
    "        self.best_cost = np.inf\n",
    "        self.patience = self.patience_reset\n",
    "        self.timestamp = time()\n",
    "    \n",
    "    def accuracy(self, y_true, output):\n",
    "        indices = output.argmax(axis=1)\n",
    "        return np.mean(self.label_binarizer_.classes_[indices] == y_true)\n",
    "        \n",
    "    def monitor(self, model, context):\n",
    "        duration = time() - self.timestamp\n",
    "        epoch = context.get('epoch')\n",
    "        optimizer = context.get('optimizer')\n",
    "        \n",
    "        training_out, training_cost = model._forward_and_cost(\n",
    "            self.X_train, self.y_train)\n",
    "        training_acc = self.accuracy(self.y_train, training_out)\n",
    "        if self.X_val is not None:\n",
    "            validation_out, validation_cost = model._forward_and_cost(\n",
    "                self.X_val, self.y_val)\n",
    "            validation_acc =  self.accuracy(self.y_val, validation_out)\n",
    "            current_cost = validation_cost      \n",
    "        else:\n",
    "            validation_cost = None\n",
    "            validation_acc = None\n",
    "            current_cost = training_cost\n",
    "\n",
    "        msg = \"Epoch #%03d, training cost: %0.6f, acc: %0.4f\" % (\n",
    "            epoch, training_cost, training_acc)\n",
    "        \n",
    "        if self.X_val is not None:\n",
    "            msg += \", validation cost: %0.6f, acc: %0.4f\" % (\n",
    "                validation_cost, validation_acc)\n",
    "        msg += \", duration: %0.3fs \" % duration\n",
    "        print(msg)\n",
    "\n",
    "        # Patience-based stopping condition\n",
    "        if current_cost < self.best_cost - self.tol:\n",
    "            self.patience = self.patience_reset\n",
    "            self.best_cost = current_cost\n",
    "        elif (hasattr(optimizer, 'on_stalled_convergence')\n",
    "              and not optimizer.on_stalled_convergence()):\n",
    "            # Optimizer has already had enough opportunities to adapt the\n",
    "            # learning rate in the past. We can start loosing patience.\n",
    "            self.patience -= 1\n",
    "        else:\n",
    "            # The optimizer does not use validation set convergence info,\n",
    "            # we can loose patience without notifying it.\n",
    "            self.patience -= 1\n",
    "\n",
    "        self.timestamp = time()\n",
    "        return self.patience > 0"
   ]
  },
  {
   "cell_type": "code",
   "execution_count": 80,
   "metadata": {
    "collapsed": false
   },
   "outputs": [],
   "source": [
    "class MLPClassifier(BaseEstimator, ClassifierMixin):\n",
    "    \n",
    "    def __init__(self, hidden=(100, 100), activation='relu', init_gain='auto',\n",
    "                 batch_size=128, optimizer=None, n_epochs=1000,\n",
    "                 weight_decay=int(1e-5), warm_start=False, random_state=None):\n",
    "        self.hidden = hidden\n",
    "        self.activation = activation\n",
    "        self.batch_size = batch_size\n",
    "        self.optimizer = optimizer\n",
    "        self.n_epochs = n_epochs\n",
    "        self.weight_decay = weight_decay\n",
    "        self.init_gain = init_gain\n",
    "        self.warm_start = warm_start\n",
    "        self.random_state = random_state\n",
    "        \n",
    "    def _init_parameters(self, n_features, n_outputs):\n",
    "        rng = check_random_state(self.random_state)\n",
    "        input_dims = (n_features,) + self.hidden\n",
    "        output_dims = self.hidden + (n_outputs,)\n",
    "\n",
    "        if self.init_gain == 'auto':\n",
    "            g = np.sqrt(2) if self.activation == 'relu' else 1.\n",
    "        else:\n",
    "            g = self.init_gain\n",
    "        \n",
    "        self.weights_ = []\n",
    "        self.biases_ = []\n",
    "        for l, (in_dim, out_dim) in enumerate(zip(input_dims, output_dims)):\n",
    "            std = g * np.sqrt(2 / (in_dim + out_dim))\n",
    "            W = sharedf32(rng.normal(size=(in_dim, out_dim), scale=std),\n",
    "                          name='W_%d' % l)\n",
    "            self.weights_.append(W)\n",
    "            b = sharedf32(np.zeros(out_dim), name='b_%d' % l)\n",
    "            self.biases_.append(b)\n",
    "        \n",
    "    def _make_functions(self):\n",
    "        x = tt.fmatrix(name='x')\n",
    "        y = tt.ivector(name='y')\n",
    "\n",
    "        # Define the computation graph of the model\n",
    "        if self.activation == 'relu':\n",
    "            sigma = relu\n",
    "        elif self.activation == 'tanh':\n",
    "            sigma = tanh\n",
    "        elif self.activation == 'linear':\n",
    "            sigma = linear\n",
    "        else:\n",
    "            raise ValueError('Unsupported activation: %s' % self.activation)\n",
    "        \n",
    "        transfer_funcs = [sigma] * (len(self.weights_) - 1) + [softmax]\n",
    "        n_layers = len(transfer_funcs)\n",
    "        activations = []\n",
    "        activation = x\n",
    "        for l, w, b, s in zip(range(n_layers), self.weights_,\n",
    "                              self.biases_, transfer_funcs):\n",
    "            activation = s(tt.dot(activation, w) + b)\n",
    "            activation.name = 'activations_%d' % l\n",
    "            activations.append(activation)\n",
    "        \n",
    "        output = activation\n",
    "        cost = tt.nnet.categorical_crossentropy(output, y).mean()\n",
    "        weight_decay = np.array(self.weight_decay, dtype=np.float32)\n",
    "        if self.weight_decay > 0:\n",
    "            for w in self.weights_:\n",
    "                cost += weight_decay * tt.sqr(w).sum()\n",
    "        \n",
    "        # Use the optimizer to compute the parameter updates based\n",
    "        # on the gradient of the cost function\n",
    "        opt = self.optimizer\n",
    "        if opt is None:\n",
    "            opt = Adam()\n",
    "\n",
    "        parameters = []\n",
    "        parameters += self.weights_\n",
    "        parameters += self.biases_\n",
    "#         grad_norm, param_norm, fit_updates = opt.make_updates(parameters, cost)\n",
    "        fit_updates = opt.make_updates(parameters, cost)\n",
    "        \n",
    "        # Compile the functions them-selves\n",
    "        f = theano.function\n",
    "        self._fit = f([x, y], cost, updates=fit_updates, name='_fit')\n",
    "#         self._fit = f([x, y], (cost, grad_norm, param_norm),\n",
    "#                       updates=fit_updates, name='_fit')\n",
    "        self._forward_and_cost = f([x, y], (output, cost), name=\"_forward_and_cost\")\n",
    "        self._forward = f([x], output, name=\"_forward\")\n",
    "        inputs = [x] + activations[:-1]\n",
    "        self._forward_funcs = []\n",
    "        for i in range(n_layers):\n",
    "            self._forward_funcs.append(f([inputs[i]], activations[i:],\n",
    "                                         name=\"_forward_activations_%d\" % i))\n",
    "        return opt\n",
    "\n",
    "    def fit(self, X, y, monitor=None):\n",
    "        X, y = check_X_y(X, y, dtype=np.float32)\n",
    "        y = y.astype(np.int32, copy=False)\n",
    "        self.label_binarizer_ = lb = LabelBinarizer()\n",
    "        Y = lb.fit_transform(y).astype(np.float32)\n",
    "        n_samples, n_features = X.shape\n",
    "        _, n_outputs = Y.shape\n",
    "        if not self.warm_start or not hasattr(self, 'weights_') :\n",
    "            self._init_parameters(n_features, n_outputs)\n",
    "\n",
    "        optimizer = self._make_functions()\n",
    "        self.training_costs_ = []\n",
    "        if monitor is not None:\n",
    "            monitor.reset()\n",
    "\n",
    "        try:\n",
    "            for epoch in range(self.n_epochs):\n",
    "                if monitor is not None and not monitor.monitor(self, locals()):\n",
    "                    break\n",
    "                for X_batch, y_batch in iter_data(X, y, batch_size=self.batch_size):\n",
    "#                     cost, grad_norm, param_norm = self._fit(X_batch, y_batch)\n",
    "                    cost = self._fit(X_batch, y_batch)\n",
    "#                     print(grad_norm, param_norm)\n",
    "                    self.training_costs_.append(cost)\n",
    "        except KeyboardInterrupt:\n",
    "            print(\"Interruped by user\")\n",
    "\n",
    "        return self\n",
    "    \n",
    "    def predict_proba(self, X):\n",
    "        X = check_array(X, dtype=np.float32)\n",
    "        return self._forward(X)\n",
    "\n",
    "    def predict(self, X):\n",
    "        indices = self.predict_proba(X).argmax(axis=1)\n",
    "        return indices\n",
    "#         return self.label_binarizer_.classes_[indices]"
   ]
  },
  {
   "cell_type": "code",
   "execution_count": 81,
   "metadata": {
    "collapsed": false
   },
   "outputs": [
    {
     "name": "stdout",
     "output_type": "stream",
     "text": [
      "Epoch #000, training cost: 3.058267, acc: 0.1158, validation cost: 3.170122, acc: 0.1090, duration: 0.000s \n",
      "Epoch #001, training cost: 0.079792, acc: 0.9752, validation cost: 0.105167, acc: 0.9690, duration: 1.726s \n",
      "Epoch #002, training cost: 0.061210, acc: 0.9810, validation cost: 0.090566, acc: 0.9740, duration: 1.779s \n",
      "Epoch #003, training cost: 0.047379, acc: 0.9842, validation cost: 0.077483, acc: 0.9810, duration: 1.699s \n",
      "Epoch #004, training cost: 0.039120, acc: 0.9858, validation cost: 0.073738, acc: 0.9800, duration: 1.704s \n",
      "Epoch #005, training cost: 0.034220, acc: 0.9890, validation cost: 0.089088, acc: 0.9770, duration: 1.713s \n",
      "Updated learning rate from 0.100000 to 0.050000\n",
      "Epoch #006, training cost: 0.011851, acc: 0.9962, validation cost: 0.061007, acc: 0.9850, duration: 1.712s \n",
      "Epoch #007, training cost: 0.008312, acc: 0.9980, validation cost: 0.055680, acc: 0.9830, duration: 1.753s \n",
      "Epoch #008, training cost: 0.006324, acc: 0.9986, validation cost: 0.063260, acc: 0.9840, duration: 1.720s \n",
      "Updated learning rate from 0.050000 to 0.025000\n",
      "Epoch #009, training cost: 0.004254, acc: 1.0000, validation cost: 0.058749, acc: 0.9860, duration: 1.745s \n",
      "Updated learning rate from 0.025000 to 0.012500\n",
      "Epoch #010, training cost: 0.003605, acc: 1.0000, validation cost: 0.058579, acc: 0.9860, duration: 1.865s \n",
      "Updated learning rate from 0.012500 to 0.006250\n",
      "Epoch #011, training cost: 0.003471, acc: 1.0000, validation cost: 0.058642, acc: 0.9860, duration: 1.763s \n",
      "Epoch #012, training cost: 0.003393, acc: 1.0000, validation cost: 0.058934, acc: 0.9860, duration: 1.757s \n",
      "CPU times: user 45.9 s, sys: 2.15 s, total: 48 s\n",
      "Wall time: 23.2 s\n"
     ]
    }
   ],
   "source": [
    "%%time\n",
    "\n",
    "monitor = EarlyStoppingMonitor(X_train, y_train, X_val=X_val, y_val=y_val,\n",
    "                               patience=5, random_state=0)\n",
    "train_only_monitor = EarlyStoppingMonitor(X_train, y_train, random_state=0)\n",
    "\n",
    "optimizer = NesterovMomentumSGD(learning_rate_init=.1, learning_rate_scale=0.5, momentum=0.9)\n",
    "mlp = MLPClassifier(hidden=(200, 200), batch_size=128, weight_decay=1e-6,\n",
    "                    init_gain='auto', optimizer=optimizer, random_state=0)\n",
    "mlp.fit(X_train, y_train, monitor=monitor)"
   ]
  },
  {
   "cell_type": "code",
   "execution_count": 82,
   "metadata": {
    "collapsed": false
   },
   "outputs": [
    {
     "name": "stdout",
     "output_type": "stream",
     "text": [
      "0.9818 0.0182\n"
     ]
    }
   ],
   "source": [
    "test_score = mlp.score(X_test, y_test)\n",
    "print(test_score, 1 - test_score)"
   ]
  },
  {
   "cell_type": "code",
   "execution_count": 83,
   "metadata": {
    "collapsed": false,
    "scrolled": true
   },
   "outputs": [
    {
     "data": {
      "image/png": "[encoded data removed]",
      "text/plain": [
       "<matplotlib.figure.Figure at 0x1346a4da0>"
      ]
     },
     "metadata": {},
     "output_type": "display_data"
    },
    {
     "data": {
      "image/png": "[encoded data removed]",
      "text/plain": [
       "<matplotlib.figure.Figure at 0x109f91438>"
      ]
     },
     "metadata": {},
     "output_type": "display_data"
    },
    {
     "data": {
      "image/png": "[encoded data removed]",
      "text/plain": [
       "<matplotlib.figure.Figure at 0x1190349b0>"
      ]
     },
     "metadata": {},
     "output_type": "display_data"
    },
    {
     "data": {
      "image/png": "[encoded data removed]",
      "text/plain": [
       "<matplotlib.figure.Figure at 0x10af5e160>"
      ]
     },
     "metadata": {},
     "output_type": "display_data"
    },
    {
     "data": {
      "image/png": "[encoded data removed]",
      "text/plain": [
       "<matplotlib.figure.Figure at 0x1196e1048>"
      ]
     },
     "metadata": {},
     "output_type": "display_data"
    }
   ],
   "source": [
    "for i in range(5):\n",
    "    plt.figure()\n",
    "    plt.imshow(mlp.weights_[0].get_value()[:, i].reshape(28, 28), cmap=plt.cm.Greys,\n",
    "           interpolation='nearest');"
   ]
  },
  {
   "cell_type": "code",
   "execution_count": 86,
   "metadata": {
    "collapsed": false
   },
   "outputs": [],
   "source": [
    "activations = mlp._forward_funcs[0](X_train)[0]"
   ]
  },
  {
   "cell_type": "code",
   "execution_count": 87,
   "metadata": {
    "collapsed": false
   },
   "outputs": [
    {
     "data": {
      "text/plain": [
       "[array([[  6.38013184e-01,   2.52327204e+00,   0.00000000e+00, ...,\n",
       "          -2.98023224e-08,   3.72529030e-09,   1.70569658e+00],\n",
       "        [ -1.60653144e-08,   2.96859071e-08,  -5.96046448e-08, ...,\n",
       "          -2.98023224e-08,  -5.58793545e-08,   3.49789858e-01],\n",
       "        [  4.35393304e-08,  -1.16415322e-10,  -5.96046448e-08, ...,\n",
       "          -2.98023224e-08,  -5.58793545e-08,   2.79804873e+00],\n",
       "        ..., \n",
       "        [  2.09745717e+00,   2.96859071e-08,   5.96046448e-08, ...,\n",
       "           2.20026088e+00,   3.13364887e+00,   1.60709572e+00],\n",
       "        [  1.76042110e-01,   2.96859071e-08,   1.70552552e-01, ...,\n",
       "           2.74203944e+00,   3.36619949e+00,   9.21163738e-01],\n",
       "        [ -1.60653144e-08,   6.55100465e-01,   0.00000000e+00, ...,\n",
       "           0.00000000e+00,  -5.58793545e-08,   1.35041773e-08]], dtype=float32),\n",
       " array([[  2.31810571e-09,   2.93739966e-09,   3.67517629e-07, ...,\n",
       "           6.26341830e-07,   1.06864118e-05,   1.00277198e-09],\n",
       "        [  4.51865967e-09,   1.02264530e-09,   6.37824105e-09, ...,\n",
       "           1.72211832e-12,   8.65519614e-05,   5.86813016e-08],\n",
       "        [  3.74008424e-17,   8.13833756e-16,   6.49157115e-15, ...,\n",
       "           4.68569997e-16,   4.74895132e-05,   2.47552145e-10],\n",
       "        ..., \n",
       "        [  3.84446039e-08,   9.45909505e-07,   1.18807282e-11, ...,\n",
       "           9.94678974e-01,   6.56198403e-13,   5.31976251e-03],\n",
       "        [  2.74386203e-08,   1.31524766e-05,   6.17889668e-08, ...,\n",
       "           9.99469638e-01,   6.18019044e-07,   5.08395548e-04],\n",
       "        [  9.99771655e-01,   1.80877448e-12,   2.28358796e-04, ...,\n",
       "           8.30705459e-13,   1.45733994e-10,   5.58221247e-09]], dtype=float32)]"
      ]
     },
     "execution_count": 87,
     "metadata": {},
     "output_type": "execute_result"
    }
   ],
   "source": [
    "mlp._forward_funcs[1](activations)"
   ]
  },
  {
   "cell_type": "code",
   "execution_count": null,
   "metadata": {
    "collapsed": true
   },
   "outputs": [],
   "source": []
  }
 ],
 "metadata": {
  "kernelspec": {
   "display_name": "Python 3",
   "language": "python",
   "name": "python3"
  },
  "language_info": {
   "codemirror_mode": {
    "name": "ipython",
    "version": 3
   },
   "file_extension": ".py",
   "mimetype": "text/x-python",
   "name": "python",
   "nbconvert_exporter": "python",
   "pygments_lexer": "ipython3",
   "version": "3.4.3"
  }
 },
 "nbformat": 4,
 "nbformat_minor": 0
}
