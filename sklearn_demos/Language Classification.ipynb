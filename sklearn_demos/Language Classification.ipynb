{
 "metadata": {
  "name": "",
  "signature": "sha256:9ff78db6b387175a4d4a1aec98e43550ed51ae7d02ab288e21e7ca327f465734"
 },
 "nbformat": 3,
 "nbformat_minor": 0,
 "worksheets": [
  {
   "cells": [
    {
     "cell_type": "heading",
     "level": 2,
     "metadata": {},
     "source": [
      "Dataset collection (from Wikipedia)"
     ]
    },
    {
     "cell_type": "code",
     "collapsed": false,
     "input": [
      "import sys\n",
      "from sklearn.datasets import load_files\n",
      "from sklearn.cross_validation import train_test_split"
     ],
     "language": "python",
     "metadata": {},
     "outputs": []
    },
    {
     "cell_type": "code",
     "collapsed": false,
     "input": [
      "dataset = load_files('language/paragraphs')\n",
      "docs_train, docs_test, y_train, y_test = train_test_split(\n",
      "    dataset.data, dataset.target, test_size=0.5)"
     ],
     "language": "python",
     "metadata": {},
     "outputs": []
    },
    {
     "cell_type": "code",
     "collapsed": false,
     "input": [
      "for example, lang_code in list(zip(docs_train, y_train))[:3]:\n",
      "    print(example.decode('utf-8'))\n",
      "    print(\"=> %s\\n\" % dataset.target_names[lang_code])"
     ],
     "language": "python",
     "metadata": {},
     "outputs": []
    },
    {
     "cell_type": "heading",
     "level": 2,
     "metadata": {},
     "source": [
      "Model fitting"
     ]
    },
    {
     "cell_type": "code",
     "collapsed": false,
     "input": [
      "from sklearn.feature_extraction.text import TfidfVectorizer\n",
      "from sklearn.linear_model import Perceptron\n",
      "from sklearn.pipeline import make_pipeline\n",
      "\n",
      "vectorizer = TfidfVectorizer(ngram_range=(1, 3), analyzer='char',\n",
      "                             use_idf=False)\n",
      "\n",
      "clf = make_pipeline(vectorizer, Perceptron())\n",
      "clf.fit(docs_train, y_train);"
     ],
     "language": "python",
     "metadata": {},
     "outputs": []
    },
    {
     "cell_type": "heading",
     "level": 2,
     "metadata": {},
     "source": [
      "Model evaluation"
     ]
    },
    {
     "cell_type": "code",
     "collapsed": false,
     "input": [
      "sentences = [\n",
      "    \"This is a language detection test.\",\n",
      "    \"Ceci est un test de d\u00e9tection de la langue.\",\n",
      "    \"Dies ist ein Test, um die Sprache zu erkennen.\",\n",
      "]\n",
      "predicted = clf.predict(sentences)\n",
      "\n",
      "for s, p in zip(sentences, predicted):\n",
      "    print(u'The language of \"%s\" is \"%s\"' % (s, dataset.target_names[p]))"
     ],
     "language": "python",
     "metadata": {},
     "outputs": []
    },
    {
     "cell_type": "code",
     "collapsed": false,
     "input": [
      "from sklearn.metrics import classification_report\n",
      "\n",
      "y_predicted = clf.predict(docs_test)\n",
      "print(classification_report(y_test, y_predicted,\n",
      "                            target_names=dataset.target_names))"
     ],
     "language": "python",
     "metadata": {},
     "outputs": []
    }
   ],
   "metadata": {}
  }
 ]
}