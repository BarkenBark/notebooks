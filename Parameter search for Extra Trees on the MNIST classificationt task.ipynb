{
 "metadata": {
  "name": ""
 },
 "nbformat": 3,
 "nbformat_minor": 0,
 "worksheets": [
  {
   "cells": [
    {
     "cell_type": "code",
     "collapsed": false,
     "input": [
      "from sklearn.datasets import fetch_mldata"
     ],
     "language": "python",
     "metadata": {},
     "outputs": [],
     "prompt_number": 8
    },
    {
     "cell_type": "code",
     "collapsed": false,
     "input": [
      "mnist = fetch_mldata('MNIST Original')"
     ],
     "language": "python",
     "metadata": {},
     "outputs": [],
     "prompt_number": 9
    },
    {
     "cell_type": "code",
     "collapsed": false,
     "input": [
      "# normalize and use the native DT precision level \n",
      "X = (mnist.data / 255.).astype(np.float32)\n",
      "X_train, y_train = X[:60000], mnist.target[:60000]\n",
      "X_test, y_test = X[60000:], mnist.target[60000:]"
     ],
     "language": "python",
     "metadata": {},
     "outputs": [],
     "prompt_number": 117
    },
    {
     "cell_type": "code",
     "collapsed": false,
     "input": [
      "from IPython.parallel import Client\n",
      "\n",
      "client = Client()\n",
      "lb_view = client.load_balanced_view()\n",
      "len(lb_view)"
     ],
     "language": "python",
     "metadata": {},
     "outputs": [
      {
       "metadata": {},
       "output_type": "pyout",
       "prompt_number": 18,
       "text": [
        "95"
       ]
      }
     ],
     "prompt_number": 18
    },
    {
     "cell_type": "code",
     "collapsed": false,
     "input": [
      "from sklearn.ensemble import ExtraTreesClassifier\n",
      "from pyrallel.model_selection import RandomizedGridSeach\n",
      "from pyrallel.mmap_utils import persist_cv_splits\n",
      "from sklearn.cross_validation import ShuffleSplit"
     ],
     "language": "python",
     "metadata": {},
     "outputs": [],
     "prompt_number": 19
    },
    {
     "cell_type": "code",
     "collapsed": false,
     "input": [
      "n_samples_dev = 60000  # make it possible to use a subsample of the trainingset\n",
      "X_dev, y_dev = X_train[:n_samples_dev], y_train[:n_samples_dev]\n",
      "\n",
      "cv_split_filenames = persist_cv_splits(X_dev, y_dev, n_cv_iter=2,\n",
      "                                       test_size=0.25, random_state=0)"
     ],
     "language": "python",
     "metadata": {},
     "outputs": [],
     "prompt_number": 35
    },
    {
     "cell_type": "code",
     "collapsed": false,
     "input": [
      "params = {\n",
      "    'max_features': np.arange(20, 61),\n",
      "    'min_samples_split': [2, 3, 4, 5],\n",
      "}\n",
      "\n",
      "et = ExtraTreesClassifier(n_estimators=100, random_state=0)\n",
      "rgs = RandomizedGridSeach(lb_view, random_state=0)"
     ],
     "language": "python",
     "metadata": {},
     "outputs": [],
     "prompt_number": 36
    },
    {
     "cell_type": "code",
     "collapsed": false,
     "input": [
      "rgs.launch_for_splits(et, params, cv_split_filenames)"
     ],
     "language": "python",
     "metadata": {},
     "outputs": [
      {
       "metadata": {},
       "output_type": "pyout",
       "prompt_number": 37,
       "text": [
        "Progress: 00% (000/328)\n"
       ]
      }
     ],
     "prompt_number": 37
    },
    {
     "cell_type": "code",
     "collapsed": false,
     "input": [
      "rgs.boxplot_parameters()"
     ],
     "language": "python",
     "metadata": {},
     "outputs": [
      {
       "metadata": {},
       "output_type": "display_data",
       "png": "[encoded data removed]",
       "text": [
        "<matplotlib.figure.Figure at 0x4762250>"
       ]
      }
     ],
     "prompt_number": 110
    },
    {
     "cell_type": "code",
     "collapsed": false,
     "input": [
      "print(rgs.report(n_top=100))"
     ],
     "language": "python",
     "metadata": {},
     "outputs": [
      {
       "output_type": "stream",
       "stream": "stdout",
       "text": [
        "Progress: 100% (328/328)\n",
        "\n",
        "Rank 1: validation: 0.97347 (+/-0.00047) train: 1.00000 (+/-0.00000):\n",
        " {'max_features': 46, 'min_samples_split': 3}\n",
        "Rank 2: validation: 0.97343 (+/-0.00123) train: 1.00000 (+/-0.00000):\n",
        " {'max_features': 49, 'min_samples_split': 2}\n",
        "Rank 3: validation: 0.97307 (+/-0.00093) train: 1.00000 (+/-0.00000):\n",
        " {'max_features': 52, 'min_samples_split': 2}\n",
        "Rank 4: validation: 0.97297 (+/-0.00063) train: 1.00000 (+/-0.00000):\n",
        " {'max_features': 57, 'min_samples_split': 3}\n",
        "Rank 5: validation: 0.97293 (+/-0.00133) train: 1.00000 (+/-0.00000):\n",
        " {'max_features': 52, 'min_samples_split': 3}\n",
        "Rank 6: validation: 0.97290 (+/-0.00123) train: 1.00000 (+/-0.00000):\n",
        " {'max_features': 36, 'min_samples_split': 2}\n",
        "Rank 7: validation: 0.97287 (+/-0.00133) train: 1.00000 (+/-0.00000):\n",
        " {'max_features': 50, 'min_samples_split': 3}\n",
        "Rank 8: validation: 0.97280 (+/-0.00047) train: 1.00000 (+/-0.00000):\n",
        " {'max_features': 48, 'min_samples_split': 4}\n",
        "Rank 9: validation: 0.97277 (+/-0.00097) train: 1.00000 (+/-0.00000):\n",
        " {'max_features': 60, 'min_samples_split': 2}\n",
        "Rank 10: validation: 0.97277 (+/-0.00090) train: 1.00000 (+/-0.00000):\n",
        " {'max_features': 54, 'min_samples_split': 2}\n",
        "Rank 11: validation: 0.97273 (+/-0.00107) train: 1.00000 (+/-0.00000):\n",
        " {'max_features': 50, 'min_samples_split': 2}\n",
        "Rank 12: validation: 0.97273 (+/-0.00067) train: 1.00000 (+/-0.00000):\n",
        " {'max_features': 54, 'min_samples_split': 3}\n",
        "Rank 13: validation: 0.97273 (+/-0.00153) train: 1.00000 (+/-0.00000):\n",
        " {'max_features': 58, 'min_samples_split': 2}\n",
        "Rank 14: validation: 0.97273 (+/-0.00053) train: 1.00000 (+/-0.00000):\n",
        " {'max_features': 43, 'min_samples_split': 2}\n",
        "Rank 15: validation: 0.97273 (+/-0.00047) train: 1.00000 (+/-0.00000):\n",
        " {'max_features': 60, 'min_samples_split': 3}\n",
        "Rank 16: validation: 0.97270 (+/-0.00090) train: 1.00000 (+/-0.00000):\n",
        " {'max_features': 51, 'min_samples_split': 3}\n",
        "Rank 17: validation: 0.97270 (+/-0.00057) train: 1.00000 (+/-0.00000):\n",
        " {'max_features': 46, 'min_samples_split': 2}\n",
        "Rank 18: validation: 0.97267 (+/-0.00093) train: 1.00000 (+/-0.00000):\n",
        " {'max_features': 40, 'min_samples_split': 4}\n",
        "Rank 19: validation: 0.97267 (+/-0.00073) train: 1.00000 (+/-0.00000):\n",
        " {'max_features': 35, 'min_samples_split': 2}\n",
        "Rank 20: validation: 0.97267 (+/-0.00060) train: 1.00000 (+/-0.00000):\n",
        " {'max_features': 56, 'min_samples_split': 3}\n",
        "Rank 21: validation: 0.97267 (+/-0.00060) train: 1.00000 (+/-0.00000):\n",
        " {'max_features': 49, 'min_samples_split': 3}\n",
        "Rank 22: validation: 0.97263 (+/-0.00057) train: 1.00000 (+/-0.00000):\n",
        " {'max_features': 43, 'min_samples_split': 3}\n",
        "Rank 23: validation: 0.97260 (+/-0.00080) train: 1.00000 (+/-0.00000):\n",
        " {'max_features': 34, 'min_samples_split': 3}\n",
        "Rank 24: validation: 0.97257 (+/-0.00130) train: 1.00000 (+/-0.00000):\n",
        " {'max_features': 33, 'min_samples_split': 2}\n",
        "Rank 25: validation: 0.97257 (+/-0.00063) train: 1.00000 (+/-0.00000):\n",
        " {'max_features': 48, 'min_samples_split': 2}\n",
        "Rank 26: validation: 0.97257 (+/-0.00063) train: 1.00000 (+/-0.00000):\n",
        " {'max_features': 43, 'min_samples_split': 4}\n",
        "Rank 27: validation: 0.97253 (+/-0.00100) train: 1.00000 (+/-0.00000):\n",
        " {'max_features': 55, 'min_samples_split': 2}\n",
        "Rank 28: validation: 0.97253 (+/-0.00160) train: 1.00000 (+/-0.00000):\n",
        " {'max_features': 45, 'min_samples_split': 3}\n",
        "Rank 29: validation: 0.97253 (+/-0.00140) train: 1.00000 (+/-0.00000):\n",
        " {'max_features': 54, 'min_samples_split': 4}\n",
        "Rank 30: validation: 0.97253 (+/-0.00047) train: 1.00000 (+/-0.00000):\n",
        " {'max_features': 30, 'min_samples_split': 2}\n",
        "Rank 31: validation: 0.97253 (+/-0.00027) train: 1.00000 (+/-0.00000):\n",
        " {'max_features': 58, 'min_samples_split': 4}\n",
        "Rank 32: validation: 0.97250 (+/-0.00117) train: 1.00000 (+/-0.00000):\n",
        " {'max_features': 53, 'min_samples_split': 4}\n",
        "Rank 33: validation: 0.97250 (+/-0.00163) train: 1.00000 (+/-0.00000):\n",
        " {'max_features': 42, 'min_samples_split': 3}\n",
        "Rank 34: validation: 0.97250 (+/-0.00077) train: 1.00000 (+/-0.00000):\n",
        " {'max_features': 45, 'min_samples_split': 4}\n",
        "Rank 35: validation: 0.97250 (+/-0.00077) train: 1.00000 (+/-0.00000):\n",
        " {'max_features': 39, 'min_samples_split': 2}\n",
        "Rank 36: validation: 0.97247 (+/-0.00100) train: 1.00000 (+/-0.00000):\n",
        " {'max_features': 37, 'min_samples_split': 2}\n",
        "Rank 37: validation: 0.97247 (+/-0.00087) train: 1.00000 (+/-0.00000):\n",
        " {'max_features': 56, 'min_samples_split': 2}\n",
        "Rank 38: validation: 0.97247 (+/-0.00147) train: 1.00000 (+/-0.00000):\n",
        " {'max_features': 49, 'min_samples_split': 5}\n",
        "Rank 39: validation: 0.97247 (+/-0.00140) train: 1.00000 (+/-0.00000):\n",
        " {'max_features': 58, 'min_samples_split': 3}\n",
        "Rank 40: validation: 0.97247 (+/-0.00053) train: 1.00000 (+/-0.00000):\n",
        " {'max_features': 59, 'min_samples_split': 4}\n",
        "Rank 41: validation: 0.97243 (+/-0.00103) train: 1.00000 (+/-0.00000):\n",
        " {'max_features': 36, 'min_samples_split': 4}\n",
        "Rank 42: validation: 0.97243 (+/-0.00103) train: 1.00000 (+/-0.00000):\n",
        " {'max_features': 29, 'min_samples_split': 2}\n",
        "Rank 43: validation: 0.97243 (+/-0.00050) train: 1.00000 (+/-0.00000):\n",
        " {'max_features': 44, 'min_samples_split': 4}\n",
        "Rank 44: validation: 0.97240 (+/-0.00100) train: 1.00000 (+/-0.00000):\n",
        " {'max_features': 41, 'min_samples_split': 2}\n",
        "Rank 45: validation: 0.97240 (+/-0.00147) train: 1.00000 (+/-0.00000):\n",
        " {'max_features': 47, 'min_samples_split': 4}\n",
        "Rank 46: validation: 0.97240 (+/-0.00047) train: 1.00000 (+/-0.00000):\n",
        " {'max_features': 52, 'min_samples_split': 4}\n",
        "Rank 47: validation: 0.97237 (+/-0.00103) train: 1.00000 (+/-0.00000):\n",
        " {'max_features': 45, 'min_samples_split': 2}\n",
        "Rank 48: validation: 0.97237 (+/-0.00103) train: 1.00000 (+/-0.00000):\n",
        " {'max_features': 32, 'min_samples_split': 2}\n",
        "Rank 49: validation: 0.97233 (+/-0.00107) train: 1.00000 (+/-0.00000):\n",
        " {'max_features': 46, 'min_samples_split': 4}\n",
        "Rank 50: validation: 0.97233 (+/-0.00080) train: 1.00000 (+/-0.00000):\n",
        " {'max_features': 49, 'min_samples_split': 4}\n",
        "Rank 51: validation: 0.97230 (+/-0.00157) train: 1.00000 (+/-0.00000):\n",
        " {'max_features': 41, 'min_samples_split': 4}\n",
        "Rank 52: validation: 0.97230 (+/-0.00130) train: 1.00000 (+/-0.00000):\n",
        " {'max_features': 60, 'min_samples_split': 5}\n",
        "Rank 53: validation: 0.97230 (+/-0.00103) train: 1.00000 (+/-0.00000):\n",
        " {'max_features': 59, 'min_samples_split': 2}\n",
        "Rank 54: validation: 0.97230 (+/-0.00090) train: 1.00000 (+/-0.00000):\n",
        " {'max_features': 57, 'min_samples_split': 4}\n",
        "Rank 55: validation: 0.97230 (+/-0.00063) train: 1.00000 (+/-0.00000):\n",
        " {'max_features': 38, 'min_samples_split': 2}\n",
        "Rank 56: validation: 0.97227 (+/-0.00153) train: 1.00000 (+/-0.00000):\n",
        " {'max_features': 53, 'min_samples_split': 2}\n",
        "Rank 57: validation: 0.97227 (+/-0.00087) train: 1.00000 (+/-0.00000):\n",
        " {'max_features': 47, 'min_samples_split': 3}\n",
        "Rank 58: validation: 0.97227 (+/-0.00087) train: 1.00000 (+/-0.00000):\n",
        " {'max_features': 41, 'min_samples_split': 3}\n",
        "Rank 59: validation: 0.97227 (+/-0.00060) train: 1.00000 (+/-0.00000):\n",
        " {'max_features': 40, 'min_samples_split': 2}\n",
        "Rank 60: validation: 0.97227 (+/-0.00060) train: 1.00000 (+/-0.00000):\n",
        " {'max_features': 33, 'min_samples_split': 3}\n",
        "Rank 61: validation: 0.97227 (+/-0.00007) train: 1.00000 (+/-0.00000):\n",
        " {'max_features': 57, 'min_samples_split': 2}\n",
        "Rank 62: validation: 0.97223 (+/-0.00110) train: 1.00000 (+/-0.00000):\n",
        " {'max_features': 42, 'min_samples_split': 4}\n",
        "Rank 63: validation: 0.97223 (+/-0.00057) train: 1.00000 (+/-0.00000):\n",
        " {'max_features': 29, 'min_samples_split': 3}\n",
        "Rank 64: validation: 0.97223 (+/-0.00043) train: 1.00000 (+/-0.00000):\n",
        " {'max_features': 32, 'min_samples_split': 3}\n",
        "Rank 65: validation: 0.97223 (+/-0.00043) train: 1.00000 (+/-0.00000):\n",
        " {'max_features': 25, 'min_samples_split': 2}\n",
        "Rank 66: validation: 0.97223 (+/-0.00003) train: 1.00000 (+/-0.00000):\n",
        " {'max_features': 55, 'min_samples_split': 3}\n",
        "Rank 67: validation: 0.97220 (+/-0.00100) train: 1.00000 (+/-0.00000):\n",
        " {'max_features': 44, 'min_samples_split': 2}\n",
        "Rank 68: validation: 0.97220 (+/-0.00053) train: 1.00000 (+/-0.00000):\n",
        " {'max_features': 36, 'min_samples_split': 5}\n",
        "Rank 69: validation: 0.97220 (+/-0.00033) train: 1.00000 (+/-0.00000):\n",
        " {'max_features': 31, 'min_samples_split': 2}\n",
        "Rank 70: validation: 0.97220 (+/-0.00027) train: 1.00000 (+/-0.00000):\n",
        " {'max_features': 28, 'min_samples_split': 2}\n",
        "Rank 71: validation: 0.97217 (+/-0.00110) train: 1.00000 (+/-0.00000):\n",
        " {'max_features': 53, 'min_samples_split': 3}\n",
        "Rank 72: validation: 0.97217 (+/-0.00103) train: 1.00000 (+/-0.00000):\n",
        " {'max_features': 51, 'min_samples_split': 2}\n",
        "Rank 73: validation: 0.97217 (+/-0.00083) train: 1.00000 (+/-0.00000):\n",
        " {'max_features': 46, 'min_samples_split': 5}\n",
        "Rank 74: validation: 0.97217 (+/-0.00070) train: 1.00000 (+/-0.00000):\n",
        " {'max_features': 38, 'min_samples_split': 4}\n",
        "Rank 75: validation: 0.97217 (+/-0.00037) train: 1.00000 (+/-0.00000):\n",
        " {'max_features': 37, 'min_samples_split': 3}\n",
        "Rank 76: validation: 0.97213 (+/-0.00053) train: 1.00000 (+/-0.00000):\n",
        " {'max_features': 51, 'min_samples_split': 4}\n",
        "Rank 77: validation: 0.97210 (+/-0.00170) train: 1.00000 (+/-0.00000):\n",
        " {'max_features': 34, 'min_samples_split': 2}\n",
        "Rank 78: validation: 0.97210 (+/-0.00163) train: 1.00000 (+/-0.00000):\n",
        " {'max_features': 54, 'min_samples_split': 5}\n",
        "Rank 79: validation: 0.97210 (+/-0.00163) train: 1.00000 (+/-0.00000):\n",
        " {'max_features': 26, 'min_samples_split': 4}\n",
        "Rank 80: validation: 0.97210 (+/-0.00103) train: 1.00000 (+/-0.00000):\n",
        " {'max_features': 47, 'min_samples_split': 5}\n",
        "Rank 81: validation: 0.97210 (+/-0.00043) train: 1.00000 (+/-0.00000):\n",
        " {'max_features': 38, 'min_samples_split': 3}\n",
        "Rank 82: validation: 0.97210 (+/-0.00030) train: 1.00000 (+/-0.00000):\n",
        " {'max_features': 33, 'min_samples_split': 4}\n",
        "Rank 83: validation: 0.97210 (+/-0.00030) train: 1.00000 (+/-0.00000):\n",
        " {'max_features': 28, 'min_samples_split': 4}\n",
        "Rank 84: validation: 0.97207 (+/-0.00133) train: 1.00000 (+/-0.00000):\n",
        " {'max_features': 59, 'min_samples_split': 3}\n",
        "Rank 85: validation: 0.97207 (+/-0.00100) train: 1.00000 (+/-0.00000):\n",
        " {'max_features': 50, 'min_samples_split': 4}\n",
        "Rank 86: validation: 0.97207 (+/-0.00100) train: 1.00000 (+/-0.00000):\n",
        " {'max_features': 44, 'min_samples_split': 3}\n",
        "Rank 87: validation: 0.97207 (+/-0.00073) train: 1.00000 (+/-0.00000):\n",
        " {'max_features': 34, 'min_samples_split': 5}\n",
        "Rank 88: validation: 0.97207 (+/-0.00060) train: 1.00000 (+/-0.00000):\n",
        " {'max_features': 27, 'min_samples_split': 4}\n",
        "Rank 89: validation: 0.97203 (+/-0.00097) train: 1.00000 (+/-0.00000):\n",
        " {'max_features': 35, 'min_samples_split': 3}\n",
        "Rank 90: validation: 0.97203 (+/-0.00090) train: 1.00000 (+/-0.00000):\n",
        " {'max_features': 27, 'min_samples_split': 2}\n",
        "Rank 91: validation: 0.97203 (+/-0.00063) train: 1.00000 (+/-0.00000):\n",
        " {'max_features': 26, 'min_samples_split': 5}\n",
        "Rank 92: validation: 0.97203 (+/-0.00017) train: 1.00000 (+/-0.00000):\n",
        " {'max_features': 55, 'min_samples_split': 4}\n",
        "Rank 93: validation: 0.97200 (+/-0.00100) train: 1.00000 (+/-0.00000):\n",
        " {'max_features': 30, 'min_samples_split': 3}\n",
        "Rank 94: validation: 0.97200 (+/-0.00060) train: 1.00000 (+/-0.00000):\n",
        " {'max_features': 55, 'min_samples_split': 5}\n",
        "Rank 95: validation: 0.97200 (+/-0.00040) train: 1.00000 (+/-0.00000):\n",
        " {'max_features': 26, 'min_samples_split': 2}\n",
        "Rank 96: validation: 0.97197 (+/-0.00157) train: 1.00000 (+/-0.00000):\n",
        " {'max_features': 60, 'min_samples_split': 4}\n",
        "Rank 97: validation: 0.97197 (+/-0.00117) train: 1.00000 (+/-0.00000):\n",
        " {'max_features': 36, 'min_samples_split': 3}\n",
        "Rank 98: validation: 0.97197 (+/-0.00117) train: 1.00000 (+/-0.00000):\n",
        " {'max_features': 25, 'min_samples_split': 3}\n",
        "Rank 99: validation: 0.97193 (+/-0.00107) train: 1.00000 (+/-0.00000):\n",
        " {'max_features': 40, 'min_samples_split': 3}\n",
        "Rank 100: validation: 0.97193 (+/-0.00087) train: 1.00000 (+/-0.00000):\n",
        " {'max_features': 42, 'min_samples_split': 2}\n"
       ]
      }
     ],
     "prompt_number": 112
    },
    {
     "cell_type": "code",
     "collapsed": false,
     "input": [
      "et_final = ExtraTreesClassifier(n_estimators=1000,\n",
      "                                max_features=46,\n",
      "                                min_samples_split=3,\n",
      "                                n_jobs=16, random_state=0)\n",
      "%time et_final.fit(X_train, y_train)"
     ],
     "language": "python",
     "metadata": {},
     "outputs": [
      {
       "output_type": "stream",
       "stream": "stdout",
       "text": [
        "CPU times: user 6.85 s, sys: 9.68 s, total: 16.5 s\n",
        "Wall time: 2min 43s\n"
       ]
      },
      {
       "metadata": {},
       "output_type": "pyout",
       "prompt_number": 124,
       "text": [
        "ExtraTreesClassifier(bootstrap=False, compute_importances=None,\n",
        "           criterion='gini', max_depth=None, max_features=46,\n",
        "           min_density=None, min_samples_leaf=1, min_samples_split=3,\n",
        "           n_estimators=1000, n_jobs=16, oob_score=False, random_state=0,\n",
        "           verbose=0)"
       ]
      }
     ],
     "prompt_number": 124
    },
    {
     "cell_type": "code",
     "collapsed": false,
     "input": [
      "%time test_score = et_final.score(X_test, y_test)"
     ],
     "language": "python",
     "metadata": {},
     "outputs": [
      {
       "output_type": "stream",
       "stream": "stdout",
       "text": [
        "CPU times: user 3.01 s, sys: 4.85 s, total: 7.86 s\n",
        "Wall time: 11.9 s\n"
       ]
      }
     ],
     "prompt_number": 125
    },
    {
     "cell_type": "code",
     "collapsed": false,
     "input": [
      "test_error = 1. - test_score\n",
      "test_error"
     ],
     "language": "python",
     "metadata": {},
     "outputs": [
      {
       "metadata": {},
       "output_type": "pyout",
       "prompt_number": 126,
       "text": [
        "0.024299999999999988"
       ]
      }
     ],
     "prompt_number": 126
    }
   ],
   "metadata": {}
  }
 ]
}