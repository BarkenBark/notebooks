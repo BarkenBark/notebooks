{
 "cells": [
  {
   "cell_type": "markdown",
   "metadata": {},
   "source": [
    "# Maximum Likelihood Estimation of a multivariate Gaussian model\n",
    "\n",
    "The goal of this notebook is to use PyTorch to implement Gradient-based MLE for a multivariate Gaussian model."
   ]
  },
  {
   "cell_type": "code",
   "execution_count": 1,
   "metadata": {
    "collapsed": true
   },
   "outputs": [],
   "source": [
    "%matplotlib inline\n",
    "import numpy as np\n",
    "import matplotlib.pyplot as plt"
   ]
  },
  {
   "cell_type": "markdown",
   "metadata": {},
   "source": [
    "## Single 2D Gaussian component\n",
    "\n",
    "Let's generate a some data by sampling a multivariate Gaussian with an arbitrary covariance matrix:"
   ]
  },
  {
   "cell_type": "code",
   "execution_count": 2,
   "metadata": {},
   "outputs": [
    {
     "data": {
      "text/plain": [
       "array([ 0.49671415, -0.1382643 ])"
      ]
     },
     "execution_count": 2,
     "metadata": {},
     "output_type": "execute_result"
    }
   ],
   "source": [
    "rng = np.random.RandomState(42)\n",
    "n_features = 2\n",
    "\n",
    "mean = rng.randn(n_features)\n",
    "mean"
   ]
  },
  {
   "cell_type": "code",
   "execution_count": 3,
   "metadata": {},
   "outputs": [
    {
     "data": {
      "text/plain": [
       "array([[ 2.73912039, -0.50825603],\n",
       "       [-0.50825603,  0.10964792]])"
      ]
     },
     "execution_count": 3,
     "metadata": {},
     "output_type": "execute_result"
    }
   ],
   "source": [
    "h = rng.randn(n_features, n_features)\n",
    "Cov = h @ h.T\n",
    "Cov"
   ]
  },
  {
   "cell_type": "code",
   "execution_count": 4,
   "metadata": {},
   "outputs": [
    {
     "data": {
      "text/plain": [
       "array([[ 1.61547341,  0.        ],\n",
       "       [ 7.48827815,  3.01995037]])"
      ]
     },
     "execution_count": 4,
     "metadata": {},
     "output_type": "execute_result"
    }
   ],
   "source": [
    "np.linalg.cholesky(np.linalg.inv(Cov))"
   ]
  },
  {
   "cell_type": "code",
   "execution_count": 5,
   "metadata": {},
   "outputs": [
    {
     "data": {
      "image/png": "[encoded data removed]",
      "text/plain": [
       "<matplotlib.figure.Figure at 0x7f343b1f3400>"
      ]
     },
     "metadata": {},
     "output_type": "display_data"
    }
   ],
   "source": [
    "n_samples = 100\n",
    "data = rng.multivariate_normal(mean, Cov, size=n_samples)\n",
    "plt.scatter(data[:, 0], data[:, 1]);"
   ]
  },
  {
   "cell_type": "markdown",
   "metadata": {},
   "source": [
    "Let's compute the MLE estimate from this data using the closed-form formula:"
   ]
  },
  {
   "cell_type": "code",
   "execution_count": 6,
   "metadata": {},
   "outputs": [
    {
     "data": {
      "text/plain": [
       "array([ 0.70263098, -0.17305392])"
      ]
     },
     "execution_count": 6,
     "metadata": {},
     "output_type": "execute_result"
    }
   ],
   "source": [
    "mu_mle = data.mean(axis=0)\n",
    "mu_mle"
   ]
  },
  {
   "cell_type": "code",
   "execution_count": 7,
   "metadata": {},
   "outputs": [
    {
     "data": {
      "text/plain": [
       "array([[ 2.0476404 , -0.38824024],\n",
       "       [-0.38824024,  0.08873728]])"
      ]
     },
     "execution_count": 7,
     "metadata": {},
     "output_type": "execute_result"
    }
   ],
   "source": [
    "Cov_mle = (data - mu_mle).T @ (data - mu_mle) / n_samples\n",
    "Cov_mle"
   ]
  },
  {
   "cell_type": "code",
   "execution_count": 8,
   "metadata": {},
   "outputs": [
    {
     "data": {
      "text/plain": [
       "array([[ 1.69266713,  0.        ],\n",
       "       [ 7.40569797,  3.356966  ]])"
      ]
     },
     "execution_count": 8,
     "metadata": {},
     "output_type": "execute_result"
    }
   ],
   "source": [
    "np.linalg.cholesky(np.linalg.inv(Cov_mle))"
   ]
  },
  {
   "cell_type": "markdown",
   "metadata": {},
   "source": [
    "## Parametrisation of a positive definite matrix\n",
    "\n",
    "\n",
    "Let's parametrize the precision matrix `P` (inverse of a covariance matrix `C`) as follows:\n",
    "\n",
    "- `P` has Cholesky decomposition `H`\n",
    "- `H` is a lower triangular with a positive diagonal\n",
    "- the log of the diagonal entry is stored in a vector of parameters named `d`\n",
    "- the off diagonal elements of `H` are stored in the matrix of parameters named `W`"
   ]
  },
  {
   "cell_type": "code",
   "execution_count": 9,
   "metadata": {},
   "outputs": [
    {
     "data": {
      "text/plain": [
       "Variable containing:\n",
       " 7.3891  1.1539\n",
       " 1.1539  7.5692\n",
       "[torch.FloatTensor of size 2x2]"
      ]
     },
     "execution_count": 9,
     "metadata": {},
     "output_type": "execute_result"
    }
   ],
   "source": [
    "import torch\n",
    "from torch.autograd import Variable\n",
    "\n",
    "mu = Variable(torch.zeros(n_features), requires_grad=True)\n",
    "d = Variable(torch.ones(n_features), requires_grad=True)\n",
    "W = Variable(torch.randn(n_features, n_features), requires_grad=True)\n",
    "H = torch.diag(torch.exp(d)) + torch.tril(W, -1)\n",
    "P = H @ H.transpose(1, 0)\n",
    "P"
   ]
  },
  {
   "cell_type": "markdown",
   "metadata": {},
   "source": [
    "Let's check that H is the actual Cholesky decomposition of P:"
   ]
  },
  {
   "cell_type": "code",
   "execution_count": 10,
   "metadata": {},
   "outputs": [
    {
     "data": {
      "text/plain": [
       "array([[ 2.71828175,  0.        ],\n",
       "       [ 0.42448446,  2.71828175]], dtype=float32)"
      ]
     },
     "execution_count": 10,
     "metadata": {},
     "output_type": "execute_result"
    }
   ],
   "source": [
    "H.data.numpy()"
   ]
  },
  {
   "cell_type": "code",
   "execution_count": 11,
   "metadata": {},
   "outputs": [
    {
     "data": {
      "text/plain": [
       "array([[ 2.71828175,  0.        ],\n",
       "       [ 0.42448443,  2.71828175]], dtype=float32)"
      ]
     },
     "execution_count": 11,
     "metadata": {},
     "output_type": "execute_result"
    }
   ],
   "source": [
    "np.linalg.cholesky(P.data.numpy())"
   ]
  },
  {
   "cell_type": "markdown",
   "metadata": {},
   "source": [
    "`P` is positive semi-definite by construction (product of a matrix `H` by its transposed).\n",
    "\n",
    "Because of we take the `exp` of `d` to build the diagonal elements of `H`, the determinant of `H` and therefore `P` is stricly positive.\n",
    "\n",
    "`P` is therefore is positive definite, whatever the values the parameters in `d` and `W`. Because the Cholesky decomposition exists for any symmetric positive-definite  matrix and is unique and `exp` is a bijection from $\\mathbb{R}$ to $\\mathbb{R}^+$, this parametrization of the manifold of positive definite matrices is bijective."
   ]
  },
  {
   "cell_type": "code",
   "execution_count": 12,
   "metadata": {},
   "outputs": [
    {
     "data": {
      "text/plain": [
       "54.598145"
      ]
     },
     "execution_count": 12,
     "metadata": {},
     "output_type": "execute_result"
    }
   ],
   "source": [
    "np.linalg.det(P.data.numpy())"
   ]
  },
  {
   "cell_type": "code",
   "execution_count": 13,
   "metadata": {},
   "outputs": [
    {
     "data": {
      "text/plain": [
       "54.598144564972472"
      ]
     },
     "execution_count": 13,
     "metadata": {},
     "output_type": "execute_result"
    }
   ],
   "source": [
    "np.linalg.det(H.data.numpy()) ** 2"
   ]
  },
  {
   "cell_type": "markdown",
   "metadata": {},
   "source": [
    "The determinant of `P` is cheap to compute from the `d` parameters directly:"
   ]
  },
  {
   "cell_type": "code",
   "execution_count": 14,
   "metadata": {},
   "outputs": [
    {
     "data": {
      "text/plain": [
       "54.59814456497247"
      ]
     },
     "execution_count": 14,
     "metadata": {},
     "output_type": "execute_result"
    }
   ],
   "source": [
    "torch.prod(torch.exp(d.data) ** 2)"
   ]
  },
  {
   "cell_type": "markdown",
   "metadata": {},
   "source": [
    "Let's use the above function to define the log-likelihood of a Gaussian model:"
   ]
  },
  {
   "cell_type": "code",
   "execution_count": 15,
   "metadata": {
    "collapsed": true
   },
   "outputs": [],
   "source": [
    "from math import log\n",
    "\n",
    "\n",
    "def loglik(X, mu, d, W):\n",
    "    \"\"\"Compute the average log-likelihood of samples\n",
    "    \n",
    "    X shape: (n_samples, n_features)\n",
    "        data points\n",
    "        \n",
    "    mu: shape: (n_features,)\n",
    "        parameters of the mean of the Gaussian.\n",
    "    \n",
    "    d: shape: (n_features,)\n",
    "        parameters of the diagonal of the Cholesky factor of the\n",
    "        precision matrix of the Gaussian.\n",
    "        \n",
    "    W: shape: (n_features, n_features)\n",
    "        parameters of the off-diagonal of the Cholesky factor of the\n",
    "        precision matrix of the Gaussian. The upper-diagonal elements\n",
    "        are ignored.\n",
    "    \"\"\"\n",
    "    H = torch.diag(torch.exp(d)) + torch.tril(W, -1)\n",
    "    P = H @ H.transpose(1, 0)\n",
    "    diff = X - mu\n",
    "    quad_form = torch.sum(diff * (diff @ P), dim=1)\n",
    "    return (-0.5 * log(2 * np.pi) + torch.sum(d) - 0.5 * quad_form)\n",
    "\n",
    "\n",
    "def nll(X, mu, d, W):\n",
    "    \"\"\"Average negative log likelihood loss to minimize\"\"\"\n",
    "    return -torch.mean(loglik(X, mu, d, W))"
   ]
  },
  {
   "cell_type": "code",
   "execution_count": 16,
   "metadata": {},
   "outputs": [
    {
     "data": {
      "text/plain": [
       "Variable containing:\n",
       " 8.1689\n",
       "[torch.FloatTensor of size 1]"
      ]
     },
     "execution_count": 16,
     "metadata": {},
     "output_type": "execute_result"
    }
   ],
   "source": [
    "X = Variable(torch.FloatTensor(data))\n",
    "loss = nll(X, mu, d, W)\n",
    "loss"
   ]
  },
  {
   "cell_type": "code",
   "execution_count": 17,
   "metadata": {
    "collapsed": true
   },
   "outputs": [],
   "source": [
    "loss.backward([torch.ones(1)])"
   ]
  },
  {
   "cell_type": "code",
   "execution_count": 18,
   "metadata": {},
   "outputs": [
    {
     "data": {
      "text/plain": [
       "Variable containing:\n",
       "-4.9921\n",
       " 0.4991\n",
       "[torch.FloatTensor of size 2]"
      ]
     },
     "execution_count": 18,
     "metadata": {},
     "output_type": "execute_result"
    }
   ],
   "source": [
    "mu.grad"
   ]
  },
  {
   "cell_type": "code",
   "execution_count": 19,
   "metadata": {},
   "outputs": [
    {
     "data": {
      "text/plain": [
       "Variable containing:\n",
       " 17.1898\n",
       " -0.1230\n",
       "[torch.FloatTensor of size 2]"
      ]
     },
     "execution_count": 19,
     "metadata": {},
     "output_type": "execute_result"
    }
   ],
   "source": [
    "d.grad"
   ]
  },
  {
   "cell_type": "code",
   "execution_count": 20,
   "metadata": {},
   "outputs": [
    {
     "data": {
      "text/plain": [
       "Variable containing:\n",
       " 0.0000  0.0000\n",
       "-1.3355  0.0000\n",
       "[torch.FloatTensor of size 2x2]"
      ]
     },
     "execution_count": 20,
     "metadata": {},
     "output_type": "execute_result"
    }
   ],
   "source": [
    "W.grad"
   ]
  },
  {
   "cell_type": "code",
   "execution_count": 21,
   "metadata": {},
   "outputs": [
    {
     "data": {
      "text/plain": [
       "Variable containing:\n",
       " 0.1816\n",
       "[torch.FloatTensor of size 1]"
      ]
     },
     "execution_count": 21,
     "metadata": {},
     "output_type": "execute_result"
    }
   ],
   "source": [
    "H_mle = torch.FloatTensor(np.linalg.cholesky(np.linalg.inv(Cov_mle)))\n",
    "d_mle = Variable(torch.log(torch.diag(H_mle)))\n",
    "W_mle = Variable(torch.tril(H_mle, -1))\n",
    "nll(X, Variable(torch.FloatTensor(mu_mle)), d_mle, W_mle)"
   ]
  },
  {
   "cell_type": "code",
   "execution_count": 22,
   "metadata": {},
   "outputs": [
    {
     "name": "stdout",
     "output_type": "stream",
     "text": [
      "0 8.168852806091309\n",
      "100 0.30568256974220276\n",
      "200 0.1895122528076172\n",
      "300 0.1818172186613083\n",
      "400 0.18178629875183105\n",
      "500 0.1815975457429886\n",
      "600 0.18159589171409607\n",
      "700 0.1820509284734726\n",
      "800 0.1815958470106125\n",
      "900 0.18159770965576172\n",
      "1000 0.18159615993499756\n",
      "1100 0.18159539997577667\n",
      "1200 0.18168118596076965\n",
      "1300 0.181595116853714\n",
      "1400 0.18159544467926025\n",
      "1500 0.18160125613212585\n",
      "1600 0.18159569799900055\n",
      "1700 0.18159571290016174\n",
      "1800 0.18160350620746613\n",
      "1900 0.18159537017345428\n"
     ]
    }
   ],
   "source": [
    "learning_rate = 1e-1\n",
    "optimizer = torch.optim.Adam([mu, d, W], lr=learning_rate)\n",
    "for t in range(2000):\n",
    "    # Compute and print loss.\n",
    "    loss = nll(X, mu, d, W)\n",
    "    if t % 100 == 0:\n",
    "        print(t, loss.data[0])\n",
    "    optimizer.zero_grad()\n",
    "    loss.backward()\n",
    "    optimizer.step()"
   ]
  },
  {
   "cell_type": "code",
   "execution_count": 23,
   "metadata": {},
   "outputs": [
    {
     "data": {
      "text/plain": [
       "array([ 0.70263098, -0.17305392])"
      ]
     },
     "execution_count": 23,
     "metadata": {},
     "output_type": "execute_result"
    }
   ],
   "source": [
    "mu_mle"
   ]
  },
  {
   "cell_type": "code",
   "execution_count": 24,
   "metadata": {},
   "outputs": [
    {
     "data": {
      "text/plain": [
       "Variable containing:\n",
       " 0.7026\n",
       "-0.1731\n",
       "[torch.FloatTensor of size 2]"
      ]
     },
     "execution_count": 24,
     "metadata": {},
     "output_type": "execute_result"
    }
   ],
   "source": [
    "mu"
   ]
  },
  {
   "cell_type": "code",
   "execution_count": 25,
   "metadata": {},
   "outputs": [
    {
     "data": {
      "text/plain": [
       "Variable containing:\n",
       " 0.5263\n",
       " 1.2110\n",
       "[torch.FloatTensor of size 2]"
      ]
     },
     "execution_count": 25,
     "metadata": {},
     "output_type": "execute_result"
    }
   ],
   "source": [
    "d_mle"
   ]
  },
  {
   "cell_type": "code",
   "execution_count": 26,
   "metadata": {},
   "outputs": [
    {
     "data": {
      "text/plain": [
       "Variable containing:\n",
       " 0.5263\n",
       " 1.2110\n",
       "[torch.FloatTensor of size 2]"
      ]
     },
     "execution_count": 26,
     "metadata": {},
     "output_type": "execute_result"
    }
   ],
   "source": [
    "d"
   ]
  },
  {
   "cell_type": "code",
   "execution_count": 27,
   "metadata": {},
   "outputs": [
    {
     "data": {
      "text/plain": [
       "Variable containing:\n",
       "-0.0000  0.0000\n",
       " 7.4057  0.0000\n",
       "[torch.FloatTensor of size 2x2]"
      ]
     },
     "execution_count": 27,
     "metadata": {},
     "output_type": "execute_result"
    }
   ],
   "source": [
    "W * Variable(torch.tril(torch.ones(n_features, n_features), -1))"
   ]
  },
  {
   "cell_type": "code",
   "execution_count": 28,
   "metadata": {},
   "outputs": [
    {
     "data": {
      "text/plain": [
       "Variable containing:\n",
       " 0.0000  0.0000\n",
       " 7.4057  0.0000\n",
       "[torch.FloatTensor of size 2x2]"
      ]
     },
     "execution_count": 28,
     "metadata": {},
     "output_type": "execute_result"
    }
   ],
   "source": [
    "W_mle"
   ]
  },
  {
   "cell_type": "markdown",
   "metadata": {},
   "source": [
    "## Mixture of 2D Gaussian components\n",
    "\n",
    "Let's generate some ground truth Gaussian Mixture Model with 3 components."
   ]
  },
  {
   "cell_type": "code",
   "execution_count": 29,
   "metadata": {},
   "outputs": [
    {
     "data": {
      "text/plain": [
       "[array([ 3.97371322, -1.10611441]),\n",
       " array([  5.1815083 ,  12.18423885]),\n",
       " array([-1.873227  , -1.87309566])]"
      ]
     },
     "execution_count": 29,
     "metadata": {},
     "output_type": "execute_result"
    }
   ],
   "source": [
    "rng = np.random.RandomState(42)\n",
    "n_features = 2\n",
    "n_components = 3\n",
    "\n",
    "means = [rng.randn(n_features) * 8 for _ in range(n_components)]\n",
    "means"
   ]
  },
  {
   "cell_type": "code",
   "execution_count": 30,
   "metadata": {
    "collapsed": true
   },
   "outputs": [],
   "source": [
    "covariances = []\n",
    "for _ in range(n_components):\n",
    "    h = rng.randn(n_features, n_features)\n",
    "    covariances.append(h @ h.T)"
   ]
  },
  {
   "cell_type": "markdown",
   "metadata": {},
   "source": [
    "Let's generate some data from the ground truth model:"
   ]
  },
  {
   "cell_type": "code",
   "execution_count": 31,
   "metadata": {},
   "outputs": [
    {
     "data": {
      "image/png": "[encoded data removed]",
      "text/plain": [
       "<matplotlib.figure.Figure at 0x7f3432d158d0>"
      ]
     },
     "metadata": {},
     "output_type": "display_data"
    }
   ],
   "source": [
    "from sklearn.utils import shuffle\n",
    "\n",
    "n_samples_per_component = 100\n",
    "\n",
    "samples = []\n",
    "component_ids = []\n",
    "\n",
    "for i, mean, Cov in zip(range(n_components), means, covariances):\n",
    "    data = rng.multivariate_normal(mean, Cov, size=n_samples_per_component)\n",
    "    samples.append(data)\n",
    "    component_ids.append(i * np.ones(n_samples_per_component, dtype=np.int32))\n",
    "    plt.scatter(data[:, 0], data[:, 1])\n",
    "    \n",
    "data = np.vstack(samples)\n",
    "component_ids = np.concatenate(component_ids)\n",
    "\n",
    "data, component_ids = shuffle(data, component_ids, random_state=0)"
   ]
  },
  {
   "cell_type": "markdown",
   "metadata": {},
   "source": [
    "There is no closed form formula for the MLE. Let's use the scikit-learn implementation of the EM algorithm instead:"
   ]
  },
  {
   "cell_type": "code",
   "execution_count": 32,
   "metadata": {
    "collapsed": true
   },
   "outputs": [],
   "source": [
    "from sklearn.mixture import GaussianMixture\n",
    "\n",
    "\n",
    "gmm_em = GaussianMixture(n_components=3, random_state=0).fit(data)"
   ]
  },
  {
   "cell_type": "markdown",
   "metadata": {},
   "source": [
    "Average loglikelihood of the data under the EM-MLE model:"
   ]
  },
  {
   "cell_type": "code",
   "execution_count": 33,
   "metadata": {},
   "outputs": [
    {
     "data": {
      "text/plain": [
       "-3.9059040992134775"
      ]
     },
     "execution_count": 33,
     "metadata": {},
     "output_type": "execute_result"
    }
   ],
   "source": [
    "gmm_em.score(data)"
   ]
  },
  {
   "cell_type": "markdown",
   "metadata": {},
   "source": [
    "Let's find the MLE by gradient descent:"
   ]
  },
  {
   "cell_type": "code",
   "execution_count": 75,
   "metadata": {},
   "outputs": [],
   "source": [
    "X = Variable(torch.FloatTensor(data))\n",
    "\n",
    "softmax = torch.nn.Softmax()\n",
    "weights = softmax(Variable(torch.ones(1, n_components))).view(n_components)\n",
    "likelihoods = []\n",
    "means = []\n",
    "prec_diags = []\n",
    "prec_off_diags = []\n",
    "for i in range(n_components):\n",
    "    mu = Variable(torch.zeros(n_features), requires_grad=True)\n",
    "    means.append(mu)\n",
    "    d = Variable(torch.ones(n_features), requires_grad=True)\n",
    "    prec_diags.append(d)\n",
    "    W = Variable(torch.randn(n_features, n_features), requires_grad=True)\n",
    "    prec_off_diags.append(W)\n",
    "    likelihoods.append(torch.exp(loglik(X, mu, d, W)))\n",
    "    \n",
    "likelihoods = torch.cat(likelihoods).view(n_components, -1)\n",
    "torch.sum(weights.view(n_components, 1) * likelihoods, 1)\n",
    "\n",
    "\n",
    "params = [weights]\n",
    "params.extend(means)\n",
    "params.extend(prec_diags)\n",
    "params.extend(prec_off_diags)"
   ]
  },
  {
   "cell_type": "code",
   "execution_count": 70,
   "metadata": {},
   "outputs": [
    {
     "data": {
      "text/plain": [
       "torch.Size([3, 300])"
      ]
     },
     "execution_count": 70,
     "metadata": {},
     "output_type": "execute_result"
    }
   ],
   "source": []
  },
  {
   "cell_type": "code",
   "execution_count": 43,
   "metadata": {},
   "outputs": [
    {
     "data": {
      "text/plain": [
       "Variable containing:\n",
       " 0.3333\n",
       " 0.3333\n",
       " 0.3333\n",
       "[torch.FloatTensor of size 3]"
      ]
     },
     "execution_count": 43,
     "metadata": {},
     "output_type": "execute_result"
    }
   ],
   "source": [
    "weights"
   ]
  },
  {
   "cell_type": "code",
   "execution_count": 55,
   "metadata": {},
   "outputs": [
    {
     "ename": "AttributeError",
     "evalue": "'list' object has no attribute 'size'",
     "output_type": "error",
     "traceback": [
      "\u001b[0;31m---------------------------------------------------------------------------\u001b[0m",
      "\u001b[0;31mAttributeError\u001b[0m                            Traceback (most recent call last)",
      "\u001b[0;32m<ipython-input-55-0abe2f0779ec>\u001b[0m in \u001b[0;36m<module>\u001b[0;34m()\u001b[0m\n\u001b[0;32m----> 1\u001b[0;31m \u001b[0mlikelihoods\u001b[0m\u001b[0;34m.\u001b[0m\u001b[0msize\u001b[0m\u001b[0;34m(\u001b[0m\u001b[0;34m)\u001b[0m\u001b[0;34m\u001b[0m\u001b[0m\n\u001b[0m",
      "\u001b[0;31mAttributeError\u001b[0m: 'list' object has no attribute 'size'"
     ]
    }
   ],
   "source": [
    "likelihoods"
   ]
  }
 ],
 "metadata": {
  "kernelspec": {
   "display_name": "Python 3",
   "language": "python",
   "name": "python3"
  },
  "language_info": {
   "codemirror_mode": {
    "name": "ipython",
    "version": 3
   },
   "file_extension": ".py",
   "mimetype": "text/x-python",
   "name": "python",
   "nbconvert_exporter": "python",
   "pygments_lexer": "ipython3",
   "version": "3.6.1"
  }
 },
 "nbformat": 4,
 "nbformat_minor": 2
}
