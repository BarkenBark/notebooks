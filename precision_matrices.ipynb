{
 "cells": [
  {
   "cell_type": "markdown",
   "metadata": {},
   "source": [
    "# Block-sparse Estimation of Large Structured Precision Matrices\n",
    "\n",
    "The goal of this notebook is to experiment with the estimation of parametrized precision matrices with a block sparse prior structure.\n",
    "\n",
    "Our prior is imposing a block-diagonal (and maybe block-triagonal) structure with constant values for diagonal and off-diagonal entries in each block.\n",
    "\n",
    "The end-goal is to find a tractable estimate the Fisher Information Matrix of a deep feed-forward networks by making the assumption that gradients of the log-likelihood of the model sampled from the model predictive probability distribution will be approximately distributed with a multivariate Gaussian matrix whose precision matrix follows our prior structure: the blocks of the precision matrix prior corresponds to the set of trainable model parameters of a given layer in the feed-forward net.\n",
    "\n",
    "Being able to estimate the inverse FIM of large models can be useful for improving the conditioning of the optimization problem when estimating the model parameters from the data. More generally it's useful to evaluate information theoretic measures of the capacity of the model or compute distances between different parametrization of the same model and so on.\n",
    "\n",
    "Contrary to the [K-FAC](https://arxiv.org/abs/1503.05671) parametrization, our proposed parametrization of the inverse FIM uses far fewer parameters (because we impose constant values of the entries of the inverse FIM in a given block). And furthermore we plan to use a MLE estimate of the precision matrix given a recent history of model gradients."
   ]
  },
  {
   "cell_type": "code",
   "execution_count": 1,
   "metadata": {},
   "outputs": [
    {
     "name": "stderr",
     "output_type": "stream",
     "text": [
      "/home/ogrisel/.virtualenvs/py36/lib/python3.6/site-packages/h5py/__init__.py:36: FutureWarning: Conversion of the second argument of issubdtype from `float` to `np.floating` is deprecated. In future, it will be treated as `np.float64 == np.dtype(float).type`.\n",
      "  from ._conv import register_converters as _register_converters\n"
     ]
    }
   ],
   "source": [
    "%matplotlib inline\n",
    "import numpy as np\n",
    "import matplotlib.pyplot as plt\n",
    "import tensorflow as tf\n",
    "import tensorflow.contrib.eager as tfe\n",
    "from time import time"
   ]
  },
  {
   "cell_type": "code",
   "execution_count": 2,
   "metadata": {},
   "outputs": [],
   "source": [
    "session = tf.Session()"
   ]
  },
  {
   "cell_type": "code",
   "execution_count": 3,
   "metadata": {},
   "outputs": [],
   "source": [
    "def make_block_linear_operator(block_sizes, variable=tf.Variable,\n",
    "                               diag_init=0., lowrank_init=0.1):\n",
    "    dim = sum(block_sizes)\n",
    "    n_blocks = len(block_sizes)\n",
    "    psd_args = dict(\n",
    "        is_non_singular=True,\n",
    "        is_self_adjoint=True,\n",
    "        is_positive_definite=True,\n",
    "    )\n",
    "    diagonal = tf.zeros([dim])\n",
    "    if hasattr(diag_init, 'shape') or hasattr(diag_init, '__len__'):\n",
    "        diag_variables = variable(diag_init)\n",
    "    else:\n",
    "        diag_variables = variable(diag_init * tf.ones(n_blocks))\n",
    "    if hasattr(lowrank_init, 'shape') or hasattr(lowrank_init, '__len__'):\n",
    "        lowrank_variables = variable(lowrank_init)\n",
    "    else:\n",
    "        lowrank_variables = variable(lowrank_init * tf.ones(n_blocks))\n",
    "\n",
    "    offset = 0\n",
    "    tic = time()\n",
    "    for i, block_size in enumerate(block_sizes):\n",
    "        pad_before = offset\n",
    "        pad_after = dim - (offset + block_size)\n",
    "        diagonal += tf.pad(tf.exp(diag_variables[i:i+1]) * tf.ones([block_size]),\n",
    "                           [[pad_before, pad_after]])\n",
    "        offset += block_size\n",
    "    linop = tf.linalg.LinearOperatorDiag(diagonal, **psd_args)\n",
    "    print(f\"diagonal operator built in {time() - tic:.3f}s\")\n",
    "\n",
    "    offset = 0\n",
    "    for i, block_size in enumerate(block_sizes):\n",
    "        tic = time()\n",
    "        pad_before = offset\n",
    "        pad_after = dim - (offset + block_size)\n",
    "        u = tf.pad(lowrank_variables[i:i+1] * tf.ones([block_size, 1]),\n",
    "                   [[pad_before, pad_after], [0, 0]])\n",
    "\n",
    "        # Recursively chain the the LR updates operators: this is the\n",
    "        # expensive step as it precomputes the solution of A.X = U where\n",
    "        # A is the previous base operator.\n",
    "        linop = tf.linalg.LinearOperatorLowRankUpdate(linop, u=u, **psd_args)\n",
    "        offset += block_size\n",
    "        print(f\"lowrank update operator built in {time() - tic:.3f}s\")\n",
    "    return linop, [diag_variables, lowrank_variables] "
   ]
  },
  {
   "cell_type": "code",
   "execution_count": 4,
   "metadata": {},
   "outputs": [
    {
     "name": "stdout",
     "output_type": "stream",
     "text": [
      "diagonal operator built in 0.020s\n",
      "lowrank update operator built in 0.009s\n",
      "lowrank update operator built in 0.012s\n",
      "lowrank update operator built in 0.022s\n",
      "lowrank update operator built in 0.039s\n",
      "CPU times: user 52 ms, sys: 0 ns, total: 52 ms\n",
      "Wall time: 48.6 ms\n"
     ]
    },
    {
     "data": {
      "text/plain": [
       "0.13708931"
      ]
     },
     "execution_count": 4,
     "metadata": {},
     "output_type": "execute_result"
    }
   ],
   "source": [
    "K, variables = make_block_linear_operator(\n",
    "    [3, 5, 5, 1], diag_init=0., lowrank_init=0.1)\n",
    "\n",
    "session.run(tf.global_variables_initializer())\n",
    "%time session.run(K.log_abs_determinant())"
   ]
  },
  {
   "cell_type": "code",
   "execution_count": 5,
   "metadata": {},
   "outputs": [
    {
     "name": "stdout",
     "output_type": "stream",
     "text": [
      "CPU times: user 972 ms, sys: 20 ms, total: 992 ms\n",
      "Wall time: 989 ms\n"
     ]
    },
    {
     "data": {
      "text/plain": [
       "[array([2.9708738, 4.952381 , 4.952381 , 0.990099 ], dtype=float32),\n",
       " array([0.58252436, 0.952381  , 0.952381  , 0.19801979], dtype=float32)]"
      ]
     },
     "execution_count": 5,
     "metadata": {},
     "output_type": "execute_result"
    }
   ],
   "source": [
    "%time session.run(tf.gradients(K.log_abs_determinant(), variables))"
   ]
  },
  {
   "cell_type": "code",
   "execution_count": 6,
   "metadata": {},
   "outputs": [],
   "source": [
    "# val_and_grad_fn = tfe.value_and_gradients_function(lambda K: K.log_abs_determinant())\n",
    "# val_and_grad_fn(K)"
   ]
  },
  {
   "cell_type": "code",
   "execution_count": 7,
   "metadata": {},
   "outputs": [
    {
     "name": "stdout",
     "output_type": "stream",
     "text": [
      "WARNING:tensorflow:Using (possibly slow) default implementation of to_dense.  Converts by self.matmul(identity).\n"
     ]
    }
   ],
   "source": [
    "K_tensor = K.to_dense()"
   ]
  },
  {
   "cell_type": "markdown",
   "metadata": {},
   "source": [
    "By default, only the elements of the diagonal are non-zero (ones actually), this is the identity matrix:"
   ]
  },
  {
   "cell_type": "code",
   "execution_count": 8,
   "metadata": {},
   "outputs": [
    {
     "data": {
      "image/png": "[encoded data removed]",
      "text/plain": [
       "<matplotlib.figure.Figure at 0x7fb9e136e4e0>"
      ]
     },
     "metadata": {},
     "output_type": "display_data"
    }
   ],
   "source": [
    "def matshow(a, cmap=plt.cm.RdBu, figsize=(6, 6)):\n",
    "    vmax = np.abs(a).max()\n",
    "    fig, ax = plt.subplots(figsize=figsize)\n",
    "    ax.matshow(a, vmin=-vmax, vmax=vmax, cmap=cmap)\n",
    "\n",
    "matshow(session.run(K_tensor))"
   ]
  },
  {
   "cell_type": "markdown",
   "metadata": {},
   "source": [
    "Reassigning different parameter values makes the block structure visible:"
   ]
  },
  {
   "cell_type": "code",
   "execution_count": 9,
   "metadata": {},
   "outputs": [
    {
     "name": "stdout",
     "output_type": "stream",
     "text": [
      "WARNING:tensorflow:Using (possibly slow) default implementation of to_dense.  Converts by self.matmul(identity).\n"
     ]
    },
    {
     "data": {
      "image/png": "[encoded data removed]",
      "text/plain": [
       "<matplotlib.figure.Figure at 0x7fb9dbfa1780>"
      ]
     },
     "metadata": {},
     "output_type": "display_data"
    }
   ],
   "source": [
    "session.run(tf.global_variables_initializer())\n",
    "diag_variables, offdiag_variables = variables\n",
    "session.run(diag_variables.assign([1, -.1, 0.8, 0]))\n",
    "session.run(offdiag_variables.assign([0.9, 0.4, 0.7, 1]))\n",
    "matshow(session.run(K.to_dense()))"
   ]
  },
  {
   "cell_type": "code",
   "execution_count": 10,
   "metadata": {},
   "outputs": [
    {
     "name": "stdout",
     "output_type": "stream",
     "text": [
      "WARNING:tensorflow:Using (possibly slow) default implementation of to_dense.  Converts by self.matmul(identity).\n"
     ]
    },
    {
     "data": {
      "text/plain": [
       "0.6938775510204082"
      ]
     },
     "execution_count": 10,
     "metadata": {},
     "output_type": "execute_result"
    }
   ],
   "source": [
    "np.mean(session.run(K.to_dense()) == 0)"
   ]
  },
  {
   "cell_type": "markdown",
   "metadata": {},
   "source": [
    "`tf.linalg.expm` would preserve the prior sparse block structure and would enforce full-rank however support for linear opertor does not seem to be implemented yet, it only works on the memory-untractable full-matrix materialization of the precision matrix:"
   ]
  },
  {
   "cell_type": "code",
   "execution_count": 11,
   "metadata": {},
   "outputs": [
    {
     "data": {
      "text/plain": [
       "47262407000000.0"
      ]
     },
     "execution_count": 11,
     "metadata": {},
     "output_type": "execute_result"
    },
    {
     "data": {
      "image/png": "[encoded data removed]",
      "text/plain": [
       "<matplotlib.figure.Figure at 0x7fb9d87234e0>"
      ]
     },
     "metadata": {},
     "output_type": "display_data"
    }
   ],
   "source": [
    "K_expm = tf.linalg.expm(K_tensor)\n",
    "K_expm_value, K_expm_det = session.run([K_expm, tf.linalg.det(K_expm)])\n",
    "matshow(K_expm_value)\n",
    "K_expm_det"
   ]
  },
  {
   "cell_type": "markdown",
   "metadata": {},
   "source": [
    "Let's have a look a the inverse of the precision matrix (covariance matrix):"
   ]
  },
  {
   "cell_type": "code",
   "execution_count": 12,
   "metadata": {},
   "outputs": [
    {
     "data": {
      "image/png": "[encoded data removed]",
      "text/plain": [
       "<matplotlib.figure.Figure at 0x7fb9e136e518>"
      ]
     },
     "metadata": {},
     "output_type": "display_data"
    }
   ],
   "source": [
    "matshow(session.run(tf.linalg.inv(K_tensor)));"
   ]
  },
  {
   "cell_type": "markdown",
   "metadata": {},
   "source": [
    "The sparsity pattern is actually preserved but now we have negative values."
   ]
  },
  {
   "cell_type": "code",
   "execution_count": 13,
   "metadata": {},
   "outputs": [
    {
     "data": {
      "text/plain": [
       "0.6938775510204082"
      ]
     },
     "execution_count": 13,
     "metadata": {},
     "output_type": "execute_result"
    },
    {
     "data": {
      "image/png": "[encoded data removed]",
      "text/plain": [
       "<matplotlib.figure.Figure at 0x7fb9d87484e0>"
      ]
     },
     "metadata": {},
     "output_type": "display_data"
    }
   ],
   "source": [
    "K_inv = session.run(tf.linalg.inv(K_tensor))\n",
    "plt.hist(K_inv.ravel(), bins=30)\n",
    "np.mean(K_inv == 0)"
   ]
  },
  {
   "cell_type": "markdown",
   "metadata": {},
   "source": [
    "Let's try with a more realistic size, this time we won't try to materialize it as a tensor:"
   ]
  },
  {
   "cell_type": "code",
   "execution_count": 14,
   "metadata": {},
   "outputs": [
    {
     "name": "stdout",
     "output_type": "stream",
     "text": [
      "diagonal operator built in 0.157s\n",
      "lowrank update operator built in 0.008s\n",
      "lowrank update operator built in 0.013s\n",
      "lowrank update operator built in 0.022s\n",
      "lowrank update operator built in 0.041s\n",
      "lowrank update operator built in 0.089s\n",
      "lowrank update operator built in 0.189s\n",
      "lowrank update operator built in 0.404s\n",
      "lowrank update operator built in 0.745s\n",
      "CPU times: user 1.7 s, sys: 136 ms, total: 1.84 s\n",
      "Wall time: 1.68 s\n"
     ]
    }
   ],
   "source": [
    "%time big_K, big_variables = make_block_linear_operator([4096] * 8)"
   ]
  },
  {
   "cell_type": "code",
   "execution_count": 15,
   "metadata": {},
   "outputs": [],
   "source": [
    "# %load_ext line_profiler"
   ]
  },
  {
   "cell_type": "code",
   "execution_count": 16,
   "metadata": {},
   "outputs": [],
   "source": [
    "# %lprun -f tf.linalg.LinearOperatorLowRankUpdate.__init__ make_block_linear_operator([4096] * 10)"
   ]
  },
  {
   "cell_type": "code",
   "execution_count": 17,
   "metadata": {},
   "outputs": [
    {
     "data": {
      "text/plain": [
       "TensorShape([Dimension(32768), Dimension(32768)])"
      ]
     },
     "execution_count": 17,
     "metadata": {},
     "output_type": "execute_result"
    }
   ],
   "source": [
    "big_K.shape"
   ]
  },
  {
   "cell_type": "code",
   "execution_count": 18,
   "metadata": {},
   "outputs": [
    {
     "data": {
      "text/plain": [
       "1.073741824"
      ]
     },
     "execution_count": 18,
     "metadata": {},
     "output_type": "execute_result"
    }
   ],
   "source": [
    "np.product(big_K.shape).value / 1e9"
   ]
  },
  {
   "cell_type": "markdown",
   "metadata": {},
   "source": [
    "Our parametrization of a this very large precision matrix has only a handful of trainable parameters:"
   ]
  },
  {
   "cell_type": "code",
   "execution_count": 19,
   "metadata": {},
   "outputs": [
    {
     "data": {
      "text/plain": [
       "16"
      ]
     },
     "execution_count": 19,
     "metadata": {},
     "output_type": "execute_result"
    }
   ],
   "source": [
    "sum(np.prod(v.shape).value for v in big_variables)"
   ]
  },
  {
   "cell_type": "code",
   "execution_count": 20,
   "metadata": {},
   "outputs": [
    {
     "name": "stdout",
     "output_type": "stream",
     "text": [
      "CPU times: user 96 ms, sys: 4 ms, total: 100 ms\n",
      "Wall time: 102 ms\n"
     ]
    }
   ],
   "source": [
    "%time big_det = big_K.log_abs_determinant()"
   ]
  },
  {
   "cell_type": "code",
   "execution_count": 21,
   "metadata": {},
   "outputs": [
    {
     "name": "stdout",
     "output_type": "stream",
     "text": [
      "CPU times: user 468 ms, sys: 0 ns, total: 468 ms\n",
      "Wall time: 436 ms\n"
     ]
    },
    {
     "data": {
      "text/plain": [
       "29.893726"
      ]
     },
     "execution_count": 21,
     "metadata": {},
     "output_type": "execute_result"
    }
   ],
   "source": [
    "session.run(tf.global_variables_initializer())\n",
    "%time session.run(big_det)"
   ]
  },
  {
   "cell_type": "markdown",
   "metadata": {},
   "source": [
    "## Maximum Likelihood Estimation of K"
   ]
  },
  {
   "cell_type": "code",
   "execution_count": 55,
   "metadata": {},
   "outputs": [
    {
     "name": "stdout",
     "output_type": "stream",
     "text": [
      "diagonal operator built in 0.035s\n",
      "lowrank update operator built in 0.012s\n",
      "lowrank update operator built in 0.027s\n",
      "lowrank update operator built in 0.033s\n",
      "lowrank update operator built in 0.056s\n",
      "WARNING:tensorflow:Using (possibly slow) default implementation of to_dense.  Converts by self.matmul(identity).\n"
     ]
    },
    {
     "data": {
      "image/png": "[encoded data removed]",
      "text/plain": [
       "<matplotlib.figure.Figure at 0x7fb9bb93d048>"
      ]
     },
     "metadata": {},
     "output_type": "display_data"
    }
   ],
   "source": [
    "block_sizes = [10, 22, 12, 1]\n",
    "# ground truth distribution parameters:\n",
    "K_gt, variables_gt = make_block_linear_operator(\n",
    "    block_sizes,\n",
    "    diag_init=[0.5, 0.8, -0.5, 0],\n",
    "    lowrank_init=[0.8, 0.5, 0.8, 0]\n",
    ")\n",
    "\n",
    "session.run(tf.global_variables_initializer())\n",
    "K_gt_tensor = session.run(K_gt.to_dense())\n",
    "matshow(K_gt_tensor)"
   ]
  },
  {
   "cell_type": "code",
   "execution_count": 23,
   "metadata": {},
   "outputs": [],
   "source": [
    "C_gt = tf.linalg.inv(K_gt_tensor)\n",
    "# matshow(session.run(C_gt)"
   ]
  },
  {
   "cell_type": "code",
   "execution_count": 24,
   "metadata": {},
   "outputs": [],
   "source": [
    "from tensorflow.contrib.distributions import MultivariateNormalFullCovariance\n",
    "\n",
    "\n",
    "model_gt = MultivariateNormalFullCovariance(loc=tf.zeros([C_gt.shape[0]], dtype=np.float32),\n",
    "                                            covariance_matrix=C_gt)\n",
    "data_train = session.run(model_gt.sample(50))\n",
    "data_train = tf.constant(data_train)"
   ]
  },
  {
   "cell_type": "markdown",
   "metadata": {},
   "source": [
    "Check a naive empirical precision matrix estimate from the training data (no prior):"
   ]
  },
  {
   "cell_type": "code",
   "execution_count": 25,
   "metadata": {},
   "outputs": [
    {
     "data": {
      "image/png": "[encoded data removed]",
      "text/plain": [
       "<matplotlib.figure.Figure at 0x7fb9ca47cef0>"
      ]
     },
     "metadata": {},
     "output_type": "display_data"
    }
   ],
   "source": [
    "matshow(session.run(tf.linalg.inv(tf.matmul(tf.transpose(data_train), data_train))));"
   ]
  },
  {
   "cell_type": "code",
   "execution_count": 26,
   "metadata": {},
   "outputs": [
    {
     "data": {
      "image/png": "[encoded data removed]",
      "text/plain": [
       "<matplotlib.figure.Figure at 0x7fb9ca38d438>"
      ]
     },
     "metadata": {},
     "output_type": "display_data"
    }
   ],
   "source": [
    "data_test = session.run(model_gt.sample(10000))\n",
    "data_test = tf.constant(data_test)\n",
    "matshow(session.run(tf.linalg.inv(tf.matmul(tf.transpose(data_test), data_test))));"
   ]
  },
  {
   "cell_type": "markdown",
   "metadata": {},
   "source": [
    "Make a new estimator with the default init:"
   ]
  },
  {
   "cell_type": "code",
   "execution_count": 27,
   "metadata": {},
   "outputs": [
    {
     "name": "stdout",
     "output_type": "stream",
     "text": [
      "diagonal operator built in 0.030s\n",
      "lowrank update operator built in 0.012s\n",
      "lowrank update operator built in 0.018s\n",
      "lowrank update operator built in 0.030s\n",
      "lowrank update operator built in 0.050s\n",
      "WARNING:tensorflow:Using (possibly slow) default implementation of to_dense.  Converts by self.matmul(identity).\n"
     ]
    },
    {
     "data": {
      "image/png": "[encoded data removed]",
      "text/plain": [
       "<matplotlib.figure.Figure at 0x7fb9e133d8d0>"
      ]
     },
     "metadata": {},
     "output_type": "display_data"
    }
   ],
   "source": [
    "K, variables = make_block_linear_operator(block_sizes)\n",
    "session.run(tf.global_variables_initializer())\n",
    "matshow(session.run(K.to_dense()))"
   ]
  },
  {
   "cell_type": "code",
   "execution_count": 28,
   "metadata": {},
   "outputs": [],
   "source": [
    "def loss(K, data):\n",
    "    return tf.reduce_mean(0.5 * (\n",
    "        - K.log_abs_determinant()\n",
    "        + tf.reduce_sum(tf.transpose(data) * K.matmul(tf.transpose(data)), axis=0)\n",
    "        + K.shape[0].value * np.log(2 * np.pi)\n",
    "    ))"
   ]
  },
  {
   "cell_type": "code",
   "execution_count": 29,
   "metadata": {},
   "outputs": [
    {
     "data": {
      "text/plain": [
       "16.903654"
      ]
     },
     "execution_count": 29,
     "metadata": {},
     "output_type": "execute_result"
    }
   ],
   "source": [
    "session.run(loss(K_gt, data_train))"
   ]
  },
  {
   "cell_type": "code",
   "execution_count": 30,
   "metadata": {},
   "outputs": [
    {
     "data": {
      "text/plain": [
       "16.85653"
      ]
     },
     "execution_count": 30,
     "metadata": {},
     "output_type": "execute_result"
    }
   ],
   "source": [
    "session.run(loss(K_gt, data_test))"
   ]
  },
  {
   "cell_type": "code",
   "execution_count": 31,
   "metadata": {},
   "outputs": [
    {
     "data": {
      "text/plain": [
       "18.550064"
      ]
     },
     "execution_count": 31,
     "metadata": {},
     "output_type": "execute_result"
    }
   ],
   "source": [
    "train_loss = loss(K, data_train)\n",
    "session.run(train_loss)"
   ]
  },
  {
   "cell_type": "code",
   "execution_count": 32,
   "metadata": {},
   "outputs": [
    {
     "data": {
      "text/plain": [
       "18.536388"
      ]
     },
     "execution_count": 32,
     "metadata": {},
     "output_type": "execute_result"
    }
   ],
   "source": [
    "test_loss = loss(K, data_test)\n",
    "session.run(test_loss)"
   ]
  },
  {
   "cell_type": "code",
   "execution_count": 33,
   "metadata": {},
   "outputs": [
    {
     "data": {
      "text/plain": [
       "[array([0., 0., 0., 0.], dtype=float32),\n",
       " array([0.1, 0.1, 0.1, 0.1], dtype=float32)]"
      ]
     },
     "execution_count": 33,
     "metadata": {},
     "output_type": "execute_result"
    }
   ],
   "source": [
    "session.run(variables)"
   ]
  },
  {
   "cell_type": "code",
   "execution_count": 34,
   "metadata": {},
   "outputs": [
    {
     "data": {
      "text/plain": [
       "[array([-0.7322294 , -1.4751756 ,  0.8870673 ,  0.11566237], dtype=float32),\n",
       " array([-0.19668387, -0.3319157 , -0.33162767,  0.02313248], dtype=float32)]"
      ]
     },
     "execution_count": 34,
     "metadata": {},
     "output_type": "execute_result"
    }
   ],
   "source": [
    "grads_op = tf.gradients(loss(K, data_train), variables)\n",
    "grads_value = session.run(grads_op)\n",
    "grads_value"
   ]
  },
  {
   "cell_type": "code",
   "execution_count": 35,
   "metadata": {},
   "outputs": [],
   "source": [
    "diag_grad_norm, low_rank_grad_norm = [np.linalg.norm(gv) for gv in grads_value]"
   ]
  },
  {
   "cell_type": "code",
   "execution_count": 36,
   "metadata": {},
   "outputs": [
    {
     "data": {
      "text/plain": [
       "1.874185"
      ]
     },
     "execution_count": 36,
     "metadata": {},
     "output_type": "execute_result"
    }
   ],
   "source": [
    "diag_grad_norm"
   ]
  },
  {
   "cell_type": "code",
   "execution_count": 37,
   "metadata": {},
   "outputs": [
    {
     "data": {
      "text/plain": [
       "0.50927854"
      ]
     },
     "execution_count": 37,
     "metadata": {},
     "output_type": "execute_result"
    }
   ],
   "source": [
    "low_rank_grad_norm"
   ]
  },
  {
   "cell_type": "code",
   "execution_count": 38,
   "metadata": {},
   "outputs": [
    {
     "name": "stdout",
     "output_type": "stream",
     "text": [
      "[010] train loss: 18.18209, test loss: 18.13662, diag grad: 1.61719, lowrank grad: 0.81484\n",
      "[020] train loss: 17.79403, test loss: 17.75594, diag grad: 1.35168, lowrank grad: 0.93327\n",
      "[030] train loss: 17.46510, test loss: 17.43295, diag grad: 1.11020, lowrank grad: 0.83193\n",
      "[040] train loss: 17.22519, test loss: 17.19606, diag grad: 0.89749, lowrank grad: 0.60984\n",
      "[050] train loss: 17.07625, test loss: 17.04706, diag grad: 0.71852, lowrank grad: 0.37488\n",
      "[060] train loss: 16.99523, test loss: 16.96487, diag grad: 0.57392, lowrank grad: 0.19230\n",
      "[070] train loss: 16.95279, test loss: 16.92245, diag grad: 0.45887, lowrank grad: 0.08950\n",
      "[080] train loss: 16.92836, test loss: 16.89982, diag grad: 0.36615, lowrank grad: 0.06510\n",
      "[090] train loss: 16.91229, test loss: 16.88676, diag grad: 0.28952, lowrank grad: 0.06375\n",
      "[100] train loss: 16.90123, test loss: 16.87925, diag grad: 0.22511, lowrank grad: 0.05524\n",
      "[110] train loss: 16.89393, test loss: 16.87555, diag grad: 0.17105, lowrank grad: 0.04249\n",
      "[120] train loss: 16.88942, test loss: 16.87425, diag grad: 0.12652, lowrank grad: 0.03094\n",
      "[130] train loss: 16.88682, test loss: 16.87414, diag grad: 0.09086, lowrank grad: 0.02261\n",
      "[140] train loss: 16.88540, test loss: 16.87444, diag grad: 0.06329, lowrank grad: 0.01689\n",
      "[150] train loss: 16.88465, test loss: 16.87486, diag grad: 0.04276, lowrank grad: 0.01258\n",
      "[160] train loss: 16.88428, test loss: 16.87525, diag grad: 0.02803, lowrank grad: 0.00910\n",
      "[170] train loss: 16.88411, test loss: 16.87559, diag grad: 0.01785, lowrank grad: 0.00632\n",
      "[180] train loss: 16.88403, test loss: 16.87585, diag grad: 0.01106, lowrank grad: 0.00420\n",
      "[190] train loss: 16.88400, test loss: 16.87602, diag grad: 0.00666, lowrank grad: 0.00265\n",
      "[200] train loss: 16.88398, test loss: 16.87617, diag grad: 0.00389, lowrank grad: 0.00157\n",
      "[210] train loss: 16.88398, test loss: 16.87626, diag grad: 0.00218, lowrank grad: 0.00086\n",
      "[220] train loss: 16.88398, test loss: 16.87632, diag grad: 0.00115, lowrank grad: 0.00043\n",
      "[230] train loss: 16.88397, test loss: 16.87634, diag grad: 0.00056, lowrank grad: 0.00019\n",
      "[240] train loss: 16.88397, test loss: 16.87637, diag grad: 0.00023, lowrank grad: 0.00007\n",
      "[250] train loss: 16.88397, test loss: 16.87638, diag grad: 0.00006, lowrank grad: 0.00001\n"
     ]
    }
   ],
   "source": [
    "optimizer = tf.train.AdamOptimizer(learning_rate=0.01)\n",
    "train_op = optimizer.minimize(train_loss, var_list=variables)\n",
    "session.run(tf.global_variables_initializer())\n",
    "\n",
    "history = {\n",
    "    'train_loss': [session.run(train_loss)],\n",
    "    'test_loss': [session.run(test_loss)],\n",
    "    'diag_grad_norm': [diag_grad_norm],\n",
    "    'low_rank_grad_norm': [low_rank_grad_norm],\n",
    "    'step': [0],\n",
    "}\n",
    "for i in range(250):\n",
    "    _, train_loss_value, grads_value = session.run([train_op, train_loss, grads_op])\n",
    "    if (i + 1) % 10 == 0:\n",
    "        test_loss_value = session.run(test_loss)\n",
    "        diag_grad_norm, low_rank_grad_norm = [np.linalg.norm(gv) for gv in grads_value]\n",
    "        print(f\"[{i + 1:03d}] train loss: {train_loss_value:.5f}, test loss: {test_loss_value:.5f}, \"\n",
    "              f\"diag grad: {diag_grad_norm:.5f}, lowrank grad: {low_rank_grad_norm:.5f}\")\n",
    "        history['train_loss'].append(train_loss_value)\n",
    "        history['test_loss'].append(test_loss_value)\n",
    "        history['diag_grad_norm'].append(diag_grad_norm)\n",
    "        history['low_rank_grad_norm'].append(low_rank_grad_norm)\n",
    "        history['step'].append(i + 1)\n",
    "        \n",
    "        # TODO: snapshot parameters for model with best validation set params\n",
    "        # Early stop when no more progress on training set (just to\n",
    "        # keep convergence plots interesting and highlight overfitting).\n",
    "        \n",
    "        # TODO: Polyak-Rupert averaging of the estimator variables + add small noise\n",
    "        # to training data to make Polyak-Rupert averaging more interesting."
   ]
  },
  {
   "cell_type": "code",
   "execution_count": 39,
   "metadata": {},
   "outputs": [
    {
     "data": {
      "image/png": "[encoded data removed]",
      "text/plain": [
       "<matplotlib.figure.Figure at 0x7fb9c9271940>"
      ]
     },
     "metadata": {},
     "output_type": "display_data"
    }
   ],
   "source": [
    "fig, (ax0, ax1) = plt.subplots(nrows=2, figsize=(12, 8))\n",
    "x = history['step']\n",
    "ax0.plot(x, history['train_loss'], label='train')\n",
    "ax0.plot(x, history['test_loss'], label='test')\n",
    "ax0.set_ylabel('negative log likelihood')\n",
    "ax0.set_xticks([])\n",
    "ax0.legend()\n",
    "\n",
    "ax1.plot(x, history['diag_grad_norm'], label='diagonal parameters')\n",
    "ax1.plot(x, history['low_rank_grad_norm'], label='lowrank parameters')\n",
    "ax1.set_ylabel('gradient norms')\n",
    "ax1.set_xlabel('steps')\n",
    "ax1.legend();"
   ]
  },
  {
   "cell_type": "code",
   "execution_count": 40,
   "metadata": {},
   "outputs": [
    {
     "name": "stdout",
     "output_type": "stream",
     "text": [
      "WARNING:tensorflow:Using (possibly slow) default implementation of to_dense.  Converts by self.matmul(identity).\n"
     ]
    },
    {
     "data": {
      "image/png": "[encoded data removed]",
      "text/plain": [
       "<matplotlib.figure.Figure at 0x7fb9c880c9b0>"
      ]
     },
     "metadata": {},
     "output_type": "display_data"
    }
   ],
   "source": [
    "matshow(session.run(K.to_dense()))"
   ]
  },
  {
   "cell_type": "code",
   "execution_count": 41,
   "metadata": {},
   "outputs": [
    {
     "name": "stdout",
     "output_type": "stream",
     "text": [
      "WARNING:tensorflow:Using (possibly slow) default implementation of to_dense.  Converts by self.matmul(identity).\n"
     ]
    },
    {
     "data": {
      "image/png": "[encoded data removed]",
      "text/plain": [
       "<matplotlib.figure.Figure at 0x7fb9c8768198>"
      ]
     },
     "metadata": {},
     "output_type": "display_data"
    }
   ],
   "source": [
    "matshow(session.run(K_gt.to_dense()))"
   ]
  },
  {
   "cell_type": "markdown",
   "metadata": {},
   "source": [
    "## Part two: backups"
   ]
  },
  {
   "cell_type": "code",
   "execution_count": 42,
   "metadata": {},
   "outputs": [],
   "source": [
    "# try:\n",
    "#     tfe.enable_eager_execution()\n",
    "# except ValueError:\n",
    "#     # Hide the annoying lack of idem-potency.\n",
    "#     pass"
   ]
  },
  {
   "cell_type": "code",
   "execution_count": 43,
   "metadata": {},
   "outputs": [],
   "source": [
    "block_boundaries = [0, 5, 8, 10]\n",
    "# block_boundaries = [0]\n",
    "# block_boundaries.append(block_boundaries[-1] + 784 * 10)\n",
    "# block_boundaries.append(block_boundaries[-1] + 10)\n",
    "# block_boundaries.append(block_boundaries[-1] + 10 * 10)\n",
    "# block_boundaries.append(block_boundaries[-1] + 10)\n",
    "# block_boundaries.append(block_boundaries[-1] + 10 * 10)\n",
    "# block_boundaries.append(block_boundaries[-1] + 10)\n",
    "\n",
    "\n",
    "\n",
    "def outer(v):\n",
    "    return tf.matmul(tf.reshape(v, (-1, 1)),\n",
    "                     tf.reshape(v, (1, -1)))\n",
    "\n",
    "\n",
    "def parametrized_precision(block_boundaries):\n",
    "    variables = []\n",
    "    n_params = block_boundaries[-1]\n",
    "    K = tf.zeros(shape=(n_params, n_params))\n",
    "    for i, j in zip(block_boundaries, block_boundaries[1:]):\n",
    "        # Diagonal for the current block\n",
    "        diag_mask_i = np.zeros(n_params, dtype=np.float32)\n",
    "        diag_mask_i[i:j] = 1\n",
    "        diag_mask_i = tf.constant(diag_mask_i)\n",
    "        K_i_var = tf.Variable(0.5, dtype=np.float32)\n",
    "        K_i = tf.diag(tf.exp(K_i_var) * diag_mask_i)\n",
    "        variables.append(K_i_var)\n",
    "        K += K_i\n",
    "        \n",
    "        # Rank-one for the current parameter block\n",
    "        ro_mask_i = np.zeros(n_params, dtype=np.float32)\n",
    "        ro_mask_i[i:j] = 1\n",
    "        ro_mask_i = tf.constant(ro_mask_i)\n",
    "        ro_var_i = tf.Variable(1, dtype=np.float32)\n",
    "        ro_i = outer(ro_var_i * ro_mask_i)\n",
    "        variables.append(ro_var_i)\n",
    "        K += ro_i\n",
    "    for i, j in zip(block_boundaries, block_boundaries[2:]):\n",
    "        # Rank-one for consecutive blocks interactions\n",
    "        ro_mask_i = np.zeros(n_params, dtype=np.float32)\n",
    "        ro_mask_i[i:j] = 1\n",
    "        ro_mask_i = tf.constant(ro_mask_i)\n",
    "        ro_var_i = tf.Variable(1., dtype=np.float32)\n",
    "        ro_i = outer(ro_var_i * ro_mask_i)\n",
    "        variables.append(ro_var_i)\n",
    "        K += ro_i\n",
    "    return K, variables\n",
    "\n",
    "K2, variables = parametrized_precision(block_boundaries)"
   ]
  },
  {
   "cell_type": "code",
   "execution_count": 44,
   "metadata": {},
   "outputs": [],
   "source": [
    "session.run(tf.global_variables_initializer())\n",
    "K2 = session.run(K2)"
   ]
  },
  {
   "cell_type": "code",
   "execution_count": 45,
   "metadata": {},
   "outputs": [
    {
     "data": {
      "text/plain": [
       "8"
      ]
     },
     "execution_count": 45,
     "metadata": {},
     "output_type": "execute_result"
    },
    {
     "data": {
      "image/png": "[encoded data removed]",
      "text/plain": [
       "<matplotlib.figure.Figure at 0x7fb9c8675828>"
      ]
     },
     "metadata": {},
     "output_type": "display_data"
    }
   ],
   "source": [
    "matshow(K2)\n",
    "len(variables)"
   ]
  },
  {
   "cell_type": "code",
   "execution_count": 46,
   "metadata": {},
   "outputs": [
    {
     "data": {
      "text/plain": [
       "18083.242"
      ]
     },
     "execution_count": 46,
     "metadata": {},
     "output_type": "execute_result"
    }
   ],
   "source": [
    "np.linalg.det(K2)"
   ]
  },
  {
   "cell_type": "code",
   "execution_count": 47,
   "metadata": {},
   "outputs": [
    {
     "data": {
      "text/plain": [
       "array([ 1.6487198,  1.6487209,  1.648721 ,  1.6487212,  1.6487212,\n",
       "        1.6487212,  1.6487213,  4.268642 ,  8.341459 , 15.3360615],\n",
       "      dtype=float32)"
      ]
     },
     "execution_count": 47,
     "metadata": {},
     "output_type": "execute_result"
    },
    {
     "data": {
      "image/png": "[encoded data removed]",
      "text/plain": [
       "<matplotlib.figure.Figure at 0x7fb9c81279e8>"
      ]
     },
     "metadata": {},
     "output_type": "display_data"
    }
   ],
   "source": [
    "eigvals = session.run(tf.linalg.eigh(K2)[0])\n",
    "plt.bar(np.arange(K2.shape[0]), eigvals)\n",
    "eigvals"
   ]
  },
  {
   "cell_type": "code",
   "execution_count": 48,
   "metadata": {},
   "outputs": [],
   "source": [
    "C = session.run(tf.linalg.inv(K2))\n",
    "# fig, ax = plt.subplots(figsize=(8, 8))\n",
    "# ax.matshow(C)"
   ]
  },
  {
   "cell_type": "code",
   "execution_count": 49,
   "metadata": {},
   "outputs": [],
   "source": [
    "from tensorflow.contrib.distributions import MultivariateNormalFullCovariance\n",
    "\n",
    "\n",
    "model = MultivariateNormalFullCovariance(loc=tf.zeros([C.shape[0]], dtype=np.float32), covariance_matrix=C)"
   ]
  },
  {
   "cell_type": "code",
   "execution_count": 50,
   "metadata": {},
   "outputs": [
    {
     "data": {
      "image/png": "[encoded data removed]",
      "text/plain": [
       "<matplotlib.figure.Figure at 0x7fb9c80aacf8>"
      ]
     },
     "metadata": {},
     "output_type": "display_data"
    }
   ],
   "source": [
    "data = session.run(model.sample(100))\n",
    "matshow(session.run(tf.linalg.inv(tf.matmul(tf.transpose(data), data))));"
   ]
  },
  {
   "cell_type": "code",
   "execution_count": 51,
   "metadata": {},
   "outputs": [],
   "source": [
    "# from sklearn.covariance import graph_lasso\n",
    "\n",
    "# gl = graph_lasso(np.asarray(tf.matmul(tf.transpose(data), data)), 1)\n",
    "# fig, ax = plt.subplots(figsize=(8, 8))\n",
    "# ax.matshow(gl[1])"
   ]
  },
  {
   "cell_type": "code",
   "execution_count": 52,
   "metadata": {},
   "outputs": [
    {
     "data": {
      "image/png": "[encoded data removed]",
      "text/plain": [
       "<matplotlib.figure.Figure at 0x7fb9bbf00278>"
      ]
     },
     "metadata": {},
     "output_type": "display_data"
    }
   ],
   "source": [
    "data_large = session.run(model.sample(10000))\n",
    "matshow(session.run(tf.linalg.inv(tf.matmul(tf.transpose(data_large), data_large))));"
   ]
  },
  {
   "cell_type": "code",
   "execution_count": null,
   "metadata": {},
   "outputs": [],
   "source": []
  }
 ],
 "metadata": {
  "kernelspec": {
   "display_name": "Python 3",
   "language": "python",
   "name": "python3"
  },
  "language_info": {
   "codemirror_mode": {
    "name": "ipython",
    "version": 3
   },
   "file_extension": ".py",
   "mimetype": "text/x-python",
   "name": "python",
   "nbconvert_exporter": "python",
   "pygments_lexer": "ipython3",
   "version": "3.6.1"
  }
 },
 "nbformat": 4,
 "nbformat_minor": 2
}
