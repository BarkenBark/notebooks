{
 "metadata": {
  "name": ""
 },
 "nbformat": 3,
 "nbformat_minor": 0,
 "worksheets": [
  {
   "cells": [
    {
     "cell_type": "code",
     "collapsed": false,
     "input": [
      "import os\n",
      "import re\n",
      "import bz2\n",
      "import numpy as np\n",
      "from os.path import expanduser, join, exists\n",
      "\n",
      "DATA_FOLDER = expanduser('~/data/mnist8m')\n",
      "MNIST8M_SRC_URL = ('http://www.csie.ntu.edu.tw/~cjlin/libsvmtools/'\n",
      "                   'datasets/multiclass/mnist8m.bz2')\n",
      "MNIST8M_SRC_FILENAME = MNIST8M_SRC_URL.rsplit('/', 1)[1]\n",
      "MNIST8M_SRC_FILEPATH = join(DATA_FOLDER, MNIST8M_SRC_FILENAME)\n",
      "MNIST8M_MMAP_DATA_FILENAME = \"mnist8m_data.mmap\"\n",
      "MNIST8M_MMAP_DATA_FILEPATH = join(DATA_FOLDER, MNIST8M_MMAP_DATA_FILENAME)\n",
      "\n",
      "MNIST8M_MMAP_LABELS_FILENAME = \"mnist8m_labels.mmap\"\n",
      "MNIST8M_MMAP_LABELS_FILEPATH = join(DATA_FOLDER, MNIST8M_MMAP_LABELS_FILENAME)\n",
      "\n",
      "CHUNK_FILENAME_PREFIX = \"mnist8m-chunk-\"\n",
      "\n",
      "CHUNK_SIZE = 100000"
     ],
     "language": "python",
     "metadata": {},
     "outputs": [],
     "prompt_number": 1
    },
    {
     "cell_type": "markdown",
     "metadata": {},
     "source": [
      "Download the `mnist8m.bz2` source file into the data folder if not previously downloaded:"
     ]
    },
    {
     "cell_type": "code",
     "collapsed": false,
     "input": [
      "if not exists(DATA_FOLDER):\n",
      "    os.makedirs(DATA_FOLDER)\n",
      "\n",
      "if not exists(MNIST8M_SRC_FILEPATH):\n",
      "    cmd = \"(cd '%s' && wget -c '%s')\" % (DATA_FOLDER, MNIST8M_SRC_URL)\n",
      "    print(cmd)\n",
      "    os.system(cmd)"
     ],
     "language": "python",
     "metadata": {},
     "outputs": [],
     "prompt_number": 2
    },
    {
     "cell_type": "markdown",
     "metadata": {},
     "source": [
      "Decompress and chunk the source svmlight formatted data file to make it easier to process it in parallel:"
     ]
    },
    {
     "cell_type": "code",
     "collapsed": false,
     "input": [
      "chunk_filenames = [fn for fn in os.listdir(DATA_FOLDER)\n",
      "                      if fn.startswith(CHUNK_FILENAME_PREFIX)]\n",
      "chunk_filenames.sort()\n",
      "\n",
      "\n",
      "if not chunk_filenames:\n",
      "    chunk_filenames = []\n",
      "    with bz2.BZ2File(MNIST8M_SRC_FILEPATH) as source:\n",
      "        target, line_no, chunk_idx = None, 0, 0\n",
      "        for line in source:\n",
      "            line_no += 1\n",
      "            if target is None:\n",
      "                chunk_filename = \"%s%03d.svmlight\" % (\n",
      "                    CHUNK_FILENAME_PREFIX, chunk_idx)\n",
      "                chunk_filename = join(DATA_FOLDER, chunk_filename)\n",
      "                target = open(chunk_filename, 'wb')\n",
      "                chunk_idx += 1\n",
      "                chunk_filenames.append(chunk_filename)\n",
      "                \n",
      "            target.write(line)\n",
      "                \n",
      "            if line_no >= CHUNK_SIZE:\n",
      "                target.close()\n",
      "                target, line_no = None, 0\n",
      "        if target is not None:\n",
      "            target.close()"
     ],
     "language": "python",
     "metadata": {},
     "outputs": [],
     "prompt_number": 3
    },
    {
     "cell_type": "heading",
     "level": 2,
     "metadata": {},
     "source": [
      "Memory mapping utility to load or create the mmap data files"
     ]
    },
    {
     "cell_type": "code",
     "collapsed": false,
     "input": [
      "def get_mmap_data(data_filepath, labels_filepath, mode=None, order='C'):\n",
      "    import numpy as np\n",
      "    from os.path import exists\n",
      "\n",
      "    n_samples, n_features = 8100000, 28 ** 2\n",
      "    shape = (n_samples, n_features)\n",
      "    \n",
      "    # Reopen the existing data map if it already exists, otherwise create it\n",
      "    if mode is None:\n",
      "        mode_data = 'r+' if exists(data_filepath) else 'w+'\n",
      "    else:\n",
      "        mode_data = mode\n",
      "    data = np.memmap(data_filepath, shape=shape,\n",
      "                     dtype=np.float32, mode=mode_data, order=order)\n",
      "    \n",
      "    if mode is None:\n",
      "        mode_labels = 'r+' if exists(labels_filepath) else 'w+'\n",
      "    else:\n",
      "        mode_labels = mode\n",
      "    labels = np.memmap(labels_filepath, shape=n_samples,\n",
      "                       dtype=np.int32, mode=mode_labels)\n",
      "    return data, labels"
     ],
     "language": "python",
     "metadata": {},
     "outputs": [],
     "prompt_number": 16
    },
    {
     "cell_type": "code",
     "collapsed": false,
     "input": [
      "# Trigger the creation of the mmap files with zero data if missing.\n",
      "data, labels = get_mmap_data(MNIST8M_MMAP_DATA_FILEPATH,\n",
      "                             MNIST8M_MMAP_LABELS_FILEPATH)"
     ],
     "language": "python",
     "metadata": {},
     "outputs": [],
     "prompt_number": 17
    },
    {
     "cell_type": "heading",
     "level": 2,
     "metadata": {},
     "source": [
      "Initialization of the IPython.parallel cluster client"
     ]
    },
    {
     "cell_type": "code",
     "collapsed": false,
     "input": [
      "from IPython.parallel import Client"
     ],
     "language": "python",
     "metadata": {},
     "outputs": [],
     "prompt_number": 67
    },
    {
     "cell_type": "code",
     "collapsed": false,
     "input": [
      "client = Client()\n",
      "lb_view = client.load_balanced_view()\n",
      "len(lb_view)"
     ],
     "language": "python",
     "metadata": {},
     "outputs": [
      {
       "metadata": {},
       "output_type": "pyout",
       "prompt_number": 68,
       "text": [
        "16"
       ]
      }
     ],
     "prompt_number": 68
    },
    {
     "cell_type": "code",
     "collapsed": false,
     "input": [
      "# Ship the definition of the mmap loading helper function to the\n",
      "# worker processes\n",
      "client[:][get_mmap_data.__name__] = get_mmap_data"
     ],
     "language": "python",
     "metadata": {},
     "outputs": [],
     "prompt_number": 69
    },
    {
     "cell_type": "heading",
     "level": 2,
     "metadata": {},
     "source": [
      "Initialization of the contiguous mmap data files from the svmlight formatted chunks"
     ]
    },
    {
     "cell_type": "markdown",
     "metadata": {},
     "source": [
      "We use IPython.parallel to parse the svmlight formatted chunks and store the resulting data into a single precision float, C contiguous array suitable for training ensembles of trees."
     ]
    },
    {
     "cell_type": "code",
     "collapsed": false,
     "input": [
      "def parse_chunk(task_info):\n",
      "    from sklearn.datasets import load_svmlight_file\n",
      "    from os.path import join\n",
      "    chunk_index, chunk_filename, chunk_size = task_info[:3]\n",
      "    data_filepath, labels_filepath = task_info[3:]\n",
      "    data, labels = get_mmap_data(data_filepath,\n",
      "                                 labels_filepath,\n",
      "                                 mode='r+')\n",
      "    X, y = load_svmlight_file(chunk_filename, n_features=28 ** 2)\n",
      "    region = slice(chunk_index * chunk_size,\n",
      "                   (chunk_index + 1) * chunk_size)\n",
      "    data[region, :] = X.toarray() / 255.\n",
      "    labels[region] = y\n",
      "\n",
      "    \n",
      "task_infos = [(chunk_index,\n",
      "               join(DATA_FOLDER, chunk_filename),\n",
      "               CHUNK_SIZE,\n",
      "               MNIST8M_MMAP_DATA_FILEPATH,\n",
      "               MNIST8M_MMAP_LABELS_FILEPATH)\n",
      "              for chunk_index, chunk_filename in enumerate(chunk_filenames)]\n",
      "\n",
      "result = lb_view.map(parse_chunk, task_infos)"
     ],
     "language": "python",
     "metadata": {},
     "outputs": [],
     "prompt_number": 10
    },
    {
     "cell_type": "code",
     "collapsed": false,
     "input": [
      "result.get()\n",
      "%time data.max(), labels.max()"
     ],
     "language": "python",
     "metadata": {},
     "outputs": [
      {
       "output_type": "stream",
       "stream": "stdout",
       "text": [
        "CPU times: user 7.8 s, sys: 2.01 s, total: 9.81 s\n",
        "Wall time: 9.81 s\n"
       ]
      },
      {
       "metadata": {},
       "output_type": "pyout",
       "prompt_number": 70,
       "text": [
        "(memmap(1.0, dtype=float32), memmap(9, dtype=int32))"
       ]
      }
     ],
     "prompt_number": 70
    },
    {
     "cell_type": "code",
     "collapsed": false,
     "input": [
      "%time data.max(), labels.max()"
     ],
     "language": "python",
     "metadata": {},
     "outputs": [
      {
       "output_type": "stream",
       "stream": "stdout",
       "text": [
        "CPU times: user 6.87 s, sys: 2.75 s, total: 9.62 s\n",
        "Wall time: 9.62 s\n"
       ]
      },
      {
       "metadata": {},
       "output_type": "pyout",
       "prompt_number": 9,
       "text": [
        "(memmap(1.0, dtype=float32), memmap(9, dtype=int32))"
       ]
      }
     ],
     "prompt_number": 9
    },
    {
     "cell_type": "code",
     "collapsed": false,
     "input": [
      "data_train, labels_train = data[:-100000], labels[:-100000]\n",
      "data_test, labels_test = data[-100000:], labels[-100000:]"
     ],
     "language": "python",
     "metadata": {},
     "outputs": [],
     "prompt_number": 71
    },
    {
     "cell_type": "code",
     "collapsed": false,
     "input": [
      "data_train.shape"
     ],
     "language": "python",
     "metadata": {},
     "outputs": [
      {
       "metadata": {},
       "output_type": "pyout",
       "prompt_number": 72,
       "text": [
        "(8000000, 784)"
       ]
      }
     ],
     "prompt_number": 72
    },
    {
     "cell_type": "code",
     "collapsed": false,
     "input": [
      "data_test.shape"
     ],
     "language": "python",
     "metadata": {},
     "outputs": [
      {
       "metadata": {},
       "output_type": "pyout",
       "prompt_number": 73,
       "text": [
        "(100000, 784)"
       ]
      }
     ],
     "prompt_number": 73
    },
    {
     "cell_type": "code",
     "collapsed": false,
     "input": [
      "def train_trees(train_trees_params):\n",
      "    from sklearn.ensemble import ExtraTreesClassifier\n",
      "    \n",
      "    n_estimators, random_state = train_trees_params[:2]\n",
      "    data_file, labels_file = train_trees_params[2:]\n",
      "    data, labels = get_mmap_data(data_file, labels_file, mode='r')\n",
      "    data_train, labels_train = data[:-100000], labels[:-100000]\n",
      "    ensemble = ExtraTreesClassifier(n_estimators=n_estimators,\n",
      "                                    random_state=random_state)\n",
      "    ensemble.fit(data_train, labels_train)\n",
      "    return ensemble\n",
      "\n",
      "train_result = lb_view.map(\n",
      "    train_trees,\n",
      "    [(1, i,\n",
      "      MNIST8M_MMAP_DATA_FILEPATH,\n",
      "      MNIST8M_MMAP_LABELS_FILEPATH) for i in range(30)])"
     ],
     "language": "python",
     "metadata": {},
     "outputs": [],
     "prompt_number": 74
    },
    {
     "cell_type": "code",
     "collapsed": false,
     "input": [
      "train_result.ready(), train_result.progress, len(train_result)"
     ],
     "language": "python",
     "metadata": {},
     "outputs": [
      {
       "metadata": {},
       "output_type": "pyout",
       "prompt_number": 99,
       "text": [
        "(False, 6, 30)"
       ]
      }
     ],
     "prompt_number": 99
    },
    {
     "cell_type": "code",
     "collapsed": false,
     "input": [
      "train_result.elapsed"
     ],
     "language": "python",
     "metadata": {},
     "outputs": [
      {
       "metadata": {},
       "output_type": "pyout",
       "prompt_number": 95,
       "text": [
        "2296.0499"
       ]
      }
     ],
     "prompt_number": 95
    },
    {
     "cell_type": "code",
     "collapsed": false,
     "input": [
      "all_ensembles = train_result.get()\n",
      "first_clf = all_ensembles[0]\n",
      "first_clf.n_classes_"
     ],
     "language": "python",
     "metadata": {},
     "outputs": [
      {
       "metadata": {},
       "output_type": "pyout",
       "prompt_number": 65,
       "text": [
        "10"
       ]
      }
     ],
     "prompt_number": 65
    },
    {
     "cell_type": "code",
     "collapsed": false,
     "input": [
      "from copy import copy\n",
      "\n",
      "final_clf = copy(first_clf)\n",
      "for clf in all_ensembles[1:]:\n",
      "    final_clf.estimators_ += clf.estimators_\n",
      "    \n",
      "%time final_clf.score(data_test, labels_test)"
     ],
     "language": "python",
     "metadata": {},
     "outputs": [
      {
       "output_type": "stream",
       "stream": "stdout",
       "text": [
        "CPU times: user 144 ms, sys: 0 ns, total: 144 ms\n",
        "Wall time: 123 ms\n"
       ]
      },
      {
       "metadata": {},
       "output_type": "pyout",
       "prompt_number": 66,
       "text": [
        "1.0"
       ]
      }
     ],
     "prompt_number": 66
    },
    {
     "cell_type": "heading",
     "level": 2,
     "metadata": {},
     "source": [
      "Single process training and evaluation (sanity check)"
     ]
    },
    {
     "cell_type": "code",
     "collapsed": false,
     "input": [
      "from sklearn.ensemble import ExtraTreesClassifier\n",
      "\n",
      "ensemble = ExtraTreesClassifier(n_estimators=1, random_state=0)\n",
      "%time ensemble.fit(data_train, labels_train)"
     ],
     "language": "python",
     "metadata": {},
     "outputs": [],
     "prompt_number": 80
    },
    {
     "cell_type": "code",
     "collapsed": false,
     "input": [
      "%time ensemble.score(data_test, labels_test)"
     ],
     "language": "python",
     "metadata": {},
     "outputs": [],
     "prompt_number": 81
    },
    {
     "cell_type": "code",
     "collapsed": false,
     "input": [
      "from sklearn.externals import joblib\n",
      "\n",
      "joblib.dump(ensemble, DATA_FOLDER + '/model.pkl')\n",
      "!ls -lh $DATA_FOLDER/model.*.npy"
     ],
     "language": "python",
     "metadata": {},
     "outputs": [],
     "prompt_number": 79
    }
   ],
   "metadata": {}
  }
 ]
}