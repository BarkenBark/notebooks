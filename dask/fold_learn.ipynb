{
 "cells": [
  {
   "cell_type": "code",
   "execution_count": 1,
   "metadata": {},
   "outputs": [
    {
     "data": {
      "text/html": [
       "<table style=\"border: 2px solid white;\">\n",
       "<tr>\n",
       "<td style=\"vertical-align: top; border: 0px solid white\">\n",
       "<h3>Client</h3>\n",
       "<ul>\n",
       "  <li><b>Scheduler: </b>tcp://127.0.0.1:46056\n",
       "  <li><b>Dashboard: </b><a href='http://127.0.0.1:8787' target='_blank'>http://127.0.0.1:8787</a>\n",
       "</ul>\n",
       "</td>\n",
       "<td style=\"vertical-align: top; border: 0px solid white\">\n",
       "<h3>Cluster</h3>\n",
       "<ul>\n",
       "  <li><b>Workers: </b>4</li>\n",
       "  <li><b>Cores: </b>4</li>\n",
       "  <li><b>Memory: </b>10.00 GB</li>\n",
       "</ul>\n",
       "</td>\n",
       "</tr>\n",
       "</table>"
      ],
      "text/plain": [
       "<Client: scheduler='tcp://127.0.0.1:46056' processes=4 cores=4>"
      ]
     },
     "execution_count": 1,
     "metadata": {},
     "output_type": "execute_result"
    }
   ],
   "source": [
    "import os\n",
    "import numpy as np\n",
    "import scipy.sparse as sp\n",
    "import pandas as pd\n",
    "from glob import glob\n",
    "\n",
    "import dask\n",
    "import dask.bag as db\n",
    "import joblib\n",
    "\n",
    "from distributed import Client\n",
    "client = Client()\n",
    "client"
   ]
  },
  {
   "cell_type": "code",
   "execution_count": 2,
   "metadata": {},
   "outputs": [],
   "source": [
    "folder = 'sparse_chunks'\n",
    "n_features = int(1e5)\n",
    "n_informative = int(1e4)\n",
    "\n",
    "n_chunks = int(1e3)\n",
    "chunk_size = int(1e4)\n",
    "\n",
    "rng = np.random.RandomState(42)\n",
    "true_coef = rng.randn(n_features)\n",
    "true_coef[n_informative:] = 0\n",
    "\n",
    "\n",
    "def make_chunk(n_samples, n_features, true_coef, chunk_idx, format='csr',\n",
    "               density=0.0001, noise=0.01):\n",
    "    rng = np.random.RandomState(chunk_idx)\n",
    "    input_data = sp.rand(n_samples, n_features, format=format,\n",
    "                         density=density, random_state=rng)\n",
    "    noise = rng.normal(loc=0, scale=noise, size=n_samples)\n",
    "    target = input_data.dot(true_coef).ravel() + noise\n",
    "    return chunk_idx, input_data, (target > 0).astype(np.int32)\n",
    "\n",
    "\n",
    "def save_to_disk(chunk_idx, X, y, folder='sparse_chunks'):\n",
    "    os.makedirs(folder, exist_ok=True)\n",
    "    filename = \"sparse_chunk_{:04d}.pkl\".format(chunk_idx)\n",
    "    joblib.dump((X, y), os.path.join(folder, filename))\n",
    "    return filename\n",
    "\n",
    "\n",
    "def load_from_disk(chunk_idx, filename):\n",
    "    X, y = joblib.load(filename)\n",
    "    return chunk_idx, X, y"
   ]
  },
  {
   "cell_type": "code",
   "execution_count": 3,
   "metadata": {},
   "outputs": [
    {
     "name": "stdout",
     "output_type": "stream",
     "text": [
      "Lazy loading chunks from sparse_chunks\n"
     ]
    }
   ],
   "source": [
    "if not os.path.exists(folder):\n",
    "    print(\"Generating chunks of sparse data into\", folder)\n",
    "    b = db.from_sequence([(chunk_size, n_features, true_coef, i)\n",
    "                      for i in range(n_chunks)])\n",
    "    b = b.starmap(make_chunk).starmap(save_to_disk).compute()\n",
    "\n",
    "\n",
    "print(\"Lazy loading chunks from\", folder)\n",
    "b = db.from_sequence(enumerate(sorted(glob('sparse_chunks/*.pkl'))))\n",
    "b = b.starmap(load_from_disk)"
   ]
  },
  {
   "cell_type": "code",
   "execution_count": 4,
   "metadata": {},
   "outputs": [
    {
     "name": "stdout",
     "output_type": "stream",
     "text": [
      "CPU times: user 28 ms, sys: 0 ns, total: 28 ms\n",
      "Wall time: 27.1 ms\n"
     ]
    }
   ],
   "source": [
    "%time b = b.persist()"
   ]
  },
  {
   "cell_type": "code",
   "execution_count": 8,
   "metadata": {},
   "outputs": [
    {
     "name": "stdout",
     "output_type": "stream",
     "text": [
      "CPU times: user 2.06 s, sys: 4.13 s, total: 6.19 s\n",
      "Wall time: 7.33 s\n"
     ]
    }
   ],
   "source": [
    "%%time\n",
    "chunk_idx, X_0, y_0 = b.compute()[0]"
   ]
  },
  {
   "cell_type": "code",
   "execution_count": 7,
   "metadata": {},
   "outputs": [
    {
     "data": {
      "text/plain": [
       "<10000x100000 sparse matrix of type '<class 'numpy.float64'>'\n",
       "\twith 100000 stored elements in Compressed Sparse Row format>"
      ]
     },
     "execution_count": 7,
     "metadata": {},
     "output_type": "execute_result"
    }
   ],
   "source": [
    "X_0"
   ]
  }
 ],
 "metadata": {
  "kernelspec": {
   "display_name": "Python 3",
   "language": "python",
   "name": "python3"
  },
  "language_info": {
   "codemirror_mode": {
    "name": "ipython",
    "version": 3
   },
   "file_extension": ".py",
   "mimetype": "text/x-python",
   "name": "python",
   "nbconvert_exporter": "python",
   "pygments_lexer": "ipython3",
   "version": "3.6.1"
  }
 },
 "nbformat": 4,
 "nbformat_minor": 2
}
