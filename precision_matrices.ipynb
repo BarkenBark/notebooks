{
 "cells": [
  {
   "cell_type": "markdown",
   "metadata": {},
   "source": [
    "# Block-sparse Estimation of Large Structured Precision Matrices\n",
    "\n",
    "The goal of this notebook is to experiment with the estimation of parametrized precision matrices with a block sparse prior structure.\n",
    "\n",
    "Our prior is imposing a block-diagonal (and maybe block-triagonal) structure with constant values for diagonal and off-diagonal entries in each block.\n",
    "\n",
    "The end-goal is to find a tractable estimate the Fisher Information Matrix of a deep feed-forward networks by making the assumption that gradients of the log-likelihood of the model sampled from the model predictive probability distribution will be approximately distributed with a multivariate Gaussian matrix whose precision matrix follows our prior structure: the blocks of the precision matrix prior corresponds to the set of trainable model parameters of a given layer in the feed-forward net.\n",
    "\n",
    "Being able to estimate the inverse FIM of large models can be useful for improving the conditioning of the optimization problem when estimating the model parameters from the data. More generally it's useful to evaluate information theoretic measures of the capacity of the model or compute distances between different parametrization of the same model and so on.\n",
    "\n",
    "Contrary to the [K-FAC](https://arxiv.org/abs/1503.05671) parametrization, our proposed parametrization of the inverse FIM uses far fewer parameters (because we impose constant values of the entries of the inverse FIM in a given block). And furthermore we plan to use a MLE estimate of the precision matrix given a recent history of model gradients."
   ]
  },
  {
   "cell_type": "code",
   "execution_count": 1,
   "metadata": {},
   "outputs": [
    {
     "name": "stderr",
     "output_type": "stream",
     "text": [
      "/home/ogrisel/.virtualenvs/py36/lib/python3.6/site-packages/h5py/__init__.py:36: FutureWarning: Conversion of the second argument of issubdtype from `float` to `np.floating` is deprecated. In future, it will be treated as `np.float64 == np.dtype(float).type`.\n",
      "  from ._conv import register_converters as _register_converters\n"
     ]
    }
   ],
   "source": [
    "%matplotlib inline\n",
    "import numpy as np\n",
    "import matplotlib.pyplot as plt\n",
    "import tensorflow as tf\n",
    "import tensorflow.contrib.eager as tfe\n",
    "from time import time"
   ]
  },
  {
   "cell_type": "code",
   "execution_count": 2,
   "metadata": {},
   "outputs": [],
   "source": [
    "session = tf.Session()"
   ]
  },
  {
   "cell_type": "code",
   "execution_count": 3,
   "metadata": {},
   "outputs": [],
   "source": [
    "def make_block_linear_operator(block_sizes, variable=tf.Variable,\n",
    "                               diag_init=0., lowrank_init=0.):\n",
    "    dim = sum(block_sizes)\n",
    "    n_blocks = len(block_sizes)\n",
    "    psd_args = dict(\n",
    "        is_non_singular=True,\n",
    "        is_self_adjoint=True,\n",
    "        is_positive_definite=True,\n",
    "    )\n",
    "    diagonal = tf.zeros([dim])\n",
    "    diag_variables = variable(diag_init * tf.ones(n_blocks))\n",
    "    lowrank_variables = variable(lowrank_init * tf.ones(n_blocks))\n",
    "\n",
    "    offset = 0\n",
    "    tic = time()\n",
    "    for i, block_size in enumerate(block_sizes):\n",
    "        pad_before = offset\n",
    "        pad_after = dim - (offset + block_size)\n",
    "        diagonal += tf.pad(tf.exp(diag_variables[i:i+1]) * tf.ones([block_size]),\n",
    "                           [[pad_before, pad_after]])\n",
    "        offset += block_size\n",
    "    linop = tf.linalg.LinearOperatorDiag(diagonal, **psd_args)\n",
    "    print(f\"diagonal operator built in {time() - tic:.3f}s\")\n",
    "\n",
    "    offset = 0\n",
    "    for i, block_size in enumerate(block_sizes):\n",
    "        tic = time()\n",
    "        pad_before = offset\n",
    "        pad_after = dim - (offset + block_size)\n",
    "        u = tf.pad(lowrank_variables[i:i+1] * tf.ones([block_size, 1]),\n",
    "                   [[pad_before, pad_after], [0, 0]])\n",
    "\n",
    "        # Recursively chain the the LR updates operators: this is the\n",
    "        # expensive step as it precomputes the solution of A.X = U where\n",
    "        # A is the previous base operator.\n",
    "        linop = tf.linalg.LinearOperatorLowRankUpdate(linop, u=u, **psd_args)\n",
    "        offset += block_size\n",
    "        print(f\"lowrank update operator built in {time() - tic:.3f}s\")\n",
    "    return linop, [diag_variables, lowrank_variables] "
   ]
  },
  {
   "cell_type": "code",
   "execution_count": 4,
   "metadata": {},
   "outputs": [
    {
     "name": "stdout",
     "output_type": "stream",
     "text": [
      "diagonal operator built in 0.017s\n",
      "lowrank update operator built in 0.009s\n",
      "lowrank update operator built in 0.012s\n",
      "lowrank update operator built in 0.021s\n",
      "lowrank update operator built in 0.038s\n",
      "CPU times: user 52 ms, sys: 0 ns, total: 52 ms\n",
      "Wall time: 50.8 ms\n"
     ]
    },
    {
     "data": {
      "text/plain": [
       "0.0"
      ]
     },
     "execution_count": 4,
     "metadata": {},
     "output_type": "execute_result"
    }
   ],
   "source": [
    "K, variables = make_block_linear_operator(\n",
    "    [3, 5, 5, 1], diag_init=0., lowrank_init=0)\n",
    "\n",
    "session.run(tf.global_variables_initializer())\n",
    "%time session.run(K.log_abs_determinant())"
   ]
  },
  {
   "cell_type": "code",
   "execution_count": 5,
   "metadata": {},
   "outputs": [
    {
     "name": "stdout",
     "output_type": "stream",
     "text": [
      "CPU times: user 836 ms, sys: 20 ms, total: 856 ms\n",
      "Wall time: 851 ms\n"
     ]
    },
    {
     "data": {
      "text/plain": [
       "[array([3., 5., 5., 1.], dtype=float32),\n",
       " array([0., 0., 0., 0.], dtype=float32)]"
      ]
     },
     "execution_count": 5,
     "metadata": {},
     "output_type": "execute_result"
    }
   ],
   "source": [
    "%time session.run(tf.gradients(K.log_abs_determinant(), variables))"
   ]
  },
  {
   "cell_type": "code",
   "execution_count": 6,
   "metadata": {},
   "outputs": [],
   "source": [
    "# val_and_grad_fn = tfe.value_and_gradients_function(lambda K: K.log_abs_determinant())\n",
    "# val_and_grad_fn(K)"
   ]
  },
  {
   "cell_type": "code",
   "execution_count": 7,
   "metadata": {},
   "outputs": [
    {
     "name": "stdout",
     "output_type": "stream",
     "text": [
      "WARNING:tensorflow:Using (possibly slow) default implementation of to_dense.  Converts by self.matmul(identity).\n"
     ]
    }
   ],
   "source": [
    "K_tensor = K.to_dense()"
   ]
  },
  {
   "cell_type": "markdown",
   "metadata": {},
   "source": [
    "By default, only the elements of the diagonal are non-zero (ones actually), this is the identity matrix:"
   ]
  },
  {
   "cell_type": "code",
   "execution_count": 8,
   "metadata": {},
   "outputs": [
    {
     "data": {
      "image/png": "[encoded data removed]",
      "text/plain": [
       "<matplotlib.figure.Figure at 0x7f745225ec88>"
      ]
     },
     "metadata": {},
     "output_type": "display_data"
    }
   ],
   "source": [
    "def matshow(a, cmap=plt.cm.RdBu, figsize=(6, 6)):\n",
    "    vmax = np.percentile(np.abs(a), 95)\n",
    "    if vmax == 0:\n",
    "        vmax = np.abs(a).max()\n",
    "    fig, ax = plt.subplots(figsize=figsize)\n",
    "    ax.matshow(a, vmin=-vmax, vmax=vmax, cmap=cmap)\n",
    "\n",
    "matshow(session.run(K_tensor))"
   ]
  },
  {
   "cell_type": "markdown",
   "metadata": {},
   "source": [
    "Reassigning different parameter values makes the block structure visible:"
   ]
  },
  {
   "cell_type": "code",
   "execution_count": 9,
   "metadata": {},
   "outputs": [
    {
     "name": "stdout",
     "output_type": "stream",
     "text": [
      "WARNING:tensorflow:Using (possibly slow) default implementation of to_dense.  Converts by self.matmul(identity).\n"
     ]
    },
    {
     "data": {
      "image/png": "[encoded data removed]",
      "text/plain": [
       "<matplotlib.figure.Figure at 0x7f745225e710>"
      ]
     },
     "metadata": {},
     "output_type": "display_data"
    }
   ],
   "source": [
    "session.run(tf.global_variables_initializer())\n",
    "diag_variables, offdiag_variables = variables\n",
    "session.run(diag_variables.assign([1, -.1, 0.8, 0]))\n",
    "session.run(offdiag_variables.assign([0.9, 0.4, 0.7, 1]))\n",
    "matshow(session.run(K.to_dense()))"
   ]
  },
  {
   "cell_type": "code",
   "execution_count": 10,
   "metadata": {},
   "outputs": [
    {
     "name": "stdout",
     "output_type": "stream",
     "text": [
      "WARNING:tensorflow:Using (possibly slow) default implementation of to_dense.  Converts by self.matmul(identity).\n"
     ]
    },
    {
     "data": {
      "text/plain": [
       "0.6938775510204082"
      ]
     },
     "execution_count": 10,
     "metadata": {},
     "output_type": "execute_result"
    }
   ],
   "source": [
    "np.mean(session.run(K.to_dense()) == 0)"
   ]
  },
  {
   "cell_type": "markdown",
   "metadata": {},
   "source": [
    "`tf.linalg.expm` would preserve the prior sparse block structure and would enforce full-rank however support for linear opertor does not seem to be implemented yet, it only works on the memory-untractable full-matrix materialization of the precision matrix:"
   ]
  },
  {
   "cell_type": "code",
   "execution_count": 11,
   "metadata": {},
   "outputs": [
    {
     "data": {
      "text/plain": [
       "47262407000000.0"
      ]
     },
     "execution_count": 11,
     "metadata": {},
     "output_type": "execute_result"
    },
    {
     "data": {
      "image/png": "[encoded data removed]",
      "text/plain": [
       "<matplotlib.figure.Figure at 0x7f745092e518>"
      ]
     },
     "metadata": {},
     "output_type": "display_data"
    }
   ],
   "source": [
    "K_expm = tf.linalg.expm(K_tensor)\n",
    "K_expm_value, K_expm_det = session.run([K_expm, tf.linalg.det(K_expm)])\n",
    "matshow(K_expm_value)\n",
    "K_expm_det"
   ]
  },
  {
   "cell_type": "markdown",
   "metadata": {},
   "source": [
    "Let's have a look a the inverse of the precision matrix (covariance matrix):"
   ]
  },
  {
   "cell_type": "code",
   "execution_count": 12,
   "metadata": {},
   "outputs": [
    {
     "data": {
      "image/png": "[encoded data removed]",
      "text/plain": [
       "<matplotlib.figure.Figure at 0x7f74508bafd0>"
      ]
     },
     "metadata": {},
     "output_type": "display_data"
    }
   ],
   "source": [
    "matshow(session.run(tf.linalg.inv(K_tensor)));"
   ]
  },
  {
   "cell_type": "markdown",
   "metadata": {},
   "source": [
    "The sparsity pattern is actually preserved but now we have negative values."
   ]
  },
  {
   "cell_type": "code",
   "execution_count": 13,
   "metadata": {},
   "outputs": [
    {
     "data": {
      "text/plain": [
       "0.6938775510204082"
      ]
     },
     "execution_count": 13,
     "metadata": {},
     "output_type": "execute_result"
    },
    {
     "data": {
      "image/png": "[encoded data removed]",
      "text/plain": [
       "<matplotlib.figure.Figure at 0x7f74508985f8>"
      ]
     },
     "metadata": {},
     "output_type": "display_data"
    }
   ],
   "source": [
    "K_inv = session.run(tf.linalg.inv(K_tensor))\n",
    "plt.hist(K_inv.ravel(), bins=30)\n",
    "np.mean(K_inv == 0)"
   ]
  },
  {
   "cell_type": "markdown",
   "metadata": {},
   "source": [
    "Let's try with a more realistic size, this time we won't try to materialize it as a tensor:"
   ]
  },
  {
   "cell_type": "code",
   "execution_count": 14,
   "metadata": {},
   "outputs": [
    {
     "name": "stdout",
     "output_type": "stream",
     "text": [
      "diagonal operator built in 0.161s\n",
      "lowrank update operator built in 0.008s\n",
      "lowrank update operator built in 0.013s\n",
      "lowrank update operator built in 0.021s\n",
      "lowrank update operator built in 0.037s\n",
      "lowrank update operator built in 0.078s\n",
      "lowrank update operator built in 0.162s\n",
      "lowrank update operator built in 0.301s\n",
      "lowrank update operator built in 0.737s\n",
      "CPU times: user 1.56 s, sys: 120 ms, total: 1.68 s\n",
      "Wall time: 1.53 s\n"
     ]
    }
   ],
   "source": [
    "%time big_K, big_variables = make_block_linear_operator([4096] * 8)"
   ]
  },
  {
   "cell_type": "code",
   "execution_count": 15,
   "metadata": {},
   "outputs": [],
   "source": [
    "# %load_ext line_profiler"
   ]
  },
  {
   "cell_type": "code",
   "execution_count": 16,
   "metadata": {},
   "outputs": [],
   "source": [
    "# %lprun -f tf.linalg.LinearOperatorLowRankUpdate.__init__ make_block_linear_operator([4096] * 10)"
   ]
  },
  {
   "cell_type": "code",
   "execution_count": 17,
   "metadata": {},
   "outputs": [
    {
     "data": {
      "text/plain": [
       "TensorShape([Dimension(32768), Dimension(32768)])"
      ]
     },
     "execution_count": 17,
     "metadata": {},
     "output_type": "execute_result"
    }
   ],
   "source": [
    "big_K.shape"
   ]
  },
  {
   "cell_type": "code",
   "execution_count": 18,
   "metadata": {},
   "outputs": [
    {
     "data": {
      "text/plain": [
       "1.073741824"
      ]
     },
     "execution_count": 18,
     "metadata": {},
     "output_type": "execute_result"
    }
   ],
   "source": [
    "np.product(big_K.shape).value / 1e9"
   ]
  },
  {
   "cell_type": "markdown",
   "metadata": {},
   "source": [
    "Our parametrization of a this very large precision matrix has only a handful of trainable parameters:"
   ]
  },
  {
   "cell_type": "code",
   "execution_count": 19,
   "metadata": {},
   "outputs": [
    {
     "data": {
      "text/plain": [
       "16"
      ]
     },
     "execution_count": 19,
     "metadata": {},
     "output_type": "execute_result"
    }
   ],
   "source": [
    "sum(np.prod(v.shape).value for v in big_variables)"
   ]
  },
  {
   "cell_type": "code",
   "execution_count": 20,
   "metadata": {},
   "outputs": [
    {
     "name": "stdout",
     "output_type": "stream",
     "text": [
      "CPU times: user 60 ms, sys: 4 ms, total: 64 ms\n",
      "Wall time: 65.2 ms\n"
     ]
    }
   ],
   "source": [
    "%time big_det = big_K.log_abs_determinant()"
   ]
  },
  {
   "cell_type": "code",
   "execution_count": 21,
   "metadata": {},
   "outputs": [
    {
     "name": "stdout",
     "output_type": "stream",
     "text": [
      "CPU times: user 444 ms, sys: 4 ms, total: 448 ms\n",
      "Wall time: 418 ms\n"
     ]
    },
    {
     "data": {
      "text/plain": [
       "0.0"
      ]
     },
     "execution_count": 21,
     "metadata": {},
     "output_type": "execute_result"
    }
   ],
   "source": [
    "session.run(tf.global_variables_initializer())\n",
    "%time session.run(big_det)"
   ]
  },
  {
   "cell_type": "markdown",
   "metadata": {},
   "source": [
    "## Part two: backups"
   ]
  },
  {
   "cell_type": "code",
   "execution_count": 22,
   "metadata": {},
   "outputs": [],
   "source": [
    "# try:\n",
    "#     tfe.enable_eager_execution()\n",
    "# except ValueError:\n",
    "#     # Hide the annoying lack of idem-potency.\n",
    "#     pass"
   ]
  },
  {
   "cell_type": "code",
   "execution_count": 23,
   "metadata": {},
   "outputs": [],
   "source": [
    "block_boundaries = [0, 5, 8, 10]\n",
    "# block_boundaries = [0]\n",
    "# block_boundaries.append(block_boundaries[-1] + 784 * 10)\n",
    "# block_boundaries.append(block_boundaries[-1] + 10)\n",
    "# block_boundaries.append(block_boundaries[-1] + 10 * 10)\n",
    "# block_boundaries.append(block_boundaries[-1] + 10)\n",
    "# block_boundaries.append(block_boundaries[-1] + 10 * 10)\n",
    "# block_boundaries.append(block_boundaries[-1] + 10)\n",
    "\n",
    "\n",
    "\n",
    "def outer(v):\n",
    "    return tf.matmul(tf.reshape(v, (-1, 1)),\n",
    "                     tf.reshape(v, (1, -1)))\n",
    "\n",
    "\n",
    "def parametrized_precision(block_boundaries):\n",
    "    variables = []\n",
    "    n_params = block_boundaries[-1]\n",
    "    K = tf.zeros(shape=(n_params, n_params))\n",
    "    for i, j in zip(block_boundaries, block_boundaries[1:]):\n",
    "        # Diagonal for the current block\n",
    "        diag_mask_i = np.zeros(n_params, dtype=np.float32)\n",
    "        diag_mask_i[i:j] = 1\n",
    "        diag_mask_i = tf.constant(diag_mask_i)\n",
    "        K_i_var = tf.Variable(0.5, dtype=np.float32)\n",
    "        K_i = tf.diag(tf.exp(K_i_var) * diag_mask_i)\n",
    "        variables.append(K_i_var)\n",
    "        K += K_i\n",
    "        \n",
    "        # Rank-one for the current parameter block\n",
    "        ro_mask_i = np.zeros(n_params, dtype=np.float32)\n",
    "        ro_mask_i[i:j] = 1\n",
    "        ro_mask_i = tf.constant(ro_mask_i)\n",
    "        ro_var_i = tf.Variable(1, dtype=np.float32)\n",
    "        ro_i = outer(ro_var_i * ro_mask_i)\n",
    "        variables.append(ro_var_i)\n",
    "        K += ro_i\n",
    "    for i, j in zip(block_boundaries, block_boundaries[2:]):\n",
    "        # Rank-one for consecutive blocks interactions\n",
    "        ro_mask_i = np.zeros(n_params, dtype=np.float32)\n",
    "        ro_mask_i[i:j] = 1\n",
    "        ro_mask_i = tf.constant(ro_mask_i)\n",
    "        ro_var_i = tf.Variable(1., dtype=np.float32)\n",
    "        ro_i = outer(ro_var_i * ro_mask_i)\n",
    "        variables.append(ro_var_i)\n",
    "        K += ro_i\n",
    "    return K, variables\n",
    "\n",
    "K2, variables = parametrized_precision(block_boundaries)"
   ]
  },
  {
   "cell_type": "code",
   "execution_count": 24,
   "metadata": {},
   "outputs": [],
   "source": [
    "session.run(tf.global_variables_initializer())\n",
    "K2 = session.run(K2)"
   ]
  },
  {
   "cell_type": "code",
   "execution_count": 25,
   "metadata": {},
   "outputs": [
    {
     "data": {
      "text/plain": [
       "8"
      ]
     },
     "execution_count": 25,
     "metadata": {},
     "output_type": "execute_result"
    },
    {
     "data": {
      "image/png": "[encoded data removed]",
      "text/plain": [
       "<matplotlib.figure.Figure at 0x7f74483c1160>"
      ]
     },
     "metadata": {},
     "output_type": "display_data"
    }
   ],
   "source": [
    "matshow(K2)\n",
    "len(variables)"
   ]
  },
  {
   "cell_type": "code",
   "execution_count": 26,
   "metadata": {},
   "outputs": [
    {
     "data": {
      "text/plain": [
       "18083.242"
      ]
     },
     "execution_count": 26,
     "metadata": {},
     "output_type": "execute_result"
    }
   ],
   "source": [
    "np.linalg.det(K2)"
   ]
  },
  {
   "cell_type": "code",
   "execution_count": 27,
   "metadata": {},
   "outputs": [
    {
     "data": {
      "text/plain": [
       "array([ 1.6487198,  1.6487209,  1.648721 ,  1.6487212,  1.6487212,\n",
       "        1.6487212,  1.6487213,  4.268642 ,  8.341459 , 15.3360615],\n",
       "      dtype=float32)"
      ]
     },
     "execution_count": 27,
     "metadata": {},
     "output_type": "execute_result"
    },
    {
     "data": {
      "image/png": "[encoded data removed]",
      "text/plain": [
       "<matplotlib.figure.Figure at 0x7f74483646a0>"
      ]
     },
     "metadata": {},
     "output_type": "display_data"
    }
   ],
   "source": [
    "eigvals = session.run(tf.linalg.eigh(K2)[0])\n",
    "plt.bar(np.arange(K2.shape[0]), eigvals)\n",
    "eigvals"
   ]
  },
  {
   "cell_type": "code",
   "execution_count": 28,
   "metadata": {},
   "outputs": [],
   "source": [
    "C = session.run(tf.linalg.inv(K2))\n",
    "# fig, ax = plt.subplots(figsize=(8, 8))\n",
    "# ax.matshow(C)"
   ]
  },
  {
   "cell_type": "code",
   "execution_count": 29,
   "metadata": {},
   "outputs": [],
   "source": [
    "from tensorflow.contrib.distributions import MultivariateNormalFullCovariance\n",
    "\n",
    "\n",
    "model = MultivariateNormalFullCovariance(loc=tf.zeros([C.shape[0]], dtype=np.float32), covariance_matrix=C)"
   ]
  },
  {
   "cell_type": "code",
   "execution_count": 30,
   "metadata": {},
   "outputs": [
    {
     "data": {
      "image/png": "[encoded data removed]",
      "text/plain": [
       "<matplotlib.figure.Figure at 0x7f7448155828>"
      ]
     },
     "metadata": {},
     "output_type": "display_data"
    }
   ],
   "source": [
    "data = session.run(model.sample(100))\n",
    "matshow(session.run(tf.linalg.inv(tf.matmul(tf.transpose(data), data))));"
   ]
  },
  {
   "cell_type": "code",
   "execution_count": 31,
   "metadata": {},
   "outputs": [],
   "source": [
    "# from sklearn.covariance import graph_lasso\n",
    "\n",
    "# gl = graph_lasso(np.asarray(tf.matmul(tf.transpose(data), data)), 1)\n",
    "# fig, ax = plt.subplots(figsize=(8, 8))\n",
    "# ax.matshow(gl[1])"
   ]
  },
  {
   "cell_type": "code",
   "execution_count": 32,
   "metadata": {},
   "outputs": [
    {
     "data": {
      "image/png": "[encoded data removed]",
      "text/plain": [
       "<matplotlib.figure.Figure at 0x7f744804c748>"
      ]
     },
     "metadata": {},
     "output_type": "display_data"
    }
   ],
   "source": [
    "data_large = session.run(model.sample(10000))\n",
    "matshow(session.run(tf.linalg.inv(tf.matmul(tf.transpose(data_large), data_large))));"
   ]
  },
  {
   "cell_type": "code",
   "execution_count": null,
   "metadata": {},
   "outputs": [],
   "source": []
  }
 ],
 "metadata": {
  "kernelspec": {
   "display_name": "Python 3",
   "language": "python",
   "name": "python3"
  },
  "language_info": {
   "codemirror_mode": {
    "name": "ipython",
    "version": 3
   },
   "file_extension": ".py",
   "mimetype": "text/x-python",
   "name": "python",
   "nbconvert_exporter": "python",
   "pygments_lexer": "ipython3",
   "version": "3.6.1"
  }
 },
 "nbformat": 4,
 "nbformat_minor": 2
}
