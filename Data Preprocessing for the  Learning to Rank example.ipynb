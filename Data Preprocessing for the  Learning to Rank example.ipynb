{
 "metadata": {
  "name": ""
 },
 "nbformat": 3,
 "nbformat_minor": 0,
 "worksheets": [
  {
   "cells": [
    {
     "cell_type": "heading",
     "level": 2,
     "metadata": {},
     "source": [
      "Single svmlight formatted file parsing with sklearn"
     ]
    },
    {
     "cell_type": "code",
     "collapsed": false,
     "input": [
      "import numpy as np\n",
      "\n",
      "from os.path import expanduser\n",
      "from sklearn.datasets import load_svmlight_file\n",
      "from sklearn.externals import joblib"
     ],
     "language": "python",
     "metadata": {},
     "outputs": [],
     "prompt_number": 3
    },
    {
     "cell_type": "code",
     "collapsed": false,
     "input": [
      "# filepath_train = expanduser('~/data/MSLR-WEB10K/Fold1/train.txt')\n",
      "\n",
      "# X_train_sparse, y_train, qid_train = load_svmlight_file(\n",
      "#     filepath_train, dtype=np.float32, query_id=True)\n",
      "\n",
      "# X_train = X_train.toarray()"
     ],
     "language": "python",
     "metadata": {},
     "outputs": []
    },
    {
     "cell_type": "code",
     "collapsed": false,
     "input": [
      "memory = joblib.Memory(cachedir='.', mmap_mode='r')\n",
      "\n",
      "@memory.cache\n",
      "def load_fold(dataset, subset, fold_idx=1, dtype=np.float32):\n",
      "    DATA_FOLDER = expanduser('~/data')\n",
      "    filepath = join(DATA_FOLDER, dataset, 'Fold%d' % fold_idx, subset + '.txt')\n",
      "    X, y, qid = load_svmlight_file(filepath, dtype=dtype, query_id=True)\n",
      "    return X.toarray(), y, qid"
     ],
     "language": "python",
     "metadata": {},
     "outputs": [],
     "prompt_number": 4
    },
    {
     "cell_type": "code",
     "collapsed": false,
     "input": [
      "# X_train_1, y_train_1, qid_train_1 = load_fold('MQ2007','train', fold_idx=1)\n",
      "# X_vali_1, y_vali_1, qid_vali_1 = load_fold('MQ2007', 'vali', fold_idx=1)\n",
      "X_train_1, y_train_1, qid_train_1 = load_fold('MSLR-WEB10K','train', fold_idx=1)\n",
      "X_vali_1, y_vali_1, qid_vali_1 = load_fold('MSLR-WEB10K', 'vali', fold_idx=1)\n",
      "X_test_1, y_test_1, qid_test_1 = load_fold('MSLR-WEB10K', 'test', fold_idx=1)"
     ],
     "language": "python",
     "metadata": {},
     "outputs": [],
     "prompt_number": 5
    },
    {
     "cell_type": "code",
     "collapsed": false,
     "input": [
      "# %%time\n",
      "\n",
      "# np.savez_compressed(expanduser('~/data/MSLR-WEB10K/mslr_web10k_fold1.npz'),\n",
      "#                     X_train=X_train_1, y_train=y_train_1, qid_train=qid_train_1,\n",
      "#                     X_vali=X_vali_1, y_vali=y_vali_1, qid_vali=qid_vali_1,\n",
      "#                     X_test=X_test_1, y_test=y_test_1, qid_test=qid_test_1)"
     ],
     "language": "python",
     "metadata": {},
     "outputs": []
    }
   ],
   "metadata": {}
  }
 ]
}