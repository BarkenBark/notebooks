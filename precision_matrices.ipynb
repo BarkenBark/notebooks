{
 "cells": [
  {
   "cell_type": "code",
   "execution_count": 28,
   "metadata": {},
   "outputs": [],
   "source": [
    "%matplotlib inline\n",
    "import numpy as np\n",
    "import matplotlib.pyplot as plt\n",
    "import tensorflow as tf\n",
    "import tensorflow.contrib.eager as tfe"
   ]
  },
  {
   "cell_type": "code",
   "execution_count": 29,
   "metadata": {},
   "outputs": [],
   "source": [
    "try:\n",
    "    tfe.enable_eager_execution()\n",
    "except ValueError:\n",
    "    # Hide the annoying lack of idem-potency.\n",
    "    pass"
   ]
  },
  {
   "cell_type": "code",
   "execution_count": 30,
   "metadata": {},
   "outputs": [],
   "source": [
    "def make_block_linear_operator(block_sizes, variable=tfe.Variable):\n",
    "    dim = sum(block_sizes)\n",
    "    psd_args = dict(\n",
    "        is_non_singular=True,\n",
    "        is_self_adjoint=True,\n",
    "        is_positive_definite=True,\n",
    "    )\n",
    "    diagonal = tf.zeros([dim])\n",
    "    variables = []\n",
    "\n",
    "    offset = 0\n",
    "    for block_size in block_sizes:\n",
    "        pad_before = offset\n",
    "        pad_after = dim - (offset + block_size)\n",
    "        v = variable(0.)\n",
    "        variables.append(v)\n",
    "        diagonal += tf.pad(tf.exp(v) * tf.ones([block_size]),\n",
    "                           [[pad_before, pad_after]])\n",
    "        offset += block_size\n",
    "    linop = tf.linalg.LinearOperatorDiag(diagonal, **psd_args)\n",
    "\n",
    "    offset = 0\n",
    "    for block_size in block_sizes:\n",
    "        pad_before = offset\n",
    "        pad_after = dim - (offset + block_size)\n",
    "        v = variable(.3)\n",
    "        variables.append(v)\n",
    "        u = tf.pad(v * tf.ones([block_size, 1]),\n",
    "                   [[pad_before, pad_after], [0, 0]])\n",
    "        linop = tf.linalg.LinearOperatorLowRankUpdate(linop, u=u, v=u, **psd_args)\n",
    "        offset += block_size\n",
    "    return linop, variables \n",
    "\n",
    "\n",
    "K, variables = make_block_linear_operator([3, 5, 5, 1])"
   ]
  },
  {
   "cell_type": "code",
   "execution_count": 31,
   "metadata": {},
   "outputs": [
    {
     "data": {
      "text/plain": [
       "<tf.Tensor: id=22971, shape=(), dtype=float32, numpy=1.0683217>"
      ]
     },
     "execution_count": 31,
     "metadata": {},
     "output_type": "execute_result"
    }
   ],
   "source": [
    "K.log_abs_determinant()"
   ]
  },
  {
   "cell_type": "code",
   "execution_count": 32,
   "metadata": {},
   "outputs": [],
   "source": [
    "# val_and_grad_fn = tfe.value_and_gradients_function(lambda K: K.log_abs_determinant())\n",
    "# val_and_grad_fn(K)"
   ]
  },
  {
   "cell_type": "code",
   "execution_count": 33,
   "metadata": {},
   "outputs": [],
   "source": [
    "K_tensor = K.matmul(tf.eye(K.shape[0].value))"
   ]
  },
  {
   "cell_type": "code",
   "execution_count": 34,
   "metadata": {},
   "outputs": [
    {
     "data": {
      "image/png": "[encoded data removed]",
      "text/plain": [
       "<matplotlib.figure.Figure at 0x7faef845d3c8>"
      ]
     },
     "metadata": {},
     "output_type": "display_data"
    }
   ],
   "source": [
    "plt.matshow(K_tensor);"
   ]
  },
  {
   "cell_type": "code",
   "execution_count": 35,
   "metadata": {},
   "outputs": [
    {
     "data": {
      "image/png": "[encoded data removed]",
      "text/plain": [
       "<matplotlib.figure.Figure at 0x7faef8499a58>"
      ]
     },
     "metadata": {},
     "output_type": "display_data"
    }
   ],
   "source": [
    "plt.matshow(tf.linalg.expm(K_tensor));"
   ]
  },
  {
   "cell_type": "code",
   "execution_count": 36,
   "metadata": {},
   "outputs": [
    {
     "name": "stdout",
     "output_type": "stream",
     "text": [
      "CPU times: user 4.13 s, sys: 76 ms, total: 4.21 s\n",
      "Wall time: 4.12 s\n"
     ]
    }
   ],
   "source": [
    "%time big_K, big_variables = make_block_linear_operator([4096] * 10)"
   ]
  },
  {
   "cell_type": "code",
   "execution_count": 37,
   "metadata": {},
   "outputs": [
    {
     "name": "stdout",
     "output_type": "stream",
     "text": [
      "The line_profiler extension is already loaded. To reload it, use:\n",
      "  %reload_ext line_profiler\n"
     ]
    }
   ],
   "source": [
    "%load_ext line_profiler"
   ]
  },
  {
   "cell_type": "code",
   "execution_count": 38,
   "metadata": {},
   "outputs": [],
   "source": [
    "# %lprun -f make_block_linear_operator make_block_linear_operator([4096] * 10)"
   ]
  },
  {
   "cell_type": "code",
   "execution_count": 39,
   "metadata": {},
   "outputs": [
    {
     "data": {
      "text/plain": [
       "TensorShape([Dimension(40960), Dimension(40960)])"
      ]
     },
     "execution_count": 39,
     "metadata": {},
     "output_type": "execute_result"
    }
   ],
   "source": [
    "big_K.shape"
   ]
  },
  {
   "cell_type": "code",
   "execution_count": 40,
   "metadata": {},
   "outputs": [
    {
     "data": {
      "text/plain": [
       "1.6777216"
      ]
     },
     "execution_count": 40,
     "metadata": {},
     "output_type": "execute_result"
    }
   ],
   "source": [
    "np.product(big_K.shape).value / 1e9"
   ]
  },
  {
   "cell_type": "code",
   "execution_count": 41,
   "metadata": {},
   "outputs": [
    {
     "data": {
      "text/plain": [
       "20"
      ]
     },
     "execution_count": 41,
     "metadata": {},
     "output_type": "execute_result"
    }
   ],
   "source": [
    "len(big_variables)"
   ]
  },
  {
   "cell_type": "code",
   "execution_count": 42,
   "metadata": {},
   "outputs": [
    {
     "name": "stdout",
     "output_type": "stream",
     "text": [
      "CPU times: user 508 ms, sys: 4 ms, total: 512 ms\n",
      "Wall time: 512 ms\n"
     ]
    },
    {
     "data": {
      "text/plain": [
       "<tf.Tensor: id=30499, shape=(), dtype=float32, numpy=59.125305>"
      ]
     },
     "execution_count": 42,
     "metadata": {},
     "output_type": "execute_result"
    }
   ],
   "source": [
    "%time big_K.log_abs_determinant()"
   ]
  },
  {
   "cell_type": "code",
   "execution_count": 43,
   "metadata": {},
   "outputs": [],
   "source": [
    "# tf.linalg.expm(big_K)"
   ]
  },
  {
   "cell_type": "code",
   "execution_count": 44,
   "metadata": {},
   "outputs": [
    {
     "data": {
      "text/plain": [
       "8"
      ]
     },
     "execution_count": 44,
     "metadata": {},
     "output_type": "execute_result"
    },
    {
     "data": {
      "image/png": "[encoded data removed]",
      "text/plain": [
       "<matplotlib.figure.Figure at 0x7faef84a4cc0>"
      ]
     },
     "metadata": {},
     "output_type": "display_data"
    }
   ],
   "source": [
    "block_boundaries = [0, 5, 8, 10]\n",
    "# block_boundaries = [0]\n",
    "# block_boundaries.append(block_boundaries[-1] + 784 * 10)\n",
    "# block_boundaries.append(block_boundaries[-1] + 10)\n",
    "# block_boundaries.append(block_boundaries[-1] + 10 * 10)\n",
    "# block_boundaries.append(block_boundaries[-1] + 10)\n",
    "# block_boundaries.append(block_boundaries[-1] + 10 * 10)\n",
    "# block_boundaries.append(block_boundaries[-1] + 10)\n",
    "\n",
    "\n",
    "\n",
    "def outer(v):\n",
    "    return tf.matmul(tf.reshape(v, (-1, 1)),\n",
    "                     tf.reshape(v, (1, -1)))\n",
    "\n",
    "\n",
    "def parametrized_precision(block_boundaries):\n",
    "    variables = []\n",
    "    n_params = block_boundaries[-1]\n",
    "    K = tf.zeros(shape=(n_params, n_params))\n",
    "    for i, j in zip(block_boundaries, block_boundaries[1:]):\n",
    "        # Diagonal for the current block\n",
    "        diag_mask_i = np.zeros(n_params, dtype=np.float32)\n",
    "        diag_mask_i[i:j] = 1\n",
    "        diag_mask_i = tf.constant(diag_mask_i)\n",
    "        K_i_var = tfe.Variable(0.5, dtype=np.float32)\n",
    "        K_i = tf.diag(tf.exp(K_i_var) * diag_mask_i)\n",
    "        variables.append(K_i_var)\n",
    "        K += K_i\n",
    "        \n",
    "        # Rank-one for the current parameter block\n",
    "        ro_mask_i = np.zeros(n_params, dtype=np.float32)\n",
    "        ro_mask_i[i:j] = 1\n",
    "        ro_mask_i = tf.constant(ro_mask_i)\n",
    "        ro_var_i = tfe.Variable(1, dtype=np.float32)\n",
    "        ro_i = outer(ro_var_i * ro_mask_i)\n",
    "        variables.append(ro_var_i)\n",
    "        K += ro_i\n",
    "    for i, j in zip(block_boundaries, block_boundaries[2:]):\n",
    "        # Rank-one for consecutive blocks interactions\n",
    "        ro_mask_i = np.zeros(n_params, dtype=np.float32)\n",
    "        ro_mask_i[i:j] = 1\n",
    "        ro_mask_i = tf.constant(ro_mask_i)\n",
    "        ro_var_i = tfe.Variable(1., dtype=np.float32)\n",
    "        ro_i = outer(ro_var_i * ro_mask_i)\n",
    "        variables.append(ro_var_i)\n",
    "        K += ro_i\n",
    "    return variables, K\n",
    "\n",
    "variables, K = parametrized_precision(block_boundaries)\n",
    "\n",
    "fig, ax = plt.subplots(figsize=(8, 8))\n",
    "ax.matshow(K)\n",
    "len(variables)"
   ]
  },
  {
   "cell_type": "code",
   "execution_count": 45,
   "metadata": {},
   "outputs": [
    {
     "data": {
      "text/plain": [
       "<tf.Tensor: id=30616, shape=(), dtype=float32, numpy=18083.262>"
      ]
     },
     "execution_count": 45,
     "metadata": {},
     "output_type": "execute_result"
    }
   ],
   "source": [
    "tf.linalg.det(K)"
   ]
  },
  {
   "cell_type": "code",
   "execution_count": 46,
   "metadata": {},
   "outputs": [
    {
     "data": {
      "text/plain": [
       "<tf.Tensor: id=30618, shape=(10,), dtype=float32, numpy=\n",
       "array([ 1.6487198,  1.6487209,  1.648721 ,  1.6487212,  1.6487212,\n",
       "        1.6487212,  1.6487213,  4.268642 ,  8.341459 , 15.3360615],\n",
       "      dtype=float32)>"
      ]
     },
     "execution_count": 46,
     "metadata": {},
     "output_type": "execute_result"
    },
    {
     "data": {
      "image/png": "[encoded data removed]",
      "text/plain": [
       "<matplotlib.figure.Figure at 0x7faef8594e10>"
      ]
     },
     "metadata": {},
     "output_type": "display_data"
    }
   ],
   "source": [
    "eigvals = tf.linalg.eigh(K)[0]\n",
    "plt.bar(np.arange(K.numpy().shape[0]), eigvals)\n",
    "eigvals"
   ]
  },
  {
   "cell_type": "code",
   "execution_count": 47,
   "metadata": {},
   "outputs": [],
   "source": [
    "C = tf.linalg.inv(K)\n",
    "# fig, ax = plt.subplots(figsize=(8, 8))\n",
    "# ax.matshow(C)"
   ]
  },
  {
   "cell_type": "code",
   "execution_count": 48,
   "metadata": {},
   "outputs": [],
   "source": [
    "from tensorflow.contrib.distributions import MultivariateNormalFullCovariance\n",
    "\n",
    "\n",
    "model = MultivariateNormalFullCovariance(loc=tf.zeros([C.shape[0]], dtype=np.float32), covariance_matrix=C)"
   ]
  },
  {
   "cell_type": "code",
   "execution_count": 49,
   "metadata": {},
   "outputs": [
    {
     "data": {
      "image/png": "[encoded data removed]",
      "text/plain": [
       "<matplotlib.figure.Figure at 0x7faec8665550>"
      ]
     },
     "metadata": {},
     "output_type": "display_data"
    }
   ],
   "source": [
    "data = model.sample(100)\n",
    "fig, ax = plt.subplots(figsize=(8, 8))\n",
    "ax.matshow(tf.linalg.inv(tf.matmul(tf.transpose(data), data)));"
   ]
  },
  {
   "cell_type": "code",
   "execution_count": 50,
   "metadata": {},
   "outputs": [],
   "source": [
    "# from sklearn.covariance import graph_lasso\n",
    "\n",
    "# gl = graph_lasso(np.asarray(tf.matmul(tf.transpose(data), data)), 1)\n",
    "# fig, ax = plt.subplots(figsize=(8, 8))\n",
    "# ax.matshow(gl[1])"
   ]
  },
  {
   "cell_type": "code",
   "execution_count": 51,
   "metadata": {},
   "outputs": [
    {
     "data": {
      "image/png": "[encoded data removed]",
      "text/plain": [
       "<matplotlib.figure.Figure at 0x7faec851d358>"
      ]
     },
     "metadata": {},
     "output_type": "display_data"
    }
   ],
   "source": [
    "data_large = model.sample(10000)\n",
    "fig, ax = plt.subplots(figsize=(8, 8))\n",
    "ax.matshow(tf.linalg.inv(tf.matmul(tf.transpose(data_large), data_large)));"
   ]
  }
 ],
 "metadata": {
  "kernelspec": {
   "display_name": "Python 3",
   "language": "python",
   "name": "python3"
  },
  "language_info": {
   "codemirror_mode": {
    "name": "ipython",
    "version": 3
   },
   "file_extension": ".py",
   "mimetype": "text/x-python",
   "name": "python",
   "nbconvert_exporter": "python",
   "pygments_lexer": "ipython3",
   "version": "3.6.3"
  }
 },
 "nbformat": 4,
 "nbformat_minor": 2
}
