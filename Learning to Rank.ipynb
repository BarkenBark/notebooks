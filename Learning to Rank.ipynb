{
 "metadata": {
  "name": ""
 },
 "nbformat": 3,
 "nbformat_minor": 0,
 "worksheets": [
  {
   "cells": [
    {
     "cell_type": "code",
     "collapsed": false,
     "input": [
      "%matplotlib inline"
     ],
     "language": "python",
     "metadata": {},
     "outputs": [],
     "prompt_number": 28
    },
    {
     "cell_type": "code",
     "collapsed": false,
     "input": [
      "from os.path import expanduser, join\n",
      "import numpy as np\n",
      "import matplotlib.pyplot as plt\n",
      "\n",
      "from sklearn.metrics import r2_score\n",
      "from sklearn.metrics import explained_variance_score\n",
      "\n",
      "from sklearn.externals import joblib\n",
      "from sklearn.datasets import load_svmlight_file\n",
      "from sklearn.ensemble import ExtraTreesRegressor\n",
      "from sklearn.ensemble import GradientBoostingRegressor\n",
      "from sklearn.linear_model import LinearRegression"
     ],
     "language": "python",
     "metadata": {},
     "outputs": [],
     "prompt_number": 44
    },
    {
     "cell_type": "code",
     "collapsed": false,
     "input": [
      "#!rm -rf joblib"
     ],
     "language": "python",
     "metadata": {},
     "outputs": [],
     "prompt_number": 12
    },
    {
     "cell_type": "code",
     "collapsed": false,
     "input": [
      "DATA_FOLDER = expanduser('/volatile/ogrisel/data/MSLR-WEB10K/')\n",
      "\n",
      "memory = joblib.Memory(cachedir='.', mmap_mode='r')\n",
      "\n",
      "@memory.cache\n",
      "def load_fold(subset, fold_idx=1, dtype=np.float32):\n",
      "    filepath = join(DATA_FOLDER, 'Fold%d' % fold_idx, subset + '.txt')\n",
      "    X, y, qid = load_svmlight_file(filepath, dtype=dtype, query_id=True)\n",
      "    return X.toarray(), y, qid"
     ],
     "language": "python",
     "metadata": {},
     "outputs": [],
     "prompt_number": 13
    },
    {
     "cell_type": "code",
     "collapsed": false,
     "input": [
      "X_train_1, y_train_1, qid_train_1 = load_fold('train', fold_idx=1)\n",
      "X_vali_1, y_vali_1, qid_vali_1 = load_fold('vali', fold_idx=1)\n",
      "#X_train_2, y_train_2, qid_train_2 = load_fold('train', fold_idx=2)\n",
      "#X_vali_2, y_vali_2, qid_vali_2 = load_fold('vali', fold_idx=2)"
     ],
     "language": "python",
     "metadata": {},
     "outputs": [],
     "prompt_number": 17
    },
    {
     "cell_type": "code",
     "collapsed": false,
     "input": [
      "X_train_1.shape"
     ],
     "language": "python",
     "metadata": {},
     "outputs": [
      {
       "metadata": {},
       "output_type": "pyout",
       "prompt_number": 18,
       "text": [
        "(723412, 136)"
       ]
      }
     ],
     "prompt_number": 18
    },
    {
     "cell_type": "code",
     "collapsed": false,
     "input": [
      "%time etr_48 = ExtraTreesRegressor(n_estimators=48, n_jobs=12).fit(X_train_1, y_train_1)"
     ],
     "language": "python",
     "metadata": {},
     "outputs": [
      {
       "output_type": "stream",
       "stream": "stdout",
       "text": [
        "CPU times: user 9.22 s, sys: 16.1 s, total: 25.3 s\n",
        "Wall time: 12min 32s\n"
       ]
      }
     ],
     "prompt_number": 73
    },
    {
     "cell_type": "code",
     "collapsed": false,
     "input": [
      "%time y_vali_1_etr_48 = etr_48.predict(X_vali_1)"
     ],
     "language": "python",
     "metadata": {},
     "outputs": [
      {
       "output_type": "stream",
       "stream": "stdout",
       "text": [
        "CPU times: user 3.86 s, sys: 6.85 s, total: 10.7 s\n",
        "Wall time: 14.9 s\n"
       ]
      }
     ],
     "prompt_number": 74
    },
    {
     "cell_type": "code",
     "collapsed": false,
     "input": [
      "print(explained_variance_score(y_vali_1, y_vali_1_etr_48))"
     ],
     "language": "python",
     "metadata": {},
     "outputs": [
      {
       "output_type": "stream",
       "stream": "stdout",
       "text": [
        "0.162364839916\n"
       ]
      }
     ],
     "prompt_number": 75
    },
    {
     "cell_type": "code",
     "collapsed": false,
     "input": [
      "%time etreg_1 = ExtraTreesRegressor(n_estimators=100, n_jobs=12).fit(X_train_1, y_train_1)"
     ],
     "language": "python",
     "metadata": {},
     "outputs": [
      {
       "output_type": "stream",
       "stream": "stdout",
       "text": [
        "CPU times: user 11.5 s, sys: 18.8 s, total: 30.3 s\n",
        "Wall time: 27min 56s\n"
       ]
      },
      {
       "metadata": {},
       "output_type": "pyout",
       "prompt_number": 19,
       "text": [
        "0.17222359928405084"
       ]
      }
     ],
     "prompt_number": 19
    },
    {
     "cell_type": "code",
     "collapsed": false,
     "input": [
      "%time y_vali_1_etreg = etreg_1.predict(X_vali_1)"
     ],
     "language": "python",
     "metadata": {},
     "outputs": [
      {
       "output_type": "stream",
       "stream": "stdout",
       "text": [
        "CPU times: user 5.64 s, sys: 9.9 s, total: 15.5 s\n",
        "Wall time: 22.2 s\n"
       ]
      }
     ],
     "prompt_number": 41
    },
    {
     "cell_type": "code",
     "collapsed": false,
     "input": [
      "print(explained_variance_score(y_vali_1, y_vali_1_etreg))"
     ],
     "language": "python",
     "metadata": {},
     "outputs": [
      {
       "output_type": "stream",
       "stream": "stdout",
       "text": [
        "0.17266164953\n"
       ]
      }
     ],
     "prompt_number": 43
    },
    {
     "cell_type": "code",
     "collapsed": false,
     "input": [
      "plt.hist(y_vali_1, bins=5, alpha=.3, color='b')\n",
      "plt.hist(y_vali_1_predicted, bins=5, alpha=.3, color='g')"
     ],
     "language": "python",
     "metadata": {},
     "outputs": [
      {
       "metadata": {},
       "output_type": "pyout",
       "prompt_number": 39,
       "text": [
        "(array([  1.46877000e+05,   8.43030000e+04,   3.61100000e+03,\n",
        "         3.50000000e+02,   1.18000000e+02]),\n",
        " array([ 0. ,  0.8,  1.6,  2.4,  3.2,  4. ]),\n",
        " <a list of 5 Patch objects>)"
       ]
      },
      {
       "metadata": {},
       "output_type": "display_data",
       "png": "[encoded data removed]",
       "text": [
        "<matplotlib.figure.Figure at 0x4d49610>"
       ]
      }
     ],
     "prompt_number": 39
    },
    {
     "cell_type": "code",
     "collapsed": false,
     "input": [
      "y_vali_1[qid_vali_1 == qid_vali_1[0]]"
     ],
     "language": "python",
     "metadata": {},
     "outputs": [
      {
       "metadata": {},
       "output_type": "pyout",
       "prompt_number": 46,
       "text": [
        "memmap([ 0.,  0.,  1.,  0.,  1.,  2.,  1.,  1.,  0.,  0.,  0.,  1.,  0.,\n",
        "        1.,  0.,  0.,  0.,  1.,  0.,  1.,  1.,  1.,  2.,  4.,  0.,  4.,\n",
        "        0.,  0.,  0.,  1.,  0.,  0.,  0.,  0.,  0.,  1.,  1.,  0.,  1.,\n",
        "        0.,  0.,  2.,  0.,  0.,  1.,  2.,  1.,  1.,  2.,  0.,  1.,  0.,\n",
        "        1.,  2.,  0.,  0.,  1.,  0.,  0.,  3.,  2.,  1.,  1.,  0.,  0.,\n",
        "        1.,  2.,  0.,  2.,  0.,  0.,  0.,  0.,  4.,  1.,  1.,  0.,  0.,\n",
        "        1.,  0.,  0.,  0.,  0.,  1.,  1.,  2.,  0.,  1.,  1.,  0.,  1.,\n",
        "        1.,  0.])"
       ]
      }
     ],
     "prompt_number": 46
    },
    {
     "cell_type": "code",
     "collapsed": false,
     "input": [
      "unique_qids_vali_1 = np.unique(qid_vali_1)"
     ],
     "language": "python",
     "metadata": {},
     "outputs": [],
     "prompt_number": 50
    },
    {
     "cell_type": "code",
     "collapsed": false,
     "input": [
      "for qid in unique_qids_vali_1[:10]:\n",
      "    qids = y_vali_1[qid_vali_1 == qid].astype(np.int)\n",
      "    print(np.bincount(qids, minlength=5))"
     ],
     "language": "python",
     "metadata": {},
     "outputs": [
      {
       "output_type": "stream",
       "stream": "stdout",
       "text": [
        "[47 32 10  1  3]\n",
        "[47 11  0  0  0]\n",
        "[78  4  2  0  0]\n",
        "[16 22 17  2  1]\n",
        "[71 54 36  1  1]\n",
        "[77 25 13  2  0]\n",
        "[37 46  3  1  1]\n",
        "[64 53 20  1  0]\n",
        "[41 30 13  0  0]\n",
        "[82 12  2  1  0]\n"
       ]
      }
     ],
     "prompt_number": 58
    },
    {
     "cell_type": "code",
     "collapsed": false,
     "input": [
      "%time lr = LinearRegression().fit(X_train_1, y_train_1)"
     ],
     "language": "python",
     "metadata": {},
     "outputs": [
      {
       "output_type": "stream",
       "stream": "stdout",
       "text": [
        "CPU times: user 30.2 s, sys: 1.3 s, total: 31.5 s\n",
        "Wall time: 29.4 s\n"
       ]
      }
     ],
     "prompt_number": 59
    },
    {
     "cell_type": "code",
     "collapsed": false,
     "input": [
      "%time y_vali_1_lr = lr.predict(X_vali_1)"
     ],
     "language": "python",
     "metadata": {},
     "outputs": [
      {
       "output_type": "stream",
       "stream": "stdout",
       "text": [
        "CPU times: user 192 ms, sys: 168 ms, total: 360 ms\n",
        "Wall time: 360 ms\n"
       ]
      }
     ],
     "prompt_number": 61
    },
    {
     "cell_type": "code",
     "collapsed": false,
     "input": [
      "print(r2_score(y_vali_1, y_vali_1_lr))"
     ],
     "language": "python",
     "metadata": {},
     "outputs": [
      {
       "output_type": "stream",
       "stream": "stdout",
       "text": [
        "0.12154585769\n"
       ]
      }
     ],
     "prompt_number": 62
    },
    {
     "cell_type": "code",
     "collapsed": false,
     "input": [
      "%time gbr = GradientBoostingRegressor(n_estimators=100).fit(X_train_1, y_train_1)"
     ],
     "language": "python",
     "metadata": {},
     "outputs": [
      {
       "output_type": "stream",
       "stream": "stdout",
       "text": [
        "CPU times: user 44min 17s, sys: 3.65 s, total: 44min 20s\n",
        "Wall time: 44min 26s\n"
       ]
      }
     ],
     "prompt_number": 66
    },
    {
     "cell_type": "code",
     "collapsed": false,
     "input": [
      "%time y_vali_1_gbr = gbr.predict(X_vali_1)"
     ],
     "language": "python",
     "metadata": {},
     "outputs": [
      {
       "output_type": "stream",
       "stream": "stdout",
       "text": [
        "CPU times: user 3.63 s, sys: 0 ns, total: 3.63 s\n",
        "Wall time: 3.64 s\n"
       ]
      }
     ],
     "prompt_number": 67
    },
    {
     "cell_type": "code",
     "collapsed": false,
     "input": [
      "print(r2_score(y_vali_1, y_vali_1_gbr))"
     ],
     "language": "python",
     "metadata": {},
     "outputs": [
      {
       "output_type": "stream",
       "stream": "stdout",
       "text": [
        "0.164737644799\n"
       ]
      }
     ],
     "prompt_number": 68
    },
    {
     "cell_type": "code",
     "collapsed": false,
     "input": [
      "%time X_train_1_argsorted = X_train_1.argsort(axis=0)"
     ],
     "language": "python",
     "metadata": {},
     "outputs": [
      {
       "output_type": "stream",
       "stream": "stdout",
       "text": [
        "CPU times: user 13.7 s, sys: 456 ms, total: 14.1 s\n",
        "Wall time: 14.2 s\n"
       ]
      }
     ],
     "prompt_number": 72
    },
    {
     "cell_type": "code",
     "collapsed": false,
     "input": [
      "X_train_1.dtype"
     ],
     "language": "python",
     "metadata": {},
     "outputs": [
      {
       "metadata": {},
       "output_type": "pyout",
       "prompt_number": 77,
       "text": [
        "dtype('float32')"
       ]
      }
     ],
     "prompt_number": 77
    },
    {
     "cell_type": "code",
     "collapsed": false,
     "input": [
      "y_vali_1.shape[0]"
     ],
     "language": "python",
     "metadata": {},
     "outputs": [
      {
       "metadata": {},
       "output_type": "pyout",
       "prompt_number": 79,
       "text": [
        "235259"
       ]
      }
     ],
     "prompt_number": 79
    },
    {
     "cell_type": "code",
     "collapsed": false,
     "input": [
      "subset = np.random.permutation(y_vali_1.shape[0])[:10000]"
     ],
     "language": "python",
     "metadata": {},
     "outputs": [],
     "prompt_number": 80
    },
    {
     "cell_type": "code",
     "collapsed": false,
     "input": [
      "plt.scatter(y_vali_1[subset], y_vali_1_etr_48[subset], alpha=0.01, s=100)\n",
      "plt.ylim(-1, 5)\n",
      "plt.xlim(-1, 5)"
     ],
     "language": "python",
     "metadata": {},
     "outputs": [
      {
       "metadata": {},
       "output_type": "pyout",
       "prompt_number": 89,
       "text": [
        "(-1, 5)"
       ]
      },
      {
       "metadata": {},
       "output_type": "display_data",
       "png": "[encoded data removed]",
       "text": [
        "<matplotlib.figure.Figure at 0x85b2f50>"
       ]
      }
     ],
     "prompt_number": 89
    },
    {
     "cell_type": "code",
     "collapsed": false,
     "input": [
      "plt.scatter(y_vali_1[subset], y_vali_1_lr[subset], alpha=0.01, s=100)\n",
      "plt.ylim(-1, 5)\n",
      "plt.xlim(-1, 5)"
     ],
     "language": "python",
     "metadata": {},
     "outputs": [
      {
       "metadata": {},
       "output_type": "pyout",
       "prompt_number": 88,
       "text": [
        "(-1, 5)"
       ]
      },
      {
       "metadata": {},
       "output_type": "display_data",
       "png": "[encoded data removed]",
       "text": [
        "<matplotlib.figure.Figure at 0x7245890>"
       ]
      }
     ],
     "prompt_number": 88
    },
    {
     "cell_type": "code",
     "collapsed": false,
     "input": [],
     "language": "python",
     "metadata": {},
     "outputs": []
    }
   ],
   "metadata": {}
  }
 ]
}