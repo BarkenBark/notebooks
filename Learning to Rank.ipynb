{
 "metadata": {
  "name": ""
 },
 "nbformat": 3,
 "nbformat_minor": 0,
 "worksheets": [
  {
   "cells": [
    {
     "cell_type": "code",
     "collapsed": false,
     "input": [
      "%matplotlib inline"
     ],
     "language": "python",
     "metadata": {},
     "outputs": [],
     "prompt_number": 1
    },
    {
     "cell_type": "code",
     "collapsed": false,
     "input": [
      "from os.path import expanduser, join\n",
      "import numpy as np\n",
      "import matplotlib.pyplot as plt\n",
      "\n",
      "from sklearn.metrics import r2_score\n",
      "from sklearn.metrics import explained_variance_score\n",
      "\n",
      "from sklearn.externals import joblib\n",
      "from sklearn.datasets import load_svmlight_file\n",
      "from sklearn.ensemble import ExtraTreesRegressor\n",
      "from sklearn.ensemble import GradientBoostingRegressor\n",
      "from sklearn.linear_model import LinearRegression"
     ],
     "language": "python",
     "metadata": {},
     "outputs": [],
     "prompt_number": 2
    },
    {
     "cell_type": "code",
     "collapsed": false,
     "input": [
      "#!rm -rf joblib"
     ],
     "language": "python",
     "metadata": {},
     "outputs": [],
     "prompt_number": 3
    },
    {
     "cell_type": "code",
     "collapsed": false,
     "input": [
      "DATA_FOLDER = expanduser('~/data/MSLR-WEB10K/')\n",
      "\n",
      "memory = joblib.Memory(cachedir='.', mmap_mode='r')\n",
      "\n",
      "@memory.cache\n",
      "def load_fold(subset, fold_idx=1, dtype=np.float32):\n",
      "    filepath = join(DATA_FOLDER, 'Fold%d' % fold_idx, subset + '.txt')\n",
      "    X, y, qid = load_svmlight_file(filepath, dtype=dtype, query_id=True)\n",
      "    return X.toarray(), y, qid"
     ],
     "language": "python",
     "metadata": {},
     "outputs": [],
     "prompt_number": 4
    },
    {
     "cell_type": "code",
     "collapsed": false,
     "input": [
      "X_train_1, y_train_1, qid_train_1 = load_fold('train', fold_idx=1)\n",
      "X_vali_1, y_vali_1, qid_vali_1 = load_fold('vali', fold_idx=1)"
     ],
     "language": "python",
     "metadata": {},
     "outputs": [],
     "prompt_number": 5
    },
    {
     "cell_type": "code",
     "collapsed": false,
     "input": [
      "X_train_1.shape"
     ],
     "language": "python",
     "metadata": {},
     "outputs": [
      {
       "metadata": {},
       "output_type": "pyout",
       "prompt_number": 6,
       "text": [
        "(723412, 136)"
       ]
      }
     ],
     "prompt_number": 6
    },
    {
     "cell_type": "code",
     "collapsed": false,
     "input": [
      "%time etr_4 = ExtraTreesRegressor(n_estimators=4, n_jobs=2, verbose=10).fit(X_train_1, y_train_1)"
     ],
     "language": "python",
     "metadata": {},
     "outputs": [
      {
       "output_type": "stream",
       "stream": "stdout",
       "text": [
        "CPU times: user 1.14 s, sys: 1.66 s, total: 2.8 s\n",
        "Wall time: 4min 22s\n",
        "building tree 1 of 2\n",
        "building tree 1 of 2\n",
        "building tree 2 of 2building tree 2 of 2\n",
        "\n"
       ]
      },
      {
       "output_type": "stream",
       "stream": "stderr",
       "text": [
        "[Parallel(n_jobs=2)]: Done   1 out of   2 | elapsed:  4.4min remaining:  4.4min\n",
        "[Parallel(n_jobs=2)]: Done   2 out of   2 | elapsed:  4.4min finished\n"
       ]
      }
     ],
     "prompt_number": 7
    },
    {
     "cell_type": "code",
     "collapsed": false,
     "input": [
      "%time y_vali_1_etr_4 = etr_4.predict(X_vali_1)"
     ],
     "language": "python",
     "metadata": {},
     "outputs": [
      {
       "output_type": "stream",
       "stream": "stderr",
       "text": [
        "[Parallel(n_jobs=2)]: Done   1 out of   2 | elapsed:    1.8s remaining:    1.8s\n",
        "[Parallel(n_jobs=2)]: Done   2 out of   2 | elapsed:    2.4s finished\n"
       ]
      },
      {
       "output_type": "stream",
       "stream": "stdout",
       "text": [
        "CPU times: user 366 ms, sys: 727 ms, total: 1.09 s\n",
        "Wall time: 2.56 s\n"
       ]
      }
     ],
     "prompt_number": 8
    },
    {
     "cell_type": "code",
     "collapsed": false,
     "input": [
      "print(explained_variance_score(y_vali_1, y_vali_1_etr_4))"
     ],
     "language": "python",
     "metadata": {},
     "outputs": [
      {
       "output_type": "stream",
       "stream": "stdout",
       "text": [
        "-0.032938503921\n"
       ]
      }
     ],
     "prompt_number": 11
    },
    {
     "cell_type": "code",
     "collapsed": false,
     "input": [
      "plt.hist(y_vali_1, bins=5, alpha=.3, color='b', label='true relevance')\n",
      "plt.hist(y_vali_1_etr_4, bins=5, alpha=.3, color='g', label='ET predicted relevance')\n",
      "plt.legend(loc='best')"
     ],
     "language": "python",
     "metadata": {},
     "outputs": [
      {
       "metadata": {},
       "output_type": "pyout",
       "prompt_number": 15,
       "text": [
        "<matplotlib.legend.Legend at 0x101816290>"
       ]
      },
      {
       "metadata": {},
       "output_type": "display_data",
       "png": "[encoded data removed]",
       "text": [
        "<matplotlib.figure.Figure at 0x10188f4d0>"
       ]
      }
     ],
     "prompt_number": 15
    },
    {
     "cell_type": "code",
     "collapsed": false,
     "input": [
      "y_vali_1[qid_vali_1 == qid_vali_1[0]]"
     ],
     "language": "python",
     "metadata": {},
     "outputs": [
      {
       "metadata": {},
       "output_type": "pyout",
       "prompt_number": 16,
       "text": [
        "memmap([ 0.,  0.,  1.,  0.,  1.,  2.,  1.,  1.,  0.,  0.,  0.,  1.,  0.,\n",
        "        1.,  0.,  0.,  0.,  1.,  0.,  1.,  1.,  1.,  2.,  4.,  0.,  4.,\n",
        "        0.,  0.,  0.,  1.,  0.,  0.,  0.,  0.,  0.,  1.,  1.,  0.,  1.,\n",
        "        0.,  0.,  2.,  0.,  0.,  1.,  2.,  1.,  1.,  2.,  0.,  1.,  0.,\n",
        "        1.,  2.,  0.,  0.,  1.,  0.,  0.,  3.,  2.,  1.,  1.,  0.,  0.,\n",
        "        1.,  2.,  0.,  2.,  0.,  0.,  0.,  0.,  4.,  1.,  1.,  0.,  0.,\n",
        "        1.,  0.,  0.,  0.,  0.,  1.,  1.,  2.,  0.,  1.,  1.,  0.,  1.,\n",
        "        1.,  0.])"
       ]
      }
     ],
     "prompt_number": 16
    },
    {
     "cell_type": "code",
     "collapsed": false,
     "input": [
      "unique_qids_vali_1 = np.unique(qid_vali_1)"
     ],
     "language": "python",
     "metadata": {},
     "outputs": [],
     "prompt_number": 17
    },
    {
     "cell_type": "code",
     "collapsed": false,
     "input": [
      "for qid in unique_qids_vali_1[:10]:\n",
      "    qids = y_vali_1[qid_vali_1 == qid].astype(np.int)\n",
      "    print(np.bincount(qids, minlength=5))"
     ],
     "language": "python",
     "metadata": {},
     "outputs": [
      {
       "output_type": "stream",
       "stream": "stdout",
       "text": [
        "[47 32 10  1  3]\n",
        "[47 11  0  0  0]\n",
        "[78  4  2  0  0]\n",
        "[16 22 17  2  1]\n",
        "[71 54 36  1  1]\n",
        "[77 25 13  2  0]\n",
        "[37 46  3  1  1]\n",
        "[64 53 20  1  0]\n",
        "[41 30 13  0  0]\n",
        "[82 12  2  1  0]\n"
       ]
      }
     ],
     "prompt_number": 20
    },
    {
     "cell_type": "code",
     "collapsed": false,
     "input": [
      "%time lr = LinearRegression().fit(X_train_1, y_train_1)"
     ],
     "language": "python",
     "metadata": {},
     "outputs": [
      {
       "output_type": "stream",
       "stream": "stdout",
       "text": [
        "CPU times: user 19.3 s, sys: 1.02 s, total: 20.4 s\n",
        "Wall time: 15 s\n"
       ]
      }
     ],
     "prompt_number": 64
    },
    {
     "cell_type": "code",
     "collapsed": false,
     "input": [
      "%time y_vali_1_lr = lr.predict(X_vali_1)\n",
      "print(r2_score(y_vali_1, y_vali_1_lr))"
     ],
     "language": "python",
     "metadata": {},
     "outputs": [
      {
       "output_type": "stream",
       "stream": "stdout",
       "text": [
        "CPU times: user 172 ms, sys: 110 ms, total: 282 ms\n",
        "Wall time: 241 ms\n",
        "0.121545872432\n"
       ]
      }
     ],
     "prompt_number": 58
    },
    {
     "cell_type": "code",
     "collapsed": false,
     "input": [
      "subset = np.random.permutation(y_vali_1.shape[0])[:10000]"
     ],
     "language": "python",
     "metadata": {},
     "outputs": [],
     "prompt_number": 53
    },
    {
     "cell_type": "code",
     "collapsed": false,
     "input": [
      "plt.title('Extra Trees predictions')\n",
      "plt.scatter(y_vali_1[subset], y_vali_1_etr_4[subset], alpha=0.01, s=100)\n",
      "plt.xlabel('True relevance')\n",
      "plt.ylabel('Predicted relevance')\n",
      "plt.ylim(-2, 5)\n",
      "plt.xlim(-2, 5)"
     ],
     "language": "python",
     "metadata": {},
     "outputs": [
      {
       "metadata": {},
       "output_type": "pyout",
       "prompt_number": 54,
       "text": [
        "(-2, 5)"
       ]
      },
      {
       "metadata": {},
       "output_type": "display_data",
       "png": "[encoded data removed]",
       "text": [
        "<matplotlib.figure.Figure at 0x101891710>"
       ]
      }
     ],
     "prompt_number": 54
    },
    {
     "cell_type": "code",
     "collapsed": false,
     "input": [
      "plt.title('Linear Regression predictions')\n",
      "plt.scatter(y_vali_1[subset], y_vali_1_lr[subset], alpha=0.01, s=100)\n",
      "plt.xlabel('True relevance')\n",
      "plt.ylabel('Predicted relevance')\n",
      "plt.ylim(-2, 5)\n",
      "plt.xlim(-2, 5)"
     ],
     "language": "python",
     "metadata": {},
     "outputs": [
      {
       "metadata": {},
       "output_type": "pyout",
       "prompt_number": 55,
       "text": [
        "(-2, 5)"
       ]
      },
      {
       "metadata": {},
       "output_type": "display_data",
       "png": "[encoded data removed]",
       "text": [
        "<matplotlib.figure.Figure at 0x101824a90>"
       ]
      }
     ],
     "prompt_number": 55
    },
    {
     "cell_type": "code",
     "collapsed": false,
     "input": [],
     "language": "python",
     "metadata": {},
     "outputs": []
    }
   ],
   "metadata": {}
  }
 ]
}