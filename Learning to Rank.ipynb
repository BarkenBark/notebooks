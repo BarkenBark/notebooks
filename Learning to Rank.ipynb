{
 "metadata": {
  "name": ""
 },
 "nbformat": 3,
 "nbformat_minor": 0,
 "worksheets": [
  {
   "cells": [
    {
     "cell_type": "code",
     "collapsed": false,
     "input": [
      "%matplotlib inline"
     ],
     "language": "python",
     "metadata": {},
     "outputs": [],
     "prompt_number": 1
    },
    {
     "cell_type": "code",
     "collapsed": false,
     "input": [
      "from os.path import expanduser, join\n",
      "import numpy as np\n",
      "import matplotlib.pyplot as plt\n",
      "\n",
      "from sklearn.metrics import r2_score\n",
      "from sklearn.metrics import explained_variance_score\n",
      "\n",
      "from sklearn.externals import joblib\n",
      "from sklearn.datasets import load_svmlight_file\n",
      "from sklearn.ensemble import ExtraTreesRegressor\n",
      "from sklearn.ensemble import GradientBoostingRegressor\n",
      "from sklearn.linear_model import LinearRegression"
     ],
     "language": "python",
     "metadata": {},
     "outputs": [],
     "prompt_number": 2
    },
    {
     "cell_type": "code",
     "collapsed": false,
     "input": [
      "#!rm -rf joblib"
     ],
     "language": "python",
     "metadata": {},
     "outputs": [],
     "prompt_number": 3
    },
    {
     "cell_type": "code",
     "collapsed": false,
     "input": [
      "memory = joblib.Memory(cachedir='.', mmap_mode='r')\n",
      "\n",
      "@memory.cache\n",
      "def load_fold(dataset, subset, fold_idx=1, dtype=np.float32):\n",
      "    DATA_FOLDER = expanduser('~/data')\n",
      "    filepath = join(DATA_FOLDER, dataset, 'Fold%d' % fold_idx, subset + '.txt')\n",
      "    X, y, qid = load_svmlight_file(filepath, dtype=dtype, query_id=True)\n",
      "    return X.toarray(), y, qid"
     ],
     "language": "python",
     "metadata": {},
     "outputs": [],
     "prompt_number": 4
    },
    {
     "cell_type": "code",
     "collapsed": false,
     "input": [
      "# X_train_1, y_train_1, qid_train_1 = load_fold('MQ2007','train', fold_idx=1)\n",
      "# X_vali_1, y_vali_1, qid_vali_1 = load_fold('MQ2007', 'vali', fold_idx=1)\n",
      "X_train_1, y_train_1, qid_train_1 = load_fold('MSLR-WEB10K','train', fold_idx=1)\n",
      "X_vali_1, y_vali_1, qid_vali_1 = load_fold('MSLR-WEB10K', 'vali', fold_idx=1)\n",
      "X_test_1, y_test_1, qid_test_1 = load_fold('MSLR-WEB10K', 'test', fold_idx=1)"
     ],
     "language": "python",
     "metadata": {},
     "outputs": [],
     "prompt_number": 90
    },
    {
     "cell_type": "code",
     "collapsed": false,
     "input": [
      "(X_train_1.nbytes + X_vali_1.nbytes + X_test_1.nbytes) / 1e6"
     ],
     "language": "python",
     "metadata": {},
     "outputs": [
      {
       "metadata": {},
       "output_type": "pyout",
       "prompt_number": 93,
       "text": [
        "652.904448"
       ]
      }
     ],
     "prompt_number": 93
    },
    {
     "cell_type": "code",
     "collapsed": false,
     "input": [
      "%%time\n",
      "\n",
      "np.savez_compressed(expanduser('~/data/MSLR-WEB10K/data_fold1.npz'),\n",
      "                    X_train=X_train_1, y_train=y_train_1, qid_train=qid_train_1,\n",
      "                    X_vali=X_vali_1, y_vali=y_vali_1, qid_vali=qid_vali_1,\n",
      "                    X_test=X_test_1, y_test=y_test_1, qid_test=qid_test_1)"
     ],
     "language": "python",
     "metadata": {},
     "outputs": [
      {
       "output_type": "stream",
       "stream": "stdout",
       "text": [
        "CPU times: user 35.4 s, sys: 0 ns, total: 35.4 s\n",
        "Wall time: 52.7 s\n"
       ]
      }
     ],
     "prompt_number": 95
    },
    {
     "cell_type": "code",
     "collapsed": false,
     "input": [
      "def dcg(relevances, rank=10):\n",
      "    \"\"\"Discounted cumulative gain at rank (DCG)\"\"\"\n",
      "    relevances = np.asarray(relevances)[:rank]\n",
      "    n_relevances = len(relevances)\n",
      "    if n_relevances == 0:\n",
      "        return 0.\n",
      "\n",
      "    discounts = np.log2(np.arange(n_relevances) + 2)\n",
      "    return np.sum(relevances / discounts)\n",
      " \n",
      " \n",
      "def ndcg(relevances, rank=10):\n",
      "    \"\"\"Normalized discounted cumulative gain (NDGC)\"\"\"\n",
      "    best_dcg = dcg(sorted(relevances, reverse=True), rank)\n",
      "    if best_dcg == 0:\n",
      "        return 0.\n",
      "\n",
      "    return dcg(relevances, rank) / best_dcg"
     ],
     "language": "python",
     "metadata": {},
     "outputs": [],
     "prompt_number": 84
    },
    {
     "cell_type": "code",
     "collapsed": false,
     "input": [
      "ndcg([2, 4, 0, 1, 1, 0, 0], rank=5)"
     ],
     "language": "python",
     "metadata": {},
     "outputs": [
      {
       "metadata": {},
       "output_type": "pyout",
       "prompt_number": 85,
       "text": [
        "0.86253003992915656"
       ]
      }
     ],
     "prompt_number": 85
    },
    {
     "cell_type": "code",
     "collapsed": false,
     "input": [
      "ndcg([0, 0, 0, 1, 1, 2, 4], rank=5)"
     ],
     "language": "python",
     "metadata": {},
     "outputs": [
      {
       "metadata": {},
       "output_type": "pyout",
       "prompt_number": 86,
       "text": [
        "0.13201850690866795"
       ]
      }
     ],
     "prompt_number": 86
    },
    {
     "cell_type": "code",
     "collapsed": false,
     "input": [
      "ndcg([0, 0, 0, 1, 1, 2, 4], rank=3)"
     ],
     "language": "python",
     "metadata": {},
     "outputs": [
      {
       "metadata": {},
       "output_type": "pyout",
       "prompt_number": 87,
       "text": [
        "0.0"
       ]
      }
     ],
     "prompt_number": 87
    },
    {
     "cell_type": "code",
     "collapsed": false,
     "input": [
      "ndcg([4, 2, 1, 1, 0, 0, 0], rank=5)"
     ],
     "language": "python",
     "metadata": {},
     "outputs": [
      {
       "metadata": {},
       "output_type": "pyout",
       "prompt_number": 88,
       "text": [
        "1.0"
       ]
      }
     ],
     "prompt_number": 88
    },
    {
     "cell_type": "code",
     "collapsed": false,
     "input": [
      "def mean_ndcg(y_true, y_pred, query_ids, rank=10):\n",
      "    y_true = np.asarray(y_true)\n",
      "    y_pred = np.asarray(y_pred)\n",
      "    query_ids = np.asarray(query_ids)\n",
      "    # assume query_ids are sorted\n",
      "    ndcg_scores = []\n",
      "    previous_qid = query_ids[0]\n",
      "    previous_loc = 0\n",
      "    for loc, qid in enumerate(query_ids):\n",
      "        if previous_qid != qid:\n",
      "            chunk = slice(previous_loc, loc)\n",
      "            ranked_relevances = y_true[chunk][np.argsort(y_pred[chunk])[::-1]]\n",
      "            ndcg_scores.append(ndcg(ranked_relevances, rank=rank))\n",
      "            previous_loc = loc\n",
      "        previous_qid = qid\n",
      "\n",
      "    chunk = slice(previous_loc, loc + 1)\n",
      "    ranked_relevances = y_true[chunk][np.argsort(y_pred[chunk])[::-1]]\n",
      "    ndcg_scores.append(ndcg(ranked_relevances, rank=rank))\n",
      "    return np.mean(ndcg_scores)\n",
      "\n",
      "\n",
      "mean_ndcg([4, 3, 1, 4, 3], [4, 0, 1, 4, 2], [0, 0, 0, 2, 2])"
     ],
     "language": "python",
     "metadata": {},
     "outputs": [
      {
       "metadata": {},
       "output_type": "pyout",
       "prompt_number": 42,
       "text": [
        "0.9795191506818377"
       ]
      }
     ],
     "prompt_number": 42
    },
    {
     "cell_type": "code",
     "collapsed": false,
     "input": [
      "X_train_1.shape"
     ],
     "language": "python",
     "metadata": {},
     "outputs": [
      {
       "metadata": {},
       "output_type": "pyout",
       "prompt_number": 7,
       "text": [
        "(723412, 136)"
       ]
      }
     ],
     "prompt_number": 7
    },
    {
     "cell_type": "code",
     "collapsed": false,
     "input": [
      "sample_weight = None\n",
      "#sample_weight = (y_train_1 + 1) ** 2\n",
      "etr = ExtraTreesRegressor(n_estimators=10, n_jobs=8)\n",
      "%time etr.fit(X_train_1, y_train_1, sample_weight=sample_weight)"
     ],
     "language": "python",
     "metadata": {},
     "outputs": [
      {
       "output_type": "stream",
       "stream": "stdout",
       "text": [
        "CPU times: user 6.37 s, sys: 7.78 s, total: 14.1 s\n",
        "Wall time: 5min 6s\n"
       ]
      },
      {
       "output_type": "stream",
       "stream": "stderr",
       "text": [
        "Exception AttributeError: AttributeError(\"'NoneType' object has no attribute 'tell'\",) in Exception AttributeError: AttributeError(\"'NoneType' object has no attribute 'tell'\",) in <bound method memmap.__del__ of memmap([ 2.])> ignored\n",
        "Exception AttributeError: AttributeError(\"'NoneType' object has no attribute 'tell'\",) in Exception AttributeError: AttributeError(\"'NoneType' object has no attribute 'tell'\",) in <bound method memmap.__del__ of memmap([ 2.])> ignored\n",
        "Exception AttributeError: AttributeError(\"'NoneType' object has no attribute 'tell'\",) in Exception AttributeError: AttributeError(\"'NoneType' object has no attribute 'tell'\",) in <bound method memmap.__del__ of memmap([ 2.])> ignored\n",
        "Exception AttributeError: AttributeError(\"'NoneType' object has no attribute 'tell'\",) in Exception AttributeError: AttributeError(\"'NoneType' object has no attribute 'tell'\",) in <bound method memmap.__del__ of memmap([ 2.])> ignored\n",
        "Exception AttributeError: AttributeError(\"'NoneType' object has no attribute 'tell'\",) in Exception AttributeError: AttributeError(\"'NoneType' object has no attribute 'tell'\",) in <bound method memmap.__del__ of memmap([ 2.])> ignored\n",
        "Exception AttributeError: AttributeError(\"'NoneType' object has no attribute 'tell'\",) in Exception AttributeError: AttributeError(\"'NoneType' object has no attribute 'tell'\",) in <bound method memmap.__del__ of memmap([ 2.])> ignored\n",
        "Exception AttributeError: AttributeError(\"'NoneType' object has no attribute 'tell'\",) in Exception AttributeError: AttributeError(\"'NoneType' object has no attribute 'tell'\",) in <bound method memmap.__del__ of memmap([ 2.])> ignored\n",
        "Exception AttributeError: AttributeError(\"'NoneType' object has no attribute 'tell'\",) in Exception AttributeError: AttributeError(\"'NoneType' object has no attribute 'tell'\",) in <bound method memmap.__del__ of memmap([ 2.])> ignored\n"
       ]
      },
      {
       "metadata": {},
       "output_type": "pyout",
       "prompt_number": 50,
       "text": [
        "ExtraTreesRegressor(bootstrap=False, compute_importances=None,\n",
        "          criterion='mse', max_depth=None, max_features='auto',\n",
        "          min_density=None, min_samples_leaf=1, min_samples_split=2,\n",
        "          n_estimators=10, n_jobs=8, oob_score=False, random_state=None,\n",
        "          verbose=0)"
       ]
      }
     ],
     "prompt_number": 50
    },
    {
     "cell_type": "code",
     "collapsed": false,
     "input": [
      "%time y_vali_1_etr = etr.predict(X_vali_1)"
     ],
     "language": "python",
     "metadata": {},
     "outputs": [
      {
       "output_type": "stream",
       "stream": "stdout",
       "text": [
        "CPU times: user 2.06 s, sys: 2.68 s, total: 4.73 s\n",
        "Wall time: 6.38 s\n"
       ]
      }
     ],
     "prompt_number": 51
    },
    {
     "cell_type": "code",
     "collapsed": false,
     "input": [
      "print(explained_variance_score(y_vali_1, y_vali_1_etr))"
     ],
     "language": "python",
     "metadata": {},
     "outputs": [
      {
       "output_type": "stream",
       "stream": "stdout",
       "text": [
        "0.0956747133562\n"
       ]
      }
     ],
     "prompt_number": 53
    },
    {
     "cell_type": "code",
     "collapsed": false,
     "input": [
      "print(mean_ndcg(y_vali_1, y_vali_1_etr, qid_vali_1))"
     ],
     "language": "python",
     "metadata": {},
     "outputs": [
      {
       "output_type": "stream",
       "stream": "stdout",
       "text": [
        "0.4659376172\n"
       ]
      }
     ],
     "prompt_number": 54
    },
    {
     "cell_type": "code",
     "collapsed": false,
     "input": [
      "plt.hist(y_vali_1, bins=5, alpha=.3, color='b', label='true relevance')\n",
      "plt.hist(y_vali_1_etr, bins=5, alpha=.3, color='g', label='ET predicted relevance')\n",
      "plt.legend(loc='best')"
     ],
     "language": "python",
     "metadata": {},
     "outputs": [
      {
       "metadata": {},
       "output_type": "pyout",
       "prompt_number": 16,
       "text": [
        "<matplotlib.legend.Legend at 0x4d62710>"
       ]
      },
      {
       "metadata": {},
       "output_type": "display_data",
       "png": "[encoded data removed]",
       "text": [
        "<matplotlib.figure.Figure at 0x4d05cd0>"
       ]
      }
     ],
     "prompt_number": 16
    },
    {
     "cell_type": "code",
     "collapsed": false,
     "input": [
      "unique_qids_vali_1 = np.unique(qid_vali_1)"
     ],
     "language": "python",
     "metadata": {},
     "outputs": [],
     "prompt_number": 17
    },
    {
     "cell_type": "code",
     "collapsed": false,
     "input": [
      "for qid in unique_qids_vali_1[:10]:\n",
      "    qids = y_vali_1[qid_vali_1 == qid].astype(np.int)\n",
      "    print(np.bincount(qids, minlength=5))"
     ],
     "language": "python",
     "metadata": {},
     "outputs": [
      {
       "output_type": "stream",
       "stream": "stdout",
       "text": [
        "[47 32 10  1  3]\n",
        "[47 11  0  0  0]\n",
        "[78  4  2  0  0]\n",
        "[16 22 17  2  1]\n",
        "[71 54 36  1  1]\n",
        "[77 25 13  2  0]\n",
        "[37 46  3  1  1]\n",
        "[64 53 20  1  0]\n",
        "[41 30 13  0  0]\n",
        "[82 12  2  1  0]\n"
       ]
      }
     ],
     "prompt_number": 19
    },
    {
     "cell_type": "code",
     "collapsed": false,
     "input": [
      "%time lr = LinearRegression().fit(X_train_1, y_train_1)"
     ],
     "language": "python",
     "metadata": {},
     "outputs": [
      {
       "output_type": "stream",
       "stream": "stdout",
       "text": [
        "CPU times: user 40.4 s, sys: 4min 19s, total: 5min\n",
        "Wall time: 20.9 s\n"
       ]
      }
     ],
     "prompt_number": 20
    },
    {
     "cell_type": "code",
     "collapsed": false,
     "input": [
      "%time y_vali_1_lr = lr.predict(X_vali_1)\n",
      "print(r2_score(y_vali_1, y_vali_1_lr))"
     ],
     "language": "python",
     "metadata": {},
     "outputs": [
      {
       "output_type": "stream",
       "stream": "stdout",
       "text": [
        "CPU times: user 204 ms, sys: 1.27 s, total: 1.47 s\n",
        "Wall time: 245 ms\n",
        "0.121545846424\n"
       ]
      }
     ],
     "prompt_number": 21
    },
    {
     "cell_type": "code",
     "collapsed": false,
     "input": [
      "print(mean_ndcg(y_vali_1, y_vali_1_lr, qid_vali_1))"
     ],
     "language": "python",
     "metadata": {},
     "outputs": [
      {
       "output_type": "stream",
       "stream": "stdout",
       "text": [
        "0.455929044413\n"
       ]
      }
     ],
     "prompt_number": 44
    },
    {
     "cell_type": "code",
     "collapsed": false,
     "input": [
      "subset = np.random.permutation(y_vali_1.shape[0])[:10000]"
     ],
     "language": "python",
     "metadata": {},
     "outputs": [],
     "prompt_number": 22
    },
    {
     "cell_type": "code",
     "collapsed": false,
     "input": [
      "plt.title('Extra Trees predictions')\n",
      "plt.scatter(y_vali_1[subset], y_vali_1_etr[subset], alpha=0.01, s=100)\n",
      "plt.xlabel('True relevance')\n",
      "plt.ylabel('Predicted relevance')\n",
      "plt.ylim(-2, 5)\n",
      "plt.xlim(-2, 5)"
     ],
     "language": "python",
     "metadata": {},
     "outputs": [
      {
       "metadata": {},
       "output_type": "pyout",
       "prompt_number": 25,
       "text": [
        "(-2, 5)"
       ]
      },
      {
       "metadata": {},
       "output_type": "display_data",
       "png": "[encoded data removed]",
       "text": [
        "<matplotlib.figure.Figure at 0x5846390>"
       ]
      }
     ],
     "prompt_number": 25
    },
    {
     "cell_type": "code",
     "collapsed": false,
     "input": [
      "plt.title('Linear Regression predictions')\n",
      "plt.scatter(y_vali_1[subset], y_vali_1_lr[subset], alpha=0.01, s=100)\n",
      "plt.xlabel('True relevance')\n",
      "plt.ylabel('Predicted relevance')\n",
      "plt.ylim(-2, 5)\n",
      "plt.xlim(-2, 5)"
     ],
     "language": "python",
     "metadata": {},
     "outputs": [
      {
       "metadata": {},
       "output_type": "pyout",
       "prompt_number": 26,
       "text": [
        "(-2, 5)"
       ]
      },
      {
       "metadata": {},
       "output_type": "display_data",
       "png": "[encoded data removed]",
       "text": [
        "<matplotlib.figure.Figure at 0x58ff8d0>"
       ]
      }
     ],
     "prompt_number": 26
    },
    {
     "cell_type": "code",
     "collapsed": false,
     "input": [],
     "language": "python",
     "metadata": {},
     "outputs": []
    }
   ],
   "metadata": {}
  }
 ]
}